{
  "cells": [
    {
      "cell_type": "markdown",
      "metadata": {
        "id": "9Gf9CF0JW_4j"
      },
      "source": [
        "# -----------------------------------------------------------------------------------------------------------"
      ]
    },
    {
      "cell_type": "markdown",
      "metadata": {
        "id": "7QmQyd7RW_4l"
      },
      "source": [
        "# [유통 빅데이터 분석 프로젝트]"
      ]
    },
    {
      "cell_type": "markdown",
      "metadata": {
        "id": "s33LI4JIW_4l"
      },
      "source": [
        "#### A2조 : 강지우 김연경 김호준 노소은 박나희 조현영"
      ]
    },
    {
      "cell_type": "markdown",
      "metadata": {
        "id": "hEc7YnppW_4l"
      },
      "source": [
        "# -----------------------------------------------------------------------------------------------------------"
      ]
    },
    {
      "cell_type": "markdown",
      "metadata": {
        "id": "z3fsp7V7W_4m"
      },
      "source": [
        "----------------------------------------------------------------------------------------"
      ]
    },
    {
      "cell_type": "markdown",
      "metadata": {
        "id": "ib5bQ9lRW_4m"
      },
      "source": [
        "## Step0. 모듈 불러오기"
      ]
    },
    {
      "cell_type": "code",
      "execution_count": null,
      "metadata": {
        "id": "RGRmMknXW_4m"
      },
      "outputs": [],
      "source": [
        "import pandas as pd \n",
        "import numpy as np\n",
        "import matplotlib\n",
        "import matplotlib.pyplot as plt\n",
        "import seaborn as sns\n",
        "import statsmodels.formula.api as sml\n",
        "import statsmodels.formula.api as smf\n",
        "import statsmodels.api as sm\n",
        "import scipy.stats\n",
        "import graphviz\n",
        "from scipy import stats\n",
        "from scipy.stats import shapiro\n",
        "from statsmodels.formula.api import ols\n",
        "from statsmodels.stats.outliers_influence import variance_inflation_factor\n",
        "from statsmodels.stats.proportion import proportions_ztest\n",
        "from statsmodels.stats.anova import anova_lm\n",
        "from statsmodels.tools.eval_measures import rmse\n",
        "from statsmodels.api import qqplot, add_constant\n",
        "from statsmodels.api import qqplot, add_constant\n",
        "from sklearn.linear_model import LinearRegression\n",
        "from sklearn.linear_model import Ridge, Lasso, ElasticNet\n",
        "from sklearn.preprocessing import StandardScaler\n",
        "from sklearn.feature_selection import RFE\n",
        "from sklearn.model_selection import GridSearchCV\n",
        "from sklearn.model_selection import train_test_split\n",
        "from sklearn.tree import export_graphviz\n",
        "from sklearn.tree import DecisionTreeRegressor\n",
        "from sklearn.ensemble import GradientBoostingRegressor\n",
        "from sklearn.ensemble import RandomForestRegressor \n",
        "from sklearn.metrics import mean_squared_error\n",
        "from sklearn.metrics import mean_absolute_error\n",
        "from sklearn.preprocessing import StandardScaler\n",
        "from statsmodels.api import Logit\n",
        "\n",
        "from sklearn.decomposition import PCA\n",
        "%matplotlib inline\n",
        "from sklearn.linear_model import LogisticRegression\n",
        "plt.rcParams['font.family'] = 'Noto Sans CJK JP'\n",
        "from sklearn.metrics import accuracy_score, confusion_matrix, recall_score, precision_score\n",
        "# df_raw = pd.read_csv(\"\", encoding = 'cp949')\n",
        "# df_raw.head()\n",
        "plt.rcParams[\"font.family\"] = \"NanumGothic\"\n",
        "path = 'C:/Program Files/Graphviz/bin'"
      ]
    },
    {
      "cell_type": "markdown",
      "metadata": {
        "id": "zH-PzW7ZW_4n"
      },
      "source": [
        "# -----------------------------------------------------------------------------------------------------------"
      ]
    },
    {
      "cell_type": "markdown",
      "metadata": {
        "id": "pj5ndHE0W_4n"
      },
      "source": [
        "----------------------------------------------------------------------------------------"
      ]
    },
    {
      "cell_type": "markdown",
      "metadata": {
        "id": "5kmgaX-wW_4n"
      },
      "source": [
        "## Step1. 변수 별 데이터 분포 확인"
      ]
    },
    {
      "cell_type": "markdown",
      "metadata": {
        "id": "bz8ue-o9W_4n"
      },
      "source": [
        "### ■ jeju_member "
      ]
    },
    {
      "cell_type": "markdown",
      "metadata": {
        "id": "mshurquDW_4n"
      },
      "source": [
        "### Step1-1.  jeju_member 데이터 불러오기"
      ]
    },
    {
      "cell_type": "code",
      "execution_count": null,
      "metadata": {
        "id": "MvSAjakEW_4o",
        "outputId": "8939549a-3130-4416-de8f-39db3013f73e"
      },
      "outputs": [
        {
          "name": "stdout",
          "output_type": "stream",
          "text": [
            "<class 'pandas.core.frame.DataFrame'>\n",
            "RangeIndex: 6013 entries, 0 to 6012\n",
            "Data columns (total 20 columns):\n",
            " #   Column          Non-Null Count  Dtype \n",
            "---  ------          --------------  ----- \n",
            " 0   customer_id     6013 non-null   object\n",
            " 1   birth_date      6013 non-null   object\n",
            " 2   gender          6013 non-null   object\n",
            " 3   age             6013 non-null   int64 \n",
            " 4   agegroup        6013 non-null   object\n",
            " 5   customer_type   6013 non-null   object\n",
            " 6   customer_grade  6013 non-null   object\n",
            " 7   gaip_date       6013 non-null   object\n",
            " 8   taltoi_date     634 non-null    object\n",
            " 9   member_month    6013 non-null   int64 \n",
            " 10  gaip_path       6013 non-null   object\n",
            " 11  flag_member     6013 non-null   object\n",
            " 12  flag_rcv_sms    6013 non-null   object\n",
            " 13  flag_rcv_email  6013 non-null   object\n",
            " 14  flag_rcv_post   6013 non-null   object\n",
            " 15  zipcode         6013 non-null   object\n",
            " 16  sigun           6013 non-null   object\n",
            " 17  dong            6013 non-null   object\n",
            " 18  ri              2443 non-null   object\n",
            " 19  address         6013 non-null   object\n",
            "dtypes: int64(2), object(18)\n",
            "memory usage: 939.7+ KB\n"
          ]
        }
      ],
      "source": [
        "df_raw = pd.read_csv(\"C:/Users/소은/Desktop/A2_유통/jeju_member.csv\")\n",
        "df_raw.info()"
      ]
    },
    {
      "cell_type": "markdown",
      "metadata": {
        "id": "jrCaNlDwW_4o"
      },
      "source": [
        "### Step1-2.  jeju_member 요약통계량 확인"
      ]
    },
    {
      "cell_type": "code",
      "execution_count": null,
      "metadata": {
        "id": "vqu8QeMPW_4o",
        "outputId": "a5ecfd9f-dd53-4d34-ee2c-2237e29ef0a7"
      },
      "outputs": [
        {
          "data": {
            "text/html": [
              "<div>\n",
              "<style scoped>\n",
              "    .dataframe tbody tr th:only-of-type {\n",
              "        vertical-align: middle;\n",
              "    }\n",
              "\n",
              "    .dataframe tbody tr th {\n",
              "        vertical-align: top;\n",
              "    }\n",
              "\n",
              "    .dataframe thead th {\n",
              "        text-align: right;\n",
              "    }\n",
              "</style>\n",
              "<table border=\"1\" class=\"dataframe\">\n",
              "  <thead>\n",
              "    <tr style=\"text-align: right;\">\n",
              "      <th></th>\n",
              "      <th>age</th>\n",
              "      <th>member_month</th>\n",
              "    </tr>\n",
              "  </thead>\n",
              "  <tbody>\n",
              "    <tr>\n",
              "      <th>count</th>\n",
              "      <td>6013.000</td>\n",
              "      <td>6013.000</td>\n",
              "    </tr>\n",
              "    <tr>\n",
              "      <th>mean</th>\n",
              "      <td>48.165</td>\n",
              "      <td>32.725</td>\n",
              "    </tr>\n",
              "    <tr>\n",
              "      <th>std</th>\n",
              "      <td>9.904</td>\n",
              "      <td>27.281</td>\n",
              "    </tr>\n",
              "    <tr>\n",
              "      <th>min</th>\n",
              "      <td>24.000</td>\n",
              "      <td>0.000</td>\n",
              "    </tr>\n",
              "    <tr>\n",
              "      <th>25%</th>\n",
              "      <td>41.000</td>\n",
              "      <td>13.000</td>\n",
              "    </tr>\n",
              "    <tr>\n",
              "      <th>50%</th>\n",
              "      <td>47.000</td>\n",
              "      <td>26.000</td>\n",
              "    </tr>\n",
              "    <tr>\n",
              "      <th>75%</th>\n",
              "      <td>54.000</td>\n",
              "      <td>41.000</td>\n",
              "    </tr>\n",
              "    <tr>\n",
              "      <th>max</th>\n",
              "      <td>90.000</td>\n",
              "      <td>131.000</td>\n",
              "    </tr>\n",
              "  </tbody>\n",
              "</table>\n",
              "</div>"
            ],
            "text/plain": [
              "            age  member_month\n",
              "count  6013.000      6013.000\n",
              "mean     48.165        32.725\n",
              "std       9.904        27.281\n",
              "min      24.000         0.000\n",
              "25%      41.000        13.000\n",
              "50%      47.000        26.000\n",
              "75%      54.000        41.000\n",
              "max      90.000       131.000"
            ]
          },
          "execution_count": 15,
          "metadata": {},
          "output_type": "execute_result"
        }
      ],
      "source": [
        "df_raw.describe().round(3)"
      ]
    },
    {
      "cell_type": "markdown",
      "metadata": {
        "id": "AglqrtcSW_4o"
      },
      "source": [
        "### Step1-3.  jeju_member 데이터 분포도 확인"
      ]
    },
    {
      "cell_type": "markdown",
      "metadata": {
        "id": "aSHJHcx7W_4o"
      },
      "source": [
        "#### (1) 성별 데이터 변수 분포도 확인"
      ]
    },
    {
      "cell_type": "code",
      "execution_count": null,
      "metadata": {
        "id": "LDYltZjbW_4o",
        "outputId": "398c730d-2feb-4459-9004-db326faf9ca9"
      },
      "outputs": [
        {
          "data": {
            "text/plain": [
              "<matplotlib.axes._subplots.AxesSubplot at 0x27e26454b08>"
            ]
          },
          "execution_count": 16,
          "metadata": {},
          "output_type": "execute_result"
        },
        {
          "data": {
            "image/png": "[encoded data removed]",
            "text/plain": [
              "<Figure size 432x288 with 1 Axes>"
            ]
          },
          "metadata": {
            "needs_background": "light"
          },
          "output_type": "display_data"
        }
      ],
      "source": [
        "sns.countplot(x = 'gender', data = df_raw)"
      ]
    },
    {
      "cell_type": "markdown",
      "metadata": {
        "id": "fSZicWPhW_4p"
      },
      "source": [
        "#### (2) 조합원 등급 변수 데이터 분포도 확인"
      ]
    },
    {
      "cell_type": "code",
      "execution_count": null,
      "metadata": {
        "id": "h-wVLNgjW_4p",
        "outputId": "f2078674-a35a-4904-976d-a2db43b04678"
      },
      "outputs": [
        {
          "data": {
            "text/plain": [
              "<matplotlib.axes._subplots.AxesSubplot at 0x27e26bc21c8>"
            ]
          },
          "execution_count": 17,
          "metadata": {},
          "output_type": "execute_result"
        },
        {
          "data": {
            "image/png": "[encoded data removed]",
            "text/plain": [
              "<Figure size 432x288 with 1 Axes>"
            ]
          },
          "metadata": {
            "needs_background": "light"
          },
          "output_type": "display_data"
        }
      ],
      "source": [
        "sns.countplot(x = 'customer_grade', data = df_raw)"
      ]
    },
    {
      "cell_type": "markdown",
      "metadata": {
        "id": "98XMvvSVW_4p"
      },
      "source": [
        "#### (3) 가입경로 변수 데이터 분포도 확인"
      ]
    },
    {
      "cell_type": "code",
      "execution_count": null,
      "metadata": {
        "id": "bNAcm4MVW_4p",
        "outputId": "f8a6d450-feef-4f32-c50a-6be11e360632"
      },
      "outputs": [
        {
          "data": {
            "text/plain": [
              "매장       3312\n",
              "인터넷      1289\n",
              "전화       1118\n",
              "기타        256\n",
              "활동가방문      24\n",
              "생산지방문      14\n",
              "Name: gaip_path, dtype: int64"
            ]
          },
          "execution_count": 18,
          "metadata": {},
          "output_type": "execute_result"
        },
        {
          "data": {
            "image/png": "[encoded data removed]",
            "text/plain": [
              "<Figure size 432x288 with 1 Axes>"
            ]
          },
          "metadata": {
            "needs_background": "light"
          },
          "output_type": "display_data"
        }
      ],
      "source": [
        "sns.countplot(x = 'gaip_path', data = df_raw) #가입 경로\n",
        "df_raw_count = df_raw[\"gaip_path\"].value_counts()\n",
        "df_raw_count"
      ]
    },
    {
      "cell_type": "markdown",
      "metadata": {
        "id": "7p6zMfR-W_4p"
      },
      "source": [
        "#### (4) 고객 여부 변수 데이터 분포도 확인"
      ]
    },
    {
      "cell_type": "code",
      "execution_count": null,
      "metadata": {
        "id": "S0rk_wn2W_4p",
        "outputId": "003605f8-a56c-426e-e48e-d74b43c35d3e"
      },
      "outputs": [
        {
          "data": {
            "text/plain": [
              "Y    5379\n",
              "N     634\n",
              "Name: flag_member, dtype: int64"
            ]
          },
          "execution_count": 19,
          "metadata": {},
          "output_type": "execute_result"
        },
        {
          "data": {
            "image/png": "[encoded data removed]",
            "text/plain": [
              "<Figure size 432x288 with 1 Axes>"
            ]
          },
          "metadata": {
            "needs_background": "light"
          },
          "output_type": "display_data"
        }
      ],
      "source": [
        "sns.countplot(x = 'flag_member', data = df_raw) #고객여부\n",
        "df_raw_count = df_raw[\"flag_member\"].value_counts()\n",
        "df_raw_count"
      ]
    },
    {
      "cell_type": "markdown",
      "metadata": {
        "id": "thXQ0_VtW_4p"
      },
      "source": [
        "#### (5) sms 수신 여부 변수 데이터 분포도 확인"
      ]
    },
    {
      "cell_type": "code",
      "execution_count": null,
      "metadata": {
        "id": "b3IuhzPVW_4p",
        "outputId": "255b6c6c-9152-42ed-fb6f-fa6b642bb228"
      },
      "outputs": [
        {
          "data": {
            "text/plain": [
              "Y    4684\n",
              "N    1329\n",
              "Name: flag_rcv_sms, dtype: int64"
            ]
          },
          "execution_count": 20,
          "metadata": {},
          "output_type": "execute_result"
        },
        {
          "data": {
            "image/png": "[encoded data removed]",
            "text/plain": [
              "<Figure size 432x288 with 1 Axes>"
            ]
          },
          "metadata": {
            "needs_background": "light"
          },
          "output_type": "display_data"
        }
      ],
      "source": [
        "sns.countplot(x = 'flag_rcv_sms', data = df_raw) #SMS 수신여부\n",
        "df_raw_count = df_raw[\"flag_rcv_sms\"].value_counts()\n",
        "df_raw_count"
      ]
    },
    {
      "cell_type": "markdown",
      "metadata": {
        "id": "UnBPchZHW_4q"
      },
      "source": [
        "#### (6) e-mail 수신 여부 변수 데이터 분포도 확인"
      ]
    },
    {
      "cell_type": "code",
      "execution_count": null,
      "metadata": {
        "id": "6NPNp7tLW_4q",
        "outputId": "ea4c8009-7af9-47d9-9bb9-3d4b33b18ad6"
      },
      "outputs": [
        {
          "data": {
            "text/plain": [
              "Y    3829\n",
              "N    2184\n",
              "Name: flag_rcv_email, dtype: int64"
            ]
          },
          "execution_count": 21,
          "metadata": {},
          "output_type": "execute_result"
        },
        {
          "data": {
            "image/png": "[encoded data removed]",
            "text/plain": [
              "<Figure size 432x288 with 1 Axes>"
            ]
          },
          "metadata": {
            "needs_background": "light"
          },
          "output_type": "display_data"
        }
      ],
      "source": [
        "sns.countplot(x = 'flag_rcv_email', data = df_raw) #Email 수신여부\n",
        "df_raw_count = df_raw[\"flag_rcv_email\"].value_counts()\n",
        "df_raw_count"
      ]
    },
    {
      "cell_type": "markdown",
      "metadata": {
        "id": "m9vaVKQ1W_4q"
      },
      "source": [
        "#### (7) post 수신 여부 변수 데이터 분포도 확인"
      ]
    },
    {
      "cell_type": "code",
      "execution_count": null,
      "metadata": {
        "id": "1rUS2MMTW_4q",
        "outputId": "e682270d-a24e-45e9-d23b-a929141fb1e7"
      },
      "outputs": [
        {
          "data": {
            "text/plain": [
              "Y    4337\n",
              "N    1676\n",
              "Name: flag_rcv_post, dtype: int64"
            ]
          },
          "execution_count": 22,
          "metadata": {},
          "output_type": "execute_result"
        },
        {
          "data": {
            "image/png": "[encoded data removed]",
            "text/plain": [
              "<Figure size 432x288 with 1 Axes>"
            ]
          },
          "metadata": {
            "needs_background": "light"
          },
          "output_type": "display_data"
        }
      ],
      "source": [
        "sns.countplot(x = 'flag_rcv_post', data = df_raw) #우편 수신 여부\n",
        "df_raw_count = df_raw[\"flag_rcv_post\"].value_counts()\n",
        "df_raw_count"
      ]
    },
    {
      "cell_type": "markdown",
      "metadata": {
        "id": "sX6HfJBFW_4q"
      },
      "source": [
        "#### (8) 시(주소) 변수 데이터 분포도 확인"
      ]
    },
    {
      "cell_type": "code",
      "execution_count": null,
      "metadata": {
        "scrolled": true,
        "id": "ZnUPWLISW_4q",
        "outputId": "b0bcc332-259e-4e4f-aeb3-560aa82cf122"
      },
      "outputs": [
        {
          "data": {
            "text/plain": [
              "제주시     4057\n",
              "서귀포시    1956\n",
              "Name: sigun, dtype: int64"
            ]
          },
          "execution_count": 23,
          "metadata": {},
          "output_type": "execute_result"
        },
        {
          "data": {
            "image/png": "[encoded data removed]",
            "text/plain": [
              "<Figure size 432x288 with 1 Axes>"
            ]
          },
          "metadata": {
            "needs_background": "light"
          },
          "output_type": "display_data"
        }
      ],
      "source": [
        "sns.countplot(x = 'sigun', data = df_raw)\n",
        "df_raw_count = df_raw[\"sigun\"].value_counts()\n",
        "df_raw_count"
      ]
    },
    {
      "cell_type": "markdown",
      "metadata": {
        "id": "QftKn_UjW_4q"
      },
      "source": [
        "#### (9) 나이, 회원기간(월) 변수 데이터 분포도 확인"
      ]
    },
    {
      "cell_type": "code",
      "execution_count": null,
      "metadata": {
        "scrolled": true,
        "id": "5frfs0BbW_4q",
        "outputId": "529adcfb-9fd2-47dc-b100-abcb80c31635"
      },
      "outputs": [
        {
          "data": {
            "image/png": "[encoded data removed]",
            "text/plain": [
              "<Figure size 864x288 with 2 Axes>"
            ]
          },
          "metadata": {
            "needs_background": "light"
          },
          "output_type": "display_data"
        }
      ],
      "source": [
        "df_raw.hist(figsize = (12, 4))\n",
        "plt.show()"
      ]
    },
    {
      "cell_type": "markdown",
      "metadata": {
        "id": "RQnIavz9W_4r"
      },
      "source": [
        "----------------------------------------------------------------------------------------"
      ]
    },
    {
      "cell_type": "markdown",
      "metadata": {
        "id": "wT30pPSHW_4r"
      },
      "source": [
        "### ■ jeju_sales"
      ]
    },
    {
      "cell_type": "markdown",
      "metadata": {
        "id": "oE-5pt0LW_4r"
      },
      "source": [
        "### Step1-4.  jeju_sales 데이터 불러오기"
      ]
    },
    {
      "cell_type": "code",
      "execution_count": 1,
      "metadata": {
        "colab": {
          "base_uri": "https://localhost:8080/",
          "height": 188
        },
        "id": "w3WGTw90W_4r",
        "outputId": "ee6a2211-fdc0-4a41-dfda-3f342b5f6c42"
      },
      "outputs": [
        {
          "output_type": "error",
          "ename": "NameError",
          "evalue": "ignored",
          "traceback": [
            "\u001b[0;31m---------------------------------------------------------------------------\u001b[0m",
            "\u001b[0;31mNameError\u001b[0m                                 Traceback (most recent call last)",
            "\u001b[0;32m<ipython-input-1-f0326cd84267>\u001b[0m in \u001b[0;36m<module>\u001b[0;34m\u001b[0m\n\u001b[0;32m----> 1\u001b[0;31m \u001b[0mdf_raw1\u001b[0m \u001b[0;34m=\u001b[0m \u001b[0mpd\u001b[0m\u001b[0;34m.\u001b[0m\u001b[0mread_csv\u001b[0m\u001b[0;34m(\u001b[0m\u001b[0;34m\"C:/Users/소은/Desktop/A2_유통/jeju_sales.csv\"\u001b[0m\u001b[0;34m)\u001b[0m\u001b[0;34m\u001b[0m\u001b[0;34m\u001b[0m\u001b[0m\n\u001b[0m\u001b[1;32m      2\u001b[0m \u001b[0mdf_raw1\u001b[0m\u001b[0;34m.\u001b[0m\u001b[0minfo\u001b[0m\u001b[0;34m(\u001b[0m\u001b[0;34m)\u001b[0m\u001b[0;34m\u001b[0m\u001b[0;34m\u001b[0m\u001b[0m\n",
            "\u001b[0;31mNameError\u001b[0m: name 'pd' is not defined"
          ]
        }
      ],
      "source": [
        "df_raw1 = pd.read_csv(\"C:/Users/소은/Desktop/A2_유통/jeju_sales.csv\")\n",
        "df_raw1.info()"
      ]
    },
    {
      "cell_type": "code",
      "execution_count": null,
      "metadata": {
        "id": "uQPHAKm2W_4r"
      },
      "outputs": [],
      "source": [
        "df_raw1.describe().round(3)"
      ]
    },
    {
      "cell_type": "markdown",
      "metadata": {
        "id": "T7KakiHHW_4r"
      },
      "source": [
        "### Step1-5.  jeju_sales 요약통계량 확인"
      ]
    },
    {
      "cell_type": "markdown",
      "metadata": {
        "id": "K6Z8nimCW_4r"
      },
      "source": [
        "#### (1) 구매요일 변수 데이터 분포도 확인"
      ]
    },
    {
      "cell_type": "code",
      "execution_count": null,
      "metadata": {
        "id": "i44Hw6LbW_4r",
        "outputId": "52f10770-238b-4735-da20-17d402fbe525"
      },
      "outputs": [
        {
          "data": {
            "text/plain": [
              "월요일    48683\n",
              "금요일    47409\n",
              "화요일    44791\n",
              "목요일    44063\n",
              "수요일    41845\n",
              "토요일    36288\n",
              "일요일    10243\n",
              "Name: purchase_weekday, dtype: int64"
            ]
          },
          "execution_count": 27,
          "metadata": {},
          "output_type": "execute_result"
        },
        {
          "data": {
            "image/png": "[encoded data removed]",
            "text/plain": [
              "<Figure size 432x288 with 1 Axes>"
            ]
          },
          "metadata": {
            "needs_background": "light"
          },
          "output_type": "display_data"
        }
      ],
      "source": [
        "sns.countplot(x = 'purchase_weekday', data = df_raw1)\n",
        "df_raw_count1 = df_raw1[\"purchase_weekday\"].value_counts()\n",
        "df_raw_count1"
      ]
    },
    {
      "cell_type": "markdown",
      "metadata": {
        "id": "JsTlaBPxW_4r"
      },
      "source": [
        "#### (2) 제품 대분류 변수 데이터 분포도 확인"
      ]
    },
    {
      "cell_type": "code",
      "execution_count": null,
      "metadata": {
        "id": "AFgtmmJ2W_4r",
        "outputId": "4b568be5-eada-4b69-9196-e1617a85952d"
      },
      "outputs": [
        {
          "data": {
            "text/plain": [
              "채소       76954\n",
              "간식       69697\n",
              "축산물      46921\n",
              "반찬       43885\n",
              "양념/가루    26917\n",
              "주곡        8948\n",
              "Name: item_g_l, dtype: int64"
            ]
          },
          "execution_count": 28,
          "metadata": {},
          "output_type": "execute_result"
        },
        {
          "data": {
            "image/png": "[encoded data removed]",
            "text/plain": [
              "<Figure size 432x288 with 1 Axes>"
            ]
          },
          "metadata": {
            "needs_background": "light"
          },
          "output_type": "display_data"
        }
      ],
      "source": [
        "sns.countplot(x = 'item_g_l', data = df_raw1)\n",
        "df_raw_count1 = df_raw1[\"item_g_l\"].value_counts()\n",
        "df_raw_count1"
      ]
    },
    {
      "cell_type": "markdown",
      "metadata": {
        "id": "IfsNlbp-W_4s"
      },
      "source": [
        "#### (3) 제품 중분류 변수 데이터 분포도 확인"
      ]
    },
    {
      "cell_type": "code",
      "execution_count": null,
      "metadata": {
        "id": "wkwex7S1W_4s",
        "outputId": "b0c29371-5977-48e7-80bc-eecbbca3ad7c"
      },
      "outputs": [
        {
          "data": {
            "text/plain": [
              "잎채소         24425\n",
              "과자          23361\n",
              "두부/유부       19626\n",
              "밀가공         16783\n",
              "유제품         14518\n",
              "육가공         13442\n",
              "빵           12660\n",
              "열매채소        11757\n",
              "밑반찬         10773\n",
              "유정란         10464\n",
              "양념채소        10146\n",
              "식사대용         9296\n",
              "가루           8924\n",
              "뿌리채소         8402\n",
              "버섯           7537\n",
              "멥쌀           7258\n",
              "어묵/묵         6729\n",
              "소스/기타양념      6494\n",
              "말린나물/건재      6128\n",
              "과일채소         5790\n",
              "장            5692\n",
              "떡            4991\n",
              "기름/식초        4774\n",
              "한우           3774\n",
              "절임/장아찌       2744\n",
              "잼/병조림/기타     2606\n",
              "돼지           2479\n",
              "김치           2055\n",
              "즉석조리         1958\n",
              "잎/줄기채소       1733\n",
              "찹쌀           1690\n",
              "닭            1558\n",
              "소금           1033\n",
              "꿀             671\n",
              "쌈채소류          661\n",
              "김장채소          219\n",
              "특용작물          156\n",
              "오리             15\n",
              "Name: item_g_m, dtype: int64"
            ]
          },
          "execution_count": 29,
          "metadata": {},
          "output_type": "execute_result"
        },
        {
          "data": {
            "image/png": "[encoded data removed]",
            "text/plain": [
              "<Figure size 432x288 with 1 Axes>"
            ]
          },
          "metadata": {
            "needs_background": "light"
          },
          "output_type": "display_data"
        }
      ],
      "source": [
        "sns.countplot(x = 'item_g_m', data = df_raw1)\n",
        "df_raw_count1 = df_raw1[\"item_g_m\"].value_counts()\n",
        "df_raw_count1"
      ]
    },
    {
      "cell_type": "markdown",
      "metadata": {
        "id": "8QCzbd5_W_4s"
      },
      "source": [
        "#### (4) 제품 대분류에 따른 제품 중분류 변수 데이터 분포도 확인"
      ]
    },
    {
      "cell_type": "code",
      "execution_count": null,
      "metadata": {
        "scrolled": true,
        "id": "Qb_3uj0QW_4s",
        "outputId": "264055c6-94fc-4ca0-ee14-3855b99521dd"
      },
      "outputs": [
        {
          "data": {
            "text/html": [
              "<style  type=\"text/css\" >\n",
              "    #T_8b1376be_4497_11ec_bf37_0c7a15d41812row0_col0 {\n",
              "            background-color:  #fff7fb;\n",
              "            color:  #000000;\n",
              "        }    #T_8b1376be_4497_11ec_bf37_0c7a15d41812row0_col1 {\n",
              "            background-color:  #fff7fb;\n",
              "            color:  #000000;\n",
              "        }    #T_8b1376be_4497_11ec_bf37_0c7a15d41812row0_col2 {\n",
              "            background-color:  #b5c4df;\n",
              "            color:  #000000;\n",
              "        }    #T_8b1376be_4497_11ec_bf37_0c7a15d41812row0_col3 {\n",
              "            background-color:  #fff7fb;\n",
              "            color:  #000000;\n",
              "        }    #T_8b1376be_4497_11ec_bf37_0c7a15d41812row0_col4 {\n",
              "            background-color:  #fff7fb;\n",
              "            color:  #000000;\n",
              "        }    #T_8b1376be_4497_11ec_bf37_0c7a15d41812row0_col5 {\n",
              "            background-color:  #fff7fb;\n",
              "            color:  #000000;\n",
              "        }    #T_8b1376be_4497_11ec_bf37_0c7a15d41812row0_col6 {\n",
              "            background-color:  #faf3f9;\n",
              "            color:  #000000;\n",
              "        }    #T_8b1376be_4497_11ec_bf37_0c7a15d41812row1_col0 {\n",
              "            background-color:  #fff7fb;\n",
              "            color:  #000000;\n",
              "        }    #T_8b1376be_4497_11ec_bf37_0c7a15d41812row1_col1 {\n",
              "            background-color:  #fff7fb;\n",
              "            color:  #000000;\n",
              "        }    #T_8b1376be_4497_11ec_bf37_0c7a15d41812row1_col2 {\n",
              "            background-color:  #fff7fb;\n",
              "            color:  #000000;\n",
              "        }    #T_8b1376be_4497_11ec_bf37_0c7a15d41812row1_col3 {\n",
              "            background-color:  #fff7fb;\n",
              "            color:  #000000;\n",
              "        }    #T_8b1376be_4497_11ec_bf37_0c7a15d41812row1_col4 {\n",
              "            background-color:  #f4edf6;\n",
              "            color:  #000000;\n",
              "        }    #T_8b1376be_4497_11ec_bf37_0c7a15d41812row1_col5 {\n",
              "            background-color:  #fff7fb;\n",
              "            color:  #000000;\n",
              "        }    #T_8b1376be_4497_11ec_bf37_0c7a15d41812row1_col6 {\n",
              "            background-color:  #fcf4fa;\n",
              "            color:  #000000;\n",
              "        }    #T_8b1376be_4497_11ec_bf37_0c7a15d41812row2_col0 {\n",
              "            background-color:  #b4c4df;\n",
              "            color:  #000000;\n",
              "        }    #T_8b1376be_4497_11ec_bf37_0c7a15d41812row2_col1 {\n",
              "            background-color:  #fff7fb;\n",
              "            color:  #000000;\n",
              "        }    #T_8b1376be_4497_11ec_bf37_0c7a15d41812row2_col2 {\n",
              "            background-color:  #fff7fb;\n",
              "            color:  #000000;\n",
              "        }    #T_8b1376be_4497_11ec_bf37_0c7a15d41812row2_col3 {\n",
              "            background-color:  #fff7fb;\n",
              "            color:  #000000;\n",
              "        }    #T_8b1376be_4497_11ec_bf37_0c7a15d41812row2_col4 {\n",
              "            background-color:  #fff7fb;\n",
              "            color:  #000000;\n",
              "        }    #T_8b1376be_4497_11ec_bf37_0c7a15d41812row2_col5 {\n",
              "            background-color:  #fff7fb;\n",
              "            color:  #000000;\n",
              "        }    #T_8b1376be_4497_11ec_bf37_0c7a15d41812row2_col6 {\n",
              "            background-color:  #f2ecf5;\n",
              "            color:  #000000;\n",
              "        }    #T_8b1376be_4497_11ec_bf37_0c7a15d41812row3_col0 {\n",
              "            background-color:  #fff7fb;\n",
              "            color:  #000000;\n",
              "        }    #T_8b1376be_4497_11ec_bf37_0c7a15d41812row3_col1 {\n",
              "            background-color:  #fff7fb;\n",
              "            color:  #000000;\n",
              "        }    #T_8b1376be_4497_11ec_bf37_0c7a15d41812row3_col2 {\n",
              "            background-color:  #e0deed;\n",
              "            color:  #000000;\n",
              "        }    #T_8b1376be_4497_11ec_bf37_0c7a15d41812row3_col3 {\n",
              "            background-color:  #fff7fb;\n",
              "            color:  #000000;\n",
              "        }    #T_8b1376be_4497_11ec_bf37_0c7a15d41812row3_col4 {\n",
              "            background-color:  #fff7fb;\n",
              "            color:  #000000;\n",
              "        }    #T_8b1376be_4497_11ec_bf37_0c7a15d41812row3_col5 {\n",
              "            background-color:  #fff7fb;\n",
              "            color:  #000000;\n",
              "        }    #T_8b1376be_4497_11ec_bf37_0c7a15d41812row3_col6 {\n",
              "            background-color:  #fdf5fa;\n",
              "            color:  #000000;\n",
              "        }    #T_8b1376be_4497_11ec_bf37_0c7a15d41812row4_col0 {\n",
              "            background-color:  #fff7fb;\n",
              "            color:  #000000;\n",
              "        }    #T_8b1376be_4497_11ec_bf37_0c7a15d41812row4_col1 {\n",
              "            background-color:  #fff7fb;\n",
              "            color:  #000000;\n",
              "        }    #T_8b1376be_4497_11ec_bf37_0c7a15d41812row4_col2 {\n",
              "            background-color:  #fff7fb;\n",
              "            color:  #000000;\n",
              "        }    #T_8b1376be_4497_11ec_bf37_0c7a15d41812row4_col3 {\n",
              "            background-color:  #fff7fb;\n",
              "            color:  #000000;\n",
              "        }    #T_8b1376be_4497_11ec_bf37_0c7a15d41812row4_col4 {\n",
              "            background-color:  #fff7fb;\n",
              "            color:  #000000;\n",
              "        }    #T_8b1376be_4497_11ec_bf37_0c7a15d41812row4_col5 {\n",
              "            background-color:  #fff7fb;\n",
              "            color:  #000000;\n",
              "        }    #T_8b1376be_4497_11ec_bf37_0c7a15d41812row4_col6 {\n",
              "            background-color:  #fff7fb;\n",
              "            color:  #000000;\n",
              "        }    #T_8b1376be_4497_11ec_bf37_0c7a15d41812row5_col0 {\n",
              "            background-color:  #fff7fb;\n",
              "            color:  #000000;\n",
              "        }    #T_8b1376be_4497_11ec_bf37_0c7a15d41812row5_col1 {\n",
              "            background-color:  #f8f1f8;\n",
              "            color:  #000000;\n",
              "        }    #T_8b1376be_4497_11ec_bf37_0c7a15d41812row5_col2 {\n",
              "            background-color:  #fff7fb;\n",
              "            color:  #000000;\n",
              "        }    #T_8b1376be_4497_11ec_bf37_0c7a15d41812row5_col3 {\n",
              "            background-color:  #fff7fb;\n",
              "            color:  #000000;\n",
              "        }    #T_8b1376be_4497_11ec_bf37_0c7a15d41812row5_col4 {\n",
              "            background-color:  #fff7fb;\n",
              "            color:  #000000;\n",
              "        }    #T_8b1376be_4497_11ec_bf37_0c7a15d41812row5_col5 {\n",
              "            background-color:  #fff7fb;\n",
              "            color:  #000000;\n",
              "        }    #T_8b1376be_4497_11ec_bf37_0c7a15d41812row5_col6 {\n",
              "            background-color:  #fef6fb;\n",
              "            color:  #000000;\n",
              "        }    #T_8b1376be_4497_11ec_bf37_0c7a15d41812row6_col0 {\n",
              "            background-color:  #fff7fb;\n",
              "            color:  #000000;\n",
              "        }    #T_8b1376be_4497_11ec_bf37_0c7a15d41812row6_col1 {\n",
              "            background-color:  #fff7fb;\n",
              "            color:  #000000;\n",
              "        }    #T_8b1376be_4497_11ec_bf37_0c7a15d41812row6_col2 {\n",
              "            background-color:  #fff7fb;\n",
              "            color:  #000000;\n",
              "        }    #T_8b1376be_4497_11ec_bf37_0c7a15d41812row6_col3 {\n",
              "            background-color:  #fff7fb;\n",
              "            color:  #000000;\n",
              "        }    #T_8b1376be_4497_11ec_bf37_0c7a15d41812row6_col4 {\n",
              "            background-color:  #fff7fb;\n",
              "            color:  #000000;\n",
              "        }    #T_8b1376be_4497_11ec_bf37_0c7a15d41812row6_col5 {\n",
              "            background-color:  #fdf5fa;\n",
              "            color:  #000000;\n",
              "        }    #T_8b1376be_4497_11ec_bf37_0c7a15d41812row6_col6 {\n",
              "            background-color:  #fff7fb;\n",
              "            color:  #000000;\n",
              "        }    #T_8b1376be_4497_11ec_bf37_0c7a15d41812row7_col0 {\n",
              "            background-color:  #fff7fb;\n",
              "            color:  #000000;\n",
              "        }    #T_8b1376be_4497_11ec_bf37_0c7a15d41812row7_col1 {\n",
              "            background-color:  #fff7fb;\n",
              "            color:  #000000;\n",
              "        }    #T_8b1376be_4497_11ec_bf37_0c7a15d41812row7_col2 {\n",
              "            background-color:  #fff7fb;\n",
              "            color:  #000000;\n",
              "        }    #T_8b1376be_4497_11ec_bf37_0c7a15d41812row7_col3 {\n",
              "            background-color:  #fff7fb;\n",
              "            color:  #000000;\n",
              "        }    #T_8b1376be_4497_11ec_bf37_0c7a15d41812row7_col4 {\n",
              "            background-color:  #fff7fb;\n",
              "            color:  #000000;\n",
              "        }    #T_8b1376be_4497_11ec_bf37_0c7a15d41812row7_col5 {\n",
              "            background-color:  #faf3f9;\n",
              "            color:  #000000;\n",
              "        }    #T_8b1376be_4497_11ec_bf37_0c7a15d41812row7_col6 {\n",
              "            background-color:  #fef6fb;\n",
              "            color:  #000000;\n",
              "        }    #T_8b1376be_4497_11ec_bf37_0c7a15d41812row8_col0 {\n",
              "            background-color:  #fff7fb;\n",
              "            color:  #000000;\n",
              "        }    #T_8b1376be_4497_11ec_bf37_0c7a15d41812row8_col1 {\n",
              "            background-color:  #fff7fb;\n",
              "            color:  #000000;\n",
              "        }    #T_8b1376be_4497_11ec_bf37_0c7a15d41812row8_col2 {\n",
              "            background-color:  #fff7fb;\n",
              "            color:  #000000;\n",
              "        }    #T_8b1376be_4497_11ec_bf37_0c7a15d41812row8_col3 {\n",
              "            background-color:  #fff7fb;\n",
              "            color:  #000000;\n",
              "        }    #T_8b1376be_4497_11ec_bf37_0c7a15d41812row8_col4 {\n",
              "            background-color:  #fff7fb;\n",
              "            color:  #000000;\n",
              "        }    #T_8b1376be_4497_11ec_bf37_0c7a15d41812row8_col5 {\n",
              "            background-color:  #f7f0f7;\n",
              "            color:  #000000;\n",
              "        }    #T_8b1376be_4497_11ec_bf37_0c7a15d41812row8_col6 {\n",
              "            background-color:  #fef6fa;\n",
              "            color:  #000000;\n",
              "        }    #T_8b1376be_4497_11ec_bf37_0c7a15d41812row9_col0 {\n",
              "            background-color:  #fff7fb;\n",
              "            color:  #000000;\n",
              "        }    #T_8b1376be_4497_11ec_bf37_0c7a15d41812row9_col1 {\n",
              "            background-color:  #89b1d4;\n",
              "            color:  #000000;\n",
              "        }    #T_8b1376be_4497_11ec_bf37_0c7a15d41812row9_col2 {\n",
              "            background-color:  #fff7fb;\n",
              "            color:  #000000;\n",
              "        }    #T_8b1376be_4497_11ec_bf37_0c7a15d41812row9_col3 {\n",
              "            background-color:  #fff7fb;\n",
              "            color:  #000000;\n",
              "        }    #T_8b1376be_4497_11ec_bf37_0c7a15d41812row9_col4 {\n",
              "            background-color:  #fff7fb;\n",
              "            color:  #000000;\n",
              "        }    #T_8b1376be_4497_11ec_bf37_0c7a15d41812row9_col5 {\n",
              "            background-color:  #fff7fb;\n",
              "            color:  #000000;\n",
              "        }    #T_8b1376be_4497_11ec_bf37_0c7a15d41812row9_col6 {\n",
              "            background-color:  #f4eef6;\n",
              "            color:  #000000;\n",
              "        }    #T_8b1376be_4497_11ec_bf37_0c7a15d41812row10_col0 {\n",
              "            background-color:  #f4eef6;\n",
              "            color:  #000000;\n",
              "        }    #T_8b1376be_4497_11ec_bf37_0c7a15d41812row10_col1 {\n",
              "            background-color:  #fff7fb;\n",
              "            color:  #000000;\n",
              "        }    #T_8b1376be_4497_11ec_bf37_0c7a15d41812row10_col2 {\n",
              "            background-color:  #fff7fb;\n",
              "            color:  #000000;\n",
              "        }    #T_8b1376be_4497_11ec_bf37_0c7a15d41812row10_col3 {\n",
              "            background-color:  #fff7fb;\n",
              "            color:  #000000;\n",
              "        }    #T_8b1376be_4497_11ec_bf37_0c7a15d41812row10_col4 {\n",
              "            background-color:  #fff7fb;\n",
              "            color:  #000000;\n",
              "        }    #T_8b1376be_4497_11ec_bf37_0c7a15d41812row10_col5 {\n",
              "            background-color:  #fff7fb;\n",
              "            color:  #000000;\n",
              "        }    #T_8b1376be_4497_11ec_bf37_0c7a15d41812row10_col6 {\n",
              "            background-color:  #fdf5fa;\n",
              "            color:  #000000;\n",
              "        }    #T_8b1376be_4497_11ec_bf37_0c7a15d41812row11_col0 {\n",
              "            background-color:  #fff7fb;\n",
              "            color:  #000000;\n",
              "        }    #T_8b1376be_4497_11ec_bf37_0c7a15d41812row11_col1 {\n",
              "            background-color:  #fff7fb;\n",
              "            color:  #000000;\n",
              "        }    #T_8b1376be_4497_11ec_bf37_0c7a15d41812row11_col2 {\n",
              "            background-color:  #fff7fb;\n",
              "            color:  #000000;\n",
              "        }    #T_8b1376be_4497_11ec_bf37_0c7a15d41812row11_col3 {\n",
              "            background-color:  #fff7fb;\n",
              "            color:  #000000;\n",
              "        }    #T_8b1376be_4497_11ec_bf37_0c7a15d41812row11_col4 {\n",
              "            background-color:  #f3edf5;\n",
              "            color:  #000000;\n",
              "        }    #T_8b1376be_4497_11ec_bf37_0c7a15d41812row11_col5 {\n",
              "            background-color:  #fff7fb;\n",
              "            color:  #000000;\n",
              "        }    #T_8b1376be_4497_11ec_bf37_0c7a15d41812row11_col6 {\n",
              "            background-color:  #fcf4fa;\n",
              "            color:  #000000;\n",
              "        }    #T_8b1376be_4497_11ec_bf37_0c7a15d41812row12_col0 {\n",
              "            background-color:  #fff7fb;\n",
              "            color:  #000000;\n",
              "        }    #T_8b1376be_4497_11ec_bf37_0c7a15d41812row12_col1 {\n",
              "            background-color:  #fff7fb;\n",
              "            color:  #000000;\n",
              "        }    #T_8b1376be_4497_11ec_bf37_0c7a15d41812row12_col2 {\n",
              "            background-color:  #fff7fb;\n",
              "            color:  #000000;\n",
              "        }    #T_8b1376be_4497_11ec_bf37_0c7a15d41812row12_col3 {\n",
              "            background-color:  #05659f;\n",
              "            color:  #f1f1f1;\n",
              "        }    #T_8b1376be_4497_11ec_bf37_0c7a15d41812row12_col4 {\n",
              "            background-color:  #fff7fb;\n",
              "            color:  #000000;\n",
              "        }    #T_8b1376be_4497_11ec_bf37_0c7a15d41812row12_col5 {\n",
              "            background-color:  #fff7fb;\n",
              "            color:  #000000;\n",
              "        }    #T_8b1376be_4497_11ec_bf37_0c7a15d41812row12_col6 {\n",
              "            background-color:  #fbf4f9;\n",
              "            color:  #000000;\n",
              "        }    #T_8b1376be_4497_11ec_bf37_0c7a15d41812row13_col0 {\n",
              "            background-color:  #d2d3e7;\n",
              "            color:  #000000;\n",
              "        }    #T_8b1376be_4497_11ec_bf37_0c7a15d41812row13_col1 {\n",
              "            background-color:  #fff7fb;\n",
              "            color:  #000000;\n",
              "        }    #T_8b1376be_4497_11ec_bf37_0c7a15d41812row13_col2 {\n",
              "            background-color:  #fff7fb;\n",
              "            color:  #000000;\n",
              "        }    #T_8b1376be_4497_11ec_bf37_0c7a15d41812row13_col3 {\n",
              "            background-color:  #fff7fb;\n",
              "            color:  #000000;\n",
              "        }    #T_8b1376be_4497_11ec_bf37_0c7a15d41812row13_col4 {\n",
              "            background-color:  #fff7fb;\n",
              "            color:  #000000;\n",
              "        }    #T_8b1376be_4497_11ec_bf37_0c7a15d41812row13_col5 {\n",
              "            background-color:  #fff7fb;\n",
              "            color:  #000000;\n",
              "        }    #T_8b1376be_4497_11ec_bf37_0c7a15d41812row13_col6 {\n",
              "            background-color:  #f6eff7;\n",
              "            color:  #000000;\n",
              "        }    #T_8b1376be_4497_11ec_bf37_0c7a15d41812row14_col0 {\n",
              "            background-color:  #fff7fb;\n",
              "            color:  #000000;\n",
              "        }    #T_8b1376be_4497_11ec_bf37_0c7a15d41812row14_col1 {\n",
              "            background-color:  #d2d2e7;\n",
              "            color:  #000000;\n",
              "        }    #T_8b1376be_4497_11ec_bf37_0c7a15d41812row14_col2 {\n",
              "            background-color:  #fff7fb;\n",
              "            color:  #000000;\n",
              "        }    #T_8b1376be_4497_11ec_bf37_0c7a15d41812row14_col3 {\n",
              "            background-color:  #fff7fb;\n",
              "            color:  #000000;\n",
              "        }    #T_8b1376be_4497_11ec_bf37_0c7a15d41812row14_col4 {\n",
              "            background-color:  #fff7fb;\n",
              "            color:  #000000;\n",
              "        }    #T_8b1376be_4497_11ec_bf37_0c7a15d41812row14_col5 {\n",
              "            background-color:  #fff7fb;\n",
              "            color:  #000000;\n",
              "        }    #T_8b1376be_4497_11ec_bf37_0c7a15d41812row14_col6 {\n",
              "            background-color:  #f9f2f8;\n",
              "            color:  #000000;\n",
              "        }    #T_8b1376be_4497_11ec_bf37_0c7a15d41812row15_col0 {\n",
              "            background-color:  #fff7fb;\n",
              "            color:  #000000;\n",
              "        }    #T_8b1376be_4497_11ec_bf37_0c7a15d41812row15_col1 {\n",
              "            background-color:  #fff7fb;\n",
              "            color:  #000000;\n",
              "        }    #T_8b1376be_4497_11ec_bf37_0c7a15d41812row15_col2 {\n",
              "            background-color:  #fff7fb;\n",
              "            color:  #000000;\n",
              "        }    #T_8b1376be_4497_11ec_bf37_0c7a15d41812row15_col3 {\n",
              "            background-color:  #fff7fb;\n",
              "            color:  #000000;\n",
              "        }    #T_8b1376be_4497_11ec_bf37_0c7a15d41812row15_col4 {\n",
              "            background-color:  #f0eaf4;\n",
              "            color:  #000000;\n",
              "        }    #T_8b1376be_4497_11ec_bf37_0c7a15d41812row15_col5 {\n",
              "            background-color:  #fff7fb;\n",
              "            color:  #000000;\n",
              "        }    #T_8b1376be_4497_11ec_bf37_0c7a15d41812row15_col6 {\n",
              "            background-color:  #fbf3f9;\n",
              "            color:  #000000;\n",
              "        }    #T_8b1376be_4497_11ec_bf37_0c7a15d41812row16_col0 {\n",
              "            background-color:  #e0dded;\n",
              "            color:  #000000;\n",
              "        }    #T_8b1376be_4497_11ec_bf37_0c7a15d41812row16_col1 {\n",
              "            background-color:  #fff7fb;\n",
              "            color:  #000000;\n",
              "        }    #T_8b1376be_4497_11ec_bf37_0c7a15d41812row16_col2 {\n",
              "            background-color:  #fff7fb;\n",
              "            color:  #000000;\n",
              "        }    #T_8b1376be_4497_11ec_bf37_0c7a15d41812row16_col3 {\n",
              "            background-color:  #fff7fb;\n",
              "            color:  #000000;\n",
              "        }    #T_8b1376be_4497_11ec_bf37_0c7a15d41812row16_col4 {\n",
              "            background-color:  #fff7fb;\n",
              "            color:  #000000;\n",
              "        }    #T_8b1376be_4497_11ec_bf37_0c7a15d41812row16_col5 {\n",
              "            background-color:  #fff7fb;\n",
              "            color:  #000000;\n",
              "        }    #T_8b1376be_4497_11ec_bf37_0c7a15d41812row16_col6 {\n",
              "            background-color:  #f8f1f8;\n",
              "            color:  #000000;\n",
              "        }    #T_8b1376be_4497_11ec_bf37_0c7a15d41812row17_col0 {\n",
              "            background-color:  #fff7fb;\n",
              "            color:  #000000;\n",
              "        }    #T_8b1376be_4497_11ec_bf37_0c7a15d41812row17_col1 {\n",
              "            background-color:  #fff7fb;\n",
              "            color:  #000000;\n",
              "        }    #T_8b1376be_4497_11ec_bf37_0c7a15d41812row17_col2 {\n",
              "            background-color:  #fff7fb;\n",
              "            color:  #000000;\n",
              "        }    #T_8b1376be_4497_11ec_bf37_0c7a15d41812row17_col3 {\n",
              "            background-color:  #fff7fb;\n",
              "            color:  #000000;\n",
              "        }    #T_8b1376be_4497_11ec_bf37_0c7a15d41812row17_col4 {\n",
              "            background-color:  #efe9f3;\n",
              "            color:  #000000;\n",
              "        }    #T_8b1376be_4497_11ec_bf37_0c7a15d41812row17_col5 {\n",
              "            background-color:  #fff7fb;\n",
              "            color:  #000000;\n",
              "        }    #T_8b1376be_4497_11ec_bf37_0c7a15d41812row17_col6 {\n",
              "            background-color:  #fbf3f9;\n",
              "            color:  #000000;\n",
              "        }    #T_8b1376be_4497_11ec_bf37_0c7a15d41812row18_col0 {\n",
              "            background-color:  #fff7fb;\n",
              "            color:  #000000;\n",
              "        }    #T_8b1376be_4497_11ec_bf37_0c7a15d41812row18_col1 {\n",
              "            background-color:  #fff7fb;\n",
              "            color:  #000000;\n",
              "        }    #T_8b1376be_4497_11ec_bf37_0c7a15d41812row18_col2 {\n",
              "            background-color:  #faf2f8;\n",
              "            color:  #000000;\n",
              "        }    #T_8b1376be_4497_11ec_bf37_0c7a15d41812row18_col3 {\n",
              "            background-color:  #fff7fb;\n",
              "            color:  #000000;\n",
              "        }    #T_8b1376be_4497_11ec_bf37_0c7a15d41812row18_col4 {\n",
              "            background-color:  #fff7fb;\n",
              "            color:  #000000;\n",
              "        }    #T_8b1376be_4497_11ec_bf37_0c7a15d41812row18_col5 {\n",
              "            background-color:  #fff7fb;\n",
              "            color:  #000000;\n",
              "        }    #T_8b1376be_4497_11ec_bf37_0c7a15d41812row18_col6 {\n",
              "            background-color:  #fff7fb;\n",
              "            color:  #000000;\n",
              "        }    #T_8b1376be_4497_11ec_bf37_0c7a15d41812row19_col0 {\n",
              "            background-color:  #fff7fb;\n",
              "            color:  #000000;\n",
              "        }    #T_8b1376be_4497_11ec_bf37_0c7a15d41812row19_col1 {\n",
              "            background-color:  #fff7fb;\n",
              "            color:  #000000;\n",
              "        }    #T_8b1376be_4497_11ec_bf37_0c7a15d41812row19_col2 {\n",
              "            background-color:  #d2d3e7;\n",
              "            color:  #000000;\n",
              "        }    #T_8b1376be_4497_11ec_bf37_0c7a15d41812row19_col3 {\n",
              "            background-color:  #fff7fb;\n",
              "            color:  #000000;\n",
              "        }    #T_8b1376be_4497_11ec_bf37_0c7a15d41812row19_col4 {\n",
              "            background-color:  #fff7fb;\n",
              "            color:  #000000;\n",
              "        }    #T_8b1376be_4497_11ec_bf37_0c7a15d41812row19_col5 {\n",
              "            background-color:  #fff7fb;\n",
              "            color:  #000000;\n",
              "        }    #T_8b1376be_4497_11ec_bf37_0c7a15d41812row19_col6 {\n",
              "            background-color:  #fbf4f9;\n",
              "            color:  #000000;\n",
              "        }    #T_8b1376be_4497_11ec_bf37_0c7a15d41812row20_col0 {\n",
              "            background-color:  #eae6f1;\n",
              "            color:  #000000;\n",
              "        }    #T_8b1376be_4497_11ec_bf37_0c7a15d41812row20_col1 {\n",
              "            background-color:  #fff7fb;\n",
              "            color:  #000000;\n",
              "        }    #T_8b1376be_4497_11ec_bf37_0c7a15d41812row20_col2 {\n",
              "            background-color:  #fff7fb;\n",
              "            color:  #000000;\n",
              "        }    #T_8b1376be_4497_11ec_bf37_0c7a15d41812row20_col3 {\n",
              "            background-color:  #fff7fb;\n",
              "            color:  #000000;\n",
              "        }    #T_8b1376be_4497_11ec_bf37_0c7a15d41812row20_col4 {\n",
              "            background-color:  #fff7fb;\n",
              "            color:  #000000;\n",
              "        }    #T_8b1376be_4497_11ec_bf37_0c7a15d41812row20_col5 {\n",
              "            background-color:  #fff7fb;\n",
              "            color:  #000000;\n",
              "        }    #T_8b1376be_4497_11ec_bf37_0c7a15d41812row20_col6 {\n",
              "            background-color:  #faf3f9;\n",
              "            color:  #000000;\n",
              "        }    #T_8b1376be_4497_11ec_bf37_0c7a15d41812row21_col0 {\n",
              "            background-color:  #fff7fb;\n",
              "            color:  #000000;\n",
              "        }    #T_8b1376be_4497_11ec_bf37_0c7a15d41812row21_col1 {\n",
              "            background-color:  #fff7fb;\n",
              "            color:  #000000;\n",
              "        }    #T_8b1376be_4497_11ec_bf37_0c7a15d41812row21_col2 {\n",
              "            background-color:  #fff7fb;\n",
              "            color:  #000000;\n",
              "        }    #T_8b1376be_4497_11ec_bf37_0c7a15d41812row21_col3 {\n",
              "            background-color:  #fff7fb;\n",
              "            color:  #000000;\n",
              "        }    #T_8b1376be_4497_11ec_bf37_0c7a15d41812row21_col4 {\n",
              "            background-color:  #fef6fa;\n",
              "            color:  #000000;\n",
              "        }    #T_8b1376be_4497_11ec_bf37_0c7a15d41812row21_col5 {\n",
              "            background-color:  #fff7fb;\n",
              "            color:  #000000;\n",
              "        }    #T_8b1376be_4497_11ec_bf37_0c7a15d41812row21_col6 {\n",
              "            background-color:  #fff7fb;\n",
              "            color:  #000000;\n",
              "        }    #T_8b1376be_4497_11ec_bf37_0c7a15d41812row22_col0 {\n",
              "            background-color:  #fff7fb;\n",
              "            color:  #000000;\n",
              "        }    #T_8b1376be_4497_11ec_bf37_0c7a15d41812row22_col1 {\n",
              "            background-color:  #fff7fb;\n",
              "            color:  #000000;\n",
              "        }    #T_8b1376be_4497_11ec_bf37_0c7a15d41812row22_col2 {\n",
              "            background-color:  #fff7fb;\n",
              "            color:  #000000;\n",
              "        }    #T_8b1376be_4497_11ec_bf37_0c7a15d41812row22_col3 {\n",
              "            background-color:  #fff7fb;\n",
              "            color:  #000000;\n",
              "        }    #T_8b1376be_4497_11ec_bf37_0c7a15d41812row22_col4 {\n",
              "            background-color:  #ebe6f2;\n",
              "            color:  #000000;\n",
              "        }    #T_8b1376be_4497_11ec_bf37_0c7a15d41812row22_col5 {\n",
              "            background-color:  #fff7fb;\n",
              "            color:  #000000;\n",
              "        }    #T_8b1376be_4497_11ec_bf37_0c7a15d41812row22_col6 {\n",
              "            background-color:  #faf2f8;\n",
              "            color:  #000000;\n",
              "        }    #T_8b1376be_4497_11ec_bf37_0c7a15d41812row23_col0 {\n",
              "            background-color:  #fff7fb;\n",
              "            color:  #000000;\n",
              "        }    #T_8b1376be_4497_11ec_bf37_0c7a15d41812row23_col1 {\n",
              "            background-color:  #e6e2ef;\n",
              "            color:  #000000;\n",
              "        }    #T_8b1376be_4497_11ec_bf37_0c7a15d41812row23_col2 {\n",
              "            background-color:  #fff7fb;\n",
              "            color:  #000000;\n",
              "        }    #T_8b1376be_4497_11ec_bf37_0c7a15d41812row23_col3 {\n",
              "            background-color:  #fff7fb;\n",
              "            color:  #000000;\n",
              "        }    #T_8b1376be_4497_11ec_bf37_0c7a15d41812row23_col4 {\n",
              "            background-color:  #fff7fb;\n",
              "            color:  #000000;\n",
              "        }    #T_8b1376be_4497_11ec_bf37_0c7a15d41812row23_col5 {\n",
              "            background-color:  #fff7fb;\n",
              "            color:  #000000;\n",
              "        }    #T_8b1376be_4497_11ec_bf37_0c7a15d41812row23_col6 {\n",
              "            background-color:  #fbf4f9;\n",
              "            color:  #000000;\n",
              "        }    #T_8b1376be_4497_11ec_bf37_0c7a15d41812row24_col0 {\n",
              "            background-color:  #fff7fb;\n",
              "            color:  #000000;\n",
              "        }    #T_8b1376be_4497_11ec_bf37_0c7a15d41812row24_col1 {\n",
              "            background-color:  #fff7fb;\n",
              "            color:  #000000;\n",
              "        }    #T_8b1376be_4497_11ec_bf37_0c7a15d41812row24_col2 {\n",
              "            background-color:  #fff7fb;\n",
              "            color:  #000000;\n",
              "        }    #T_8b1376be_4497_11ec_bf37_0c7a15d41812row24_col3 {\n",
              "            background-color:  #fff7fb;\n",
              "            color:  #000000;\n",
              "        }    #T_8b1376be_4497_11ec_bf37_0c7a15d41812row24_col4 {\n",
              "            background-color:  #e6e2ef;\n",
              "            color:  #000000;\n",
              "        }    #T_8b1376be_4497_11ec_bf37_0c7a15d41812row24_col5 {\n",
              "            background-color:  #fff7fb;\n",
              "            color:  #000000;\n",
              "        }    #T_8b1376be_4497_11ec_bf37_0c7a15d41812row24_col6 {\n",
              "            background-color:  #f9f2f8;\n",
              "            color:  #000000;\n",
              "        }    #T_8b1376be_4497_11ec_bf37_0c7a15d41812row25_col0 {\n",
              "            background-color:  #fff7fb;\n",
              "            color:  #000000;\n",
              "        }    #T_8b1376be_4497_11ec_bf37_0c7a15d41812row25_col1 {\n",
              "            background-color:  #fff7fb;\n",
              "            color:  #000000;\n",
              "        }    #T_8b1376be_4497_11ec_bf37_0c7a15d41812row25_col2 {\n",
              "            background-color:  #fff7fb;\n",
              "            color:  #000000;\n",
              "        }    #T_8b1376be_4497_11ec_bf37_0c7a15d41812row25_col3 {\n",
              "            background-color:  #fff7fb;\n",
              "            color:  #000000;\n",
              "        }    #T_8b1376be_4497_11ec_bf37_0c7a15d41812row25_col4 {\n",
              "            background-color:  #fff7fb;\n",
              "            color:  #000000;\n",
              "        }    #T_8b1376be_4497_11ec_bf37_0c7a15d41812row25_col5 {\n",
              "            background-color:  #fff7fb;\n",
              "            color:  #000000;\n",
              "        }    #T_8b1376be_4497_11ec_bf37_0c7a15d41812row25_col6 {\n",
              "            background-color:  #fff7fb;\n",
              "            color:  #000000;\n",
              "        }    #T_8b1376be_4497_11ec_bf37_0c7a15d41812row26_col0 {\n",
              "            background-color:  #fff7fb;\n",
              "            color:  #000000;\n",
              "        }    #T_8b1376be_4497_11ec_bf37_0c7a15d41812row26_col1 {\n",
              "            background-color:  #fff7fb;\n",
              "            color:  #000000;\n",
              "        }    #T_8b1376be_4497_11ec_bf37_0c7a15d41812row26_col2 {\n",
              "            background-color:  #fff7fb;\n",
              "            color:  #000000;\n",
              "        }    #T_8b1376be_4497_11ec_bf37_0c7a15d41812row26_col3 {\n",
              "            background-color:  #fff7fb;\n",
              "            color:  #000000;\n",
              "        }    #T_8b1376be_4497_11ec_bf37_0c7a15d41812row26_col4 {\n",
              "            background-color:  #fff7fb;\n",
              "            color:  #000000;\n",
              "        }    #T_8b1376be_4497_11ec_bf37_0c7a15d41812row26_col5 {\n",
              "            background-color:  #d6d6e9;\n",
              "            color:  #000000;\n",
              "        }    #T_8b1376be_4497_11ec_bf37_0c7a15d41812row26_col6 {\n",
              "            background-color:  #faf2f8;\n",
              "            color:  #000000;\n",
              "        }    #T_8b1376be_4497_11ec_bf37_0c7a15d41812row27_col0 {\n",
              "            background-color:  #fff7fb;\n",
              "            color:  #000000;\n",
              "        }    #T_8b1376be_4497_11ec_bf37_0c7a15d41812row27_col1 {\n",
              "            background-color:  #fff7fb;\n",
              "            color:  #000000;\n",
              "        }    #T_8b1376be_4497_11ec_bf37_0c7a15d41812row27_col2 {\n",
              "            background-color:  #fff7fb;\n",
              "            color:  #000000;\n",
              "        }    #T_8b1376be_4497_11ec_bf37_0c7a15d41812row27_col3 {\n",
              "            background-color:  #fff7fb;\n",
              "            color:  #000000;\n",
              "        }    #T_8b1376be_4497_11ec_bf37_0c7a15d41812row27_col4 {\n",
              "            background-color:  #fff7fb;\n",
              "            color:  #000000;\n",
              "        }    #T_8b1376be_4497_11ec_bf37_0c7a15d41812row27_col5 {\n",
              "            background-color:  #bcc7e1;\n",
              "            color:  #000000;\n",
              "        }    #T_8b1376be_4497_11ec_bf37_0c7a15d41812row27_col6 {\n",
              "            background-color:  #f7f0f7;\n",
              "            color:  #000000;\n",
              "        }    #T_8b1376be_4497_11ec_bf37_0c7a15d41812row28_col0 {\n",
              "            background-color:  #fff7fb;\n",
              "            color:  #000000;\n",
              "        }    #T_8b1376be_4497_11ec_bf37_0c7a15d41812row28_col1 {\n",
              "            background-color:  #fff7fb;\n",
              "            color:  #000000;\n",
              "        }    #T_8b1376be_4497_11ec_bf37_0c7a15d41812row28_col2 {\n",
              "            background-color:  #fff7fb;\n",
              "            color:  #000000;\n",
              "        }    #T_8b1376be_4497_11ec_bf37_0c7a15d41812row28_col3 {\n",
              "            background-color:  #fff7fb;\n",
              "            color:  #000000;\n",
              "        }    #T_8b1376be_4497_11ec_bf37_0c7a15d41812row28_col4 {\n",
              "            background-color:  #fff7fb;\n",
              "            color:  #000000;\n",
              "        }    #T_8b1376be_4497_11ec_bf37_0c7a15d41812row28_col5 {\n",
              "            background-color:  #c4cbe3;\n",
              "            color:  #000000;\n",
              "        }    #T_8b1376be_4497_11ec_bf37_0c7a15d41812row28_col6 {\n",
              "            background-color:  #f8f1f8;\n",
              "            color:  #000000;\n",
              "        }    #T_8b1376be_4497_11ec_bf37_0c7a15d41812row29_col0 {\n",
              "            background-color:  #fff7fb;\n",
              "            color:  #000000;\n",
              "        }    #T_8b1376be_4497_11ec_bf37_0c7a15d41812row29_col1 {\n",
              "            background-color:  #fff7fb;\n",
              "            color:  #000000;\n",
              "        }    #T_8b1376be_4497_11ec_bf37_0c7a15d41812row29_col2 {\n",
              "            background-color:  #fff7fb;\n",
              "            color:  #000000;\n",
              "        }    #T_8b1376be_4497_11ec_bf37_0c7a15d41812row29_col3 {\n",
              "            background-color:  #fff7fb;\n",
              "            color:  #000000;\n",
              "        }    #T_8b1376be_4497_11ec_bf37_0c7a15d41812row29_col4 {\n",
              "            background-color:  #fcf4fa;\n",
              "            color:  #000000;\n",
              "        }    #T_8b1376be_4497_11ec_bf37_0c7a15d41812row29_col5 {\n",
              "            background-color:  #fff7fb;\n",
              "            color:  #000000;\n",
              "        }    #T_8b1376be_4497_11ec_bf37_0c7a15d41812row29_col6 {\n",
              "            background-color:  #fef6fb;\n",
              "            color:  #000000;\n",
              "        }    #T_8b1376be_4497_11ec_bf37_0c7a15d41812row30_col0 {\n",
              "            background-color:  #fff7fb;\n",
              "            color:  #000000;\n",
              "        }    #T_8b1376be_4497_11ec_bf37_0c7a15d41812row30_col1 {\n",
              "            background-color:  #fff7fb;\n",
              "            color:  #000000;\n",
              "        }    #T_8b1376be_4497_11ec_bf37_0c7a15d41812row30_col2 {\n",
              "            background-color:  #fff7fb;\n",
              "            color:  #000000;\n",
              "        }    #T_8b1376be_4497_11ec_bf37_0c7a15d41812row30_col3 {\n",
              "            background-color:  #fff7fb;\n",
              "            color:  #000000;\n",
              "        }    #T_8b1376be_4497_11ec_bf37_0c7a15d41812row30_col4 {\n",
              "            background-color:  #b9c6e0;\n",
              "            color:  #000000;\n",
              "        }    #T_8b1376be_4497_11ec_bf37_0c7a15d41812row30_col5 {\n",
              "            background-color:  #fff7fb;\n",
              "            color:  #000000;\n",
              "        }    #T_8b1376be_4497_11ec_bf37_0c7a15d41812row30_col6 {\n",
              "            background-color:  #f2ecf5;\n",
              "            color:  #000000;\n",
              "        }    #T_8b1376be_4497_11ec_bf37_0c7a15d41812row31_col0 {\n",
              "            background-color:  #fff7fb;\n",
              "            color:  #000000;\n",
              "        }    #T_8b1376be_4497_11ec_bf37_0c7a15d41812row31_col1 {\n",
              "            background-color:  #fff7fb;\n",
              "            color:  #000000;\n",
              "        }    #T_8b1376be_4497_11ec_bf37_0c7a15d41812row31_col2 {\n",
              "            background-color:  #d9d8ea;\n",
              "            color:  #000000;\n",
              "        }    #T_8b1376be_4497_11ec_bf37_0c7a15d41812row31_col3 {\n",
              "            background-color:  #fff7fb;\n",
              "            color:  #000000;\n",
              "        }    #T_8b1376be_4497_11ec_bf37_0c7a15d41812row31_col4 {\n",
              "            background-color:  #fff7fb;\n",
              "            color:  #000000;\n",
              "        }    #T_8b1376be_4497_11ec_bf37_0c7a15d41812row31_col5 {\n",
              "            background-color:  #fff7fb;\n",
              "            color:  #000000;\n",
              "        }    #T_8b1376be_4497_11ec_bf37_0c7a15d41812row31_col6 {\n",
              "            background-color:  #fcf4fa;\n",
              "            color:  #000000;\n",
              "        }    #T_8b1376be_4497_11ec_bf37_0c7a15d41812row32_col0 {\n",
              "            background-color:  #faf2f8;\n",
              "            color:  #000000;\n",
              "        }    #T_8b1376be_4497_11ec_bf37_0c7a15d41812row32_col1 {\n",
              "            background-color:  #fff7fb;\n",
              "            color:  #000000;\n",
              "        }    #T_8b1376be_4497_11ec_bf37_0c7a15d41812row32_col2 {\n",
              "            background-color:  #fff7fb;\n",
              "            color:  #000000;\n",
              "        }    #T_8b1376be_4497_11ec_bf37_0c7a15d41812row32_col3 {\n",
              "            background-color:  #fff7fb;\n",
              "            color:  #000000;\n",
              "        }    #T_8b1376be_4497_11ec_bf37_0c7a15d41812row32_col4 {\n",
              "            background-color:  #fff7fb;\n",
              "            color:  #000000;\n",
              "        }    #T_8b1376be_4497_11ec_bf37_0c7a15d41812row32_col5 {\n",
              "            background-color:  #fff7fb;\n",
              "            color:  #000000;\n",
              "        }    #T_8b1376be_4497_11ec_bf37_0c7a15d41812row32_col6 {\n",
              "            background-color:  #fef6fa;\n",
              "            color:  #000000;\n",
              "        }    #T_8b1376be_4497_11ec_bf37_0c7a15d41812row33_col0 {\n",
              "            background-color:  #fff7fb;\n",
              "            color:  #000000;\n",
              "        }    #T_8b1376be_4497_11ec_bf37_0c7a15d41812row33_col1 {\n",
              "            background-color:  #f5eff6;\n",
              "            color:  #000000;\n",
              "        }    #T_8b1376be_4497_11ec_bf37_0c7a15d41812row33_col2 {\n",
              "            background-color:  #fff7fb;\n",
              "            color:  #000000;\n",
              "        }    #T_8b1376be_4497_11ec_bf37_0c7a15d41812row33_col3 {\n",
              "            background-color:  #fff7fb;\n",
              "            color:  #000000;\n",
              "        }    #T_8b1376be_4497_11ec_bf37_0c7a15d41812row33_col4 {\n",
              "            background-color:  #fff7fb;\n",
              "            color:  #000000;\n",
              "        }    #T_8b1376be_4497_11ec_bf37_0c7a15d41812row33_col5 {\n",
              "            background-color:  #fff7fb;\n",
              "            color:  #000000;\n",
              "        }    #T_8b1376be_4497_11ec_bf37_0c7a15d41812row33_col6 {\n",
              "            background-color:  #fef6fa;\n",
              "            color:  #000000;\n",
              "        }    #T_8b1376be_4497_11ec_bf37_0c7a15d41812row34_col0 {\n",
              "            background-color:  #fff7fb;\n",
              "            color:  #000000;\n",
              "        }    #T_8b1376be_4497_11ec_bf37_0c7a15d41812row34_col1 {\n",
              "            background-color:  #f8f1f8;\n",
              "            color:  #000000;\n",
              "        }    #T_8b1376be_4497_11ec_bf37_0c7a15d41812row34_col2 {\n",
              "            background-color:  #fff7fb;\n",
              "            color:  #000000;\n",
              "        }    #T_8b1376be_4497_11ec_bf37_0c7a15d41812row34_col3 {\n",
              "            background-color:  #fff7fb;\n",
              "            color:  #000000;\n",
              "        }    #T_8b1376be_4497_11ec_bf37_0c7a15d41812row34_col4 {\n",
              "            background-color:  #fff7fb;\n",
              "            color:  #000000;\n",
              "        }    #T_8b1376be_4497_11ec_bf37_0c7a15d41812row34_col5 {\n",
              "            background-color:  #fff7fb;\n",
              "            color:  #000000;\n",
              "        }    #T_8b1376be_4497_11ec_bf37_0c7a15d41812row34_col6 {\n",
              "            background-color:  #fef6fb;\n",
              "            color:  #000000;\n",
              "        }    #T_8b1376be_4497_11ec_bf37_0c7a15d41812row35_col0 {\n",
              "            background-color:  #fff7fb;\n",
              "            color:  #000000;\n",
              "        }    #T_8b1376be_4497_11ec_bf37_0c7a15d41812row35_col1 {\n",
              "            background-color:  #fff7fb;\n",
              "            color:  #000000;\n",
              "        }    #T_8b1376be_4497_11ec_bf37_0c7a15d41812row35_col2 {\n",
              "            background-color:  #fff7fb;\n",
              "            color:  #000000;\n",
              "        }    #T_8b1376be_4497_11ec_bf37_0c7a15d41812row35_col3 {\n",
              "            background-color:  #dedcec;\n",
              "            color:  #000000;\n",
              "        }    #T_8b1376be_4497_11ec_bf37_0c7a15d41812row35_col4 {\n",
              "            background-color:  #fff7fb;\n",
              "            color:  #000000;\n",
              "        }    #T_8b1376be_4497_11ec_bf37_0c7a15d41812row35_col5 {\n",
              "            background-color:  #fff7fb;\n",
              "            color:  #000000;\n",
              "        }    #T_8b1376be_4497_11ec_bf37_0c7a15d41812row35_col6 {\n",
              "            background-color:  #fef6fb;\n",
              "            color:  #000000;\n",
              "        }    #T_8b1376be_4497_11ec_bf37_0c7a15d41812row36_col0 {\n",
              "            background-color:  #fff7fb;\n",
              "            color:  #000000;\n",
              "        }    #T_8b1376be_4497_11ec_bf37_0c7a15d41812row36_col1 {\n",
              "            background-color:  #fff7fb;\n",
              "            color:  #000000;\n",
              "        }    #T_8b1376be_4497_11ec_bf37_0c7a15d41812row36_col2 {\n",
              "            background-color:  #fff7fb;\n",
              "            color:  #000000;\n",
              "        }    #T_8b1376be_4497_11ec_bf37_0c7a15d41812row36_col3 {\n",
              "            background-color:  #fff7fb;\n",
              "            color:  #000000;\n",
              "        }    #T_8b1376be_4497_11ec_bf37_0c7a15d41812row36_col4 {\n",
              "            background-color:  #fff7fb;\n",
              "            color:  #000000;\n",
              "        }    #T_8b1376be_4497_11ec_bf37_0c7a15d41812row36_col5 {\n",
              "            background-color:  #fff7fb;\n",
              "            color:  #000000;\n",
              "        }    #T_8b1376be_4497_11ec_bf37_0c7a15d41812row36_col6 {\n",
              "            background-color:  #fff7fb;\n",
              "            color:  #000000;\n",
              "        }    #T_8b1376be_4497_11ec_bf37_0c7a15d41812row37_col0 {\n",
              "            background-color:  #fff7fb;\n",
              "            color:  #000000;\n",
              "        }    #T_8b1376be_4497_11ec_bf37_0c7a15d41812row37_col1 {\n",
              "            background-color:  #fff7fb;\n",
              "            color:  #000000;\n",
              "        }    #T_8b1376be_4497_11ec_bf37_0c7a15d41812row37_col2 {\n",
              "            background-color:  #fff7fb;\n",
              "            color:  #000000;\n",
              "        }    #T_8b1376be_4497_11ec_bf37_0c7a15d41812row37_col3 {\n",
              "            background-color:  #fff7fb;\n",
              "            color:  #000000;\n",
              "        }    #T_8b1376be_4497_11ec_bf37_0c7a15d41812row37_col4 {\n",
              "            background-color:  #fff7fb;\n",
              "            color:  #000000;\n",
              "        }    #T_8b1376be_4497_11ec_bf37_0c7a15d41812row37_col5 {\n",
              "            background-color:  #f3edf5;\n",
              "            color:  #000000;\n",
              "        }    #T_8b1376be_4497_11ec_bf37_0c7a15d41812row37_col6 {\n",
              "            background-color:  #fdf5fa;\n",
              "            color:  #000000;\n",
              "        }    #T_8b1376be_4497_11ec_bf37_0c7a15d41812row38_col0 {\n",
              "            background-color:  #023858;\n",
              "            color:  #f1f1f1;\n",
              "        }    #T_8b1376be_4497_11ec_bf37_0c7a15d41812row38_col1 {\n",
              "            background-color:  #023858;\n",
              "            color:  #f1f1f1;\n",
              "        }    #T_8b1376be_4497_11ec_bf37_0c7a15d41812row38_col2 {\n",
              "            background-color:  #023858;\n",
              "            color:  #f1f1f1;\n",
              "        }    #T_8b1376be_4497_11ec_bf37_0c7a15d41812row38_col3 {\n",
              "            background-color:  #023858;\n",
              "            color:  #f1f1f1;\n",
              "        }    #T_8b1376be_4497_11ec_bf37_0c7a15d41812row38_col4 {\n",
              "            background-color:  #023858;\n",
              "            color:  #f1f1f1;\n",
              "        }    #T_8b1376be_4497_11ec_bf37_0c7a15d41812row38_col5 {\n",
              "            background-color:  #023858;\n",
              "            color:  #f1f1f1;\n",
              "        }    #T_8b1376be_4497_11ec_bf37_0c7a15d41812row38_col6 {\n",
              "            background-color:  #023858;\n",
              "            color:  #f1f1f1;\n",
              "        }</style><table id=\"T_8b1376be_4497_11ec_bf37_0c7a15d41812\" ><thead>    <tr>        <th class=\"index_name level0\" >item_g_l</th>        <th class=\"col_heading level0 col0\" >간식</th>        <th class=\"col_heading level0 col1\" >반찬</th>        <th class=\"col_heading level0 col2\" >양념/가루</th>        <th class=\"col_heading level0 col3\" >주곡</th>        <th class=\"col_heading level0 col4\" >채소</th>        <th class=\"col_heading level0 col5\" >축산물</th>        <th class=\"col_heading level0 col6\" >All</th>    </tr>    <tr>        <th class=\"index_name level0\" >item_g_m</th>        <th class=\"blank\" ></th>        <th class=\"blank\" ></th>        <th class=\"blank\" ></th>        <th class=\"blank\" ></th>        <th class=\"blank\" ></th>        <th class=\"blank\" ></th>        <th class=\"blank\" ></th>    </tr></thead><tbody>\n",
              "                <tr>\n",
              "                        <th id=\"T_8b1376be_4497_11ec_bf37_0c7a15d41812level0_row0\" class=\"row_heading level0 row0\" >가루</th>\n",
              "                        <td id=\"T_8b1376be_4497_11ec_bf37_0c7a15d41812row0_col0\" class=\"data row0 col0\" >0</td>\n",
              "                        <td id=\"T_8b1376be_4497_11ec_bf37_0c7a15d41812row0_col1\" class=\"data row0 col1\" >0</td>\n",
              "                        <td id=\"T_8b1376be_4497_11ec_bf37_0c7a15d41812row0_col2\" class=\"data row0 col2\" >8924</td>\n",
              "                        <td id=\"T_8b1376be_4497_11ec_bf37_0c7a15d41812row0_col3\" class=\"data row0 col3\" >0</td>\n",
              "                        <td id=\"T_8b1376be_4497_11ec_bf37_0c7a15d41812row0_col4\" class=\"data row0 col4\" >0</td>\n",
              "                        <td id=\"T_8b1376be_4497_11ec_bf37_0c7a15d41812row0_col5\" class=\"data row0 col5\" >0</td>\n",
              "                        <td id=\"T_8b1376be_4497_11ec_bf37_0c7a15d41812row0_col6\" class=\"data row0 col6\" >8924</td>\n",
              "            </tr>\n",
              "            <tr>\n",
              "                        <th id=\"T_8b1376be_4497_11ec_bf37_0c7a15d41812level0_row1\" class=\"row_heading level0 row1\" >과일채소</th>\n",
              "                        <td id=\"T_8b1376be_4497_11ec_bf37_0c7a15d41812row1_col0\" class=\"data row1 col0\" >0</td>\n",
              "                        <td id=\"T_8b1376be_4497_11ec_bf37_0c7a15d41812row1_col1\" class=\"data row1 col1\" >0</td>\n",
              "                        <td id=\"T_8b1376be_4497_11ec_bf37_0c7a15d41812row1_col2\" class=\"data row1 col2\" >0</td>\n",
              "                        <td id=\"T_8b1376be_4497_11ec_bf37_0c7a15d41812row1_col3\" class=\"data row1 col3\" >0</td>\n",
              "                        <td id=\"T_8b1376be_4497_11ec_bf37_0c7a15d41812row1_col4\" class=\"data row1 col4\" >5790</td>\n",
              "                        <td id=\"T_8b1376be_4497_11ec_bf37_0c7a15d41812row1_col5\" class=\"data row1 col5\" >0</td>\n",
              "                        <td id=\"T_8b1376be_4497_11ec_bf37_0c7a15d41812row1_col6\" class=\"data row1 col6\" >5790</td>\n",
              "            </tr>\n",
              "            <tr>\n",
              "                        <th id=\"T_8b1376be_4497_11ec_bf37_0c7a15d41812level0_row2\" class=\"row_heading level0 row2\" >과자</th>\n",
              "                        <td id=\"T_8b1376be_4497_11ec_bf37_0c7a15d41812row2_col0\" class=\"data row2 col0\" >23361</td>\n",
              "                        <td id=\"T_8b1376be_4497_11ec_bf37_0c7a15d41812row2_col1\" class=\"data row2 col1\" >0</td>\n",
              "                        <td id=\"T_8b1376be_4497_11ec_bf37_0c7a15d41812row2_col2\" class=\"data row2 col2\" >0</td>\n",
              "                        <td id=\"T_8b1376be_4497_11ec_bf37_0c7a15d41812row2_col3\" class=\"data row2 col3\" >0</td>\n",
              "                        <td id=\"T_8b1376be_4497_11ec_bf37_0c7a15d41812row2_col4\" class=\"data row2 col4\" >0</td>\n",
              "                        <td id=\"T_8b1376be_4497_11ec_bf37_0c7a15d41812row2_col5\" class=\"data row2 col5\" >0</td>\n",
              "                        <td id=\"T_8b1376be_4497_11ec_bf37_0c7a15d41812row2_col6\" class=\"data row2 col6\" >23361</td>\n",
              "            </tr>\n",
              "            <tr>\n",
              "                        <th id=\"T_8b1376be_4497_11ec_bf37_0c7a15d41812level0_row3\" class=\"row_heading level0 row3\" >기름/식초</th>\n",
              "                        <td id=\"T_8b1376be_4497_11ec_bf37_0c7a15d41812row3_col0\" class=\"data row3 col0\" >0</td>\n",
              "                        <td id=\"T_8b1376be_4497_11ec_bf37_0c7a15d41812row3_col1\" class=\"data row3 col1\" >0</td>\n",
              "                        <td id=\"T_8b1376be_4497_11ec_bf37_0c7a15d41812row3_col2\" class=\"data row3 col2\" >4774</td>\n",
              "                        <td id=\"T_8b1376be_4497_11ec_bf37_0c7a15d41812row3_col3\" class=\"data row3 col3\" >0</td>\n",
              "                        <td id=\"T_8b1376be_4497_11ec_bf37_0c7a15d41812row3_col4\" class=\"data row3 col4\" >0</td>\n",
              "                        <td id=\"T_8b1376be_4497_11ec_bf37_0c7a15d41812row3_col5\" class=\"data row3 col5\" >0</td>\n",
              "                        <td id=\"T_8b1376be_4497_11ec_bf37_0c7a15d41812row3_col6\" class=\"data row3 col6\" >4774</td>\n",
              "            </tr>\n",
              "            <tr>\n",
              "                        <th id=\"T_8b1376be_4497_11ec_bf37_0c7a15d41812level0_row4\" class=\"row_heading level0 row4\" >김장채소</th>\n",
              "                        <td id=\"T_8b1376be_4497_11ec_bf37_0c7a15d41812row4_col0\" class=\"data row4 col0\" >0</td>\n",
              "                        <td id=\"T_8b1376be_4497_11ec_bf37_0c7a15d41812row4_col1\" class=\"data row4 col1\" >0</td>\n",
              "                        <td id=\"T_8b1376be_4497_11ec_bf37_0c7a15d41812row4_col2\" class=\"data row4 col2\" >0</td>\n",
              "                        <td id=\"T_8b1376be_4497_11ec_bf37_0c7a15d41812row4_col3\" class=\"data row4 col3\" >0</td>\n",
              "                        <td id=\"T_8b1376be_4497_11ec_bf37_0c7a15d41812row4_col4\" class=\"data row4 col4\" >219</td>\n",
              "                        <td id=\"T_8b1376be_4497_11ec_bf37_0c7a15d41812row4_col5\" class=\"data row4 col5\" >0</td>\n",
              "                        <td id=\"T_8b1376be_4497_11ec_bf37_0c7a15d41812row4_col6\" class=\"data row4 col6\" >219</td>\n",
              "            </tr>\n",
              "            <tr>\n",
              "                        <th id=\"T_8b1376be_4497_11ec_bf37_0c7a15d41812level0_row5\" class=\"row_heading level0 row5\" >김치</th>\n",
              "                        <td id=\"T_8b1376be_4497_11ec_bf37_0c7a15d41812row5_col0\" class=\"data row5 col0\" >0</td>\n",
              "                        <td id=\"T_8b1376be_4497_11ec_bf37_0c7a15d41812row5_col1\" class=\"data row5 col1\" >2055</td>\n",
              "                        <td id=\"T_8b1376be_4497_11ec_bf37_0c7a15d41812row5_col2\" class=\"data row5 col2\" >0</td>\n",
              "                        <td id=\"T_8b1376be_4497_11ec_bf37_0c7a15d41812row5_col3\" class=\"data row5 col3\" >0</td>\n",
              "                        <td id=\"T_8b1376be_4497_11ec_bf37_0c7a15d41812row5_col4\" class=\"data row5 col4\" >0</td>\n",
              "                        <td id=\"T_8b1376be_4497_11ec_bf37_0c7a15d41812row5_col5\" class=\"data row5 col5\" >0</td>\n",
              "                        <td id=\"T_8b1376be_4497_11ec_bf37_0c7a15d41812row5_col6\" class=\"data row5 col6\" >2055</td>\n",
              "            </tr>\n",
              "            <tr>\n",
              "                        <th id=\"T_8b1376be_4497_11ec_bf37_0c7a15d41812level0_row6\" class=\"row_heading level0 row6\" >꿀</th>\n",
              "                        <td id=\"T_8b1376be_4497_11ec_bf37_0c7a15d41812row6_col0\" class=\"data row6 col0\" >0</td>\n",
              "                        <td id=\"T_8b1376be_4497_11ec_bf37_0c7a15d41812row6_col1\" class=\"data row6 col1\" >0</td>\n",
              "                        <td id=\"T_8b1376be_4497_11ec_bf37_0c7a15d41812row6_col2\" class=\"data row6 col2\" >0</td>\n",
              "                        <td id=\"T_8b1376be_4497_11ec_bf37_0c7a15d41812row6_col3\" class=\"data row6 col3\" >0</td>\n",
              "                        <td id=\"T_8b1376be_4497_11ec_bf37_0c7a15d41812row6_col4\" class=\"data row6 col4\" >0</td>\n",
              "                        <td id=\"T_8b1376be_4497_11ec_bf37_0c7a15d41812row6_col5\" class=\"data row6 col5\" >671</td>\n",
              "                        <td id=\"T_8b1376be_4497_11ec_bf37_0c7a15d41812row6_col6\" class=\"data row6 col6\" >671</td>\n",
              "            </tr>\n",
              "            <tr>\n",
              "                        <th id=\"T_8b1376be_4497_11ec_bf37_0c7a15d41812level0_row7\" class=\"row_heading level0 row7\" >닭</th>\n",
              "                        <td id=\"T_8b1376be_4497_11ec_bf37_0c7a15d41812row7_col0\" class=\"data row7 col0\" >0</td>\n",
              "                        <td id=\"T_8b1376be_4497_11ec_bf37_0c7a15d41812row7_col1\" class=\"data row7 col1\" >0</td>\n",
              "                        <td id=\"T_8b1376be_4497_11ec_bf37_0c7a15d41812row7_col2\" class=\"data row7 col2\" >0</td>\n",
              "                        <td id=\"T_8b1376be_4497_11ec_bf37_0c7a15d41812row7_col3\" class=\"data row7 col3\" >0</td>\n",
              "                        <td id=\"T_8b1376be_4497_11ec_bf37_0c7a15d41812row7_col4\" class=\"data row7 col4\" >0</td>\n",
              "                        <td id=\"T_8b1376be_4497_11ec_bf37_0c7a15d41812row7_col5\" class=\"data row7 col5\" >1558</td>\n",
              "                        <td id=\"T_8b1376be_4497_11ec_bf37_0c7a15d41812row7_col6\" class=\"data row7 col6\" >1558</td>\n",
              "            </tr>\n",
              "            <tr>\n",
              "                        <th id=\"T_8b1376be_4497_11ec_bf37_0c7a15d41812level0_row8\" class=\"row_heading level0 row8\" >돼지</th>\n",
              "                        <td id=\"T_8b1376be_4497_11ec_bf37_0c7a15d41812row8_col0\" class=\"data row8 col0\" >0</td>\n",
              "                        <td id=\"T_8b1376be_4497_11ec_bf37_0c7a15d41812row8_col1\" class=\"data row8 col1\" >0</td>\n",
              "                        <td id=\"T_8b1376be_4497_11ec_bf37_0c7a15d41812row8_col2\" class=\"data row8 col2\" >0</td>\n",
              "                        <td id=\"T_8b1376be_4497_11ec_bf37_0c7a15d41812row8_col3\" class=\"data row8 col3\" >0</td>\n",
              "                        <td id=\"T_8b1376be_4497_11ec_bf37_0c7a15d41812row8_col4\" class=\"data row8 col4\" >0</td>\n",
              "                        <td id=\"T_8b1376be_4497_11ec_bf37_0c7a15d41812row8_col5\" class=\"data row8 col5\" >2479</td>\n",
              "                        <td id=\"T_8b1376be_4497_11ec_bf37_0c7a15d41812row8_col6\" class=\"data row8 col6\" >2479</td>\n",
              "            </tr>\n",
              "            <tr>\n",
              "                        <th id=\"T_8b1376be_4497_11ec_bf37_0c7a15d41812level0_row9\" class=\"row_heading level0 row9\" >두부/유부</th>\n",
              "                        <td id=\"T_8b1376be_4497_11ec_bf37_0c7a15d41812row9_col0\" class=\"data row9 col0\" >0</td>\n",
              "                        <td id=\"T_8b1376be_4497_11ec_bf37_0c7a15d41812row9_col1\" class=\"data row9 col1\" >19626</td>\n",
              "                        <td id=\"T_8b1376be_4497_11ec_bf37_0c7a15d41812row9_col2\" class=\"data row9 col2\" >0</td>\n",
              "                        <td id=\"T_8b1376be_4497_11ec_bf37_0c7a15d41812row9_col3\" class=\"data row9 col3\" >0</td>\n",
              "                        <td id=\"T_8b1376be_4497_11ec_bf37_0c7a15d41812row9_col4\" class=\"data row9 col4\" >0</td>\n",
              "                        <td id=\"T_8b1376be_4497_11ec_bf37_0c7a15d41812row9_col5\" class=\"data row9 col5\" >0</td>\n",
              "                        <td id=\"T_8b1376be_4497_11ec_bf37_0c7a15d41812row9_col6\" class=\"data row9 col6\" >19626</td>\n",
              "            </tr>\n",
              "            <tr>\n",
              "                        <th id=\"T_8b1376be_4497_11ec_bf37_0c7a15d41812level0_row10\" class=\"row_heading level0 row10\" >떡</th>\n",
              "                        <td id=\"T_8b1376be_4497_11ec_bf37_0c7a15d41812row10_col0\" class=\"data row10 col0\" >4991</td>\n",
              "                        <td id=\"T_8b1376be_4497_11ec_bf37_0c7a15d41812row10_col1\" class=\"data row10 col1\" >0</td>\n",
              "                        <td id=\"T_8b1376be_4497_11ec_bf37_0c7a15d41812row10_col2\" class=\"data row10 col2\" >0</td>\n",
              "                        <td id=\"T_8b1376be_4497_11ec_bf37_0c7a15d41812row10_col3\" class=\"data row10 col3\" >0</td>\n",
              "                        <td id=\"T_8b1376be_4497_11ec_bf37_0c7a15d41812row10_col4\" class=\"data row10 col4\" >0</td>\n",
              "                        <td id=\"T_8b1376be_4497_11ec_bf37_0c7a15d41812row10_col5\" class=\"data row10 col5\" >0</td>\n",
              "                        <td id=\"T_8b1376be_4497_11ec_bf37_0c7a15d41812row10_col6\" class=\"data row10 col6\" >4991</td>\n",
              "            </tr>\n",
              "            <tr>\n",
              "                        <th id=\"T_8b1376be_4497_11ec_bf37_0c7a15d41812level0_row11\" class=\"row_heading level0 row11\" >말린나물/건재</th>\n",
              "                        <td id=\"T_8b1376be_4497_11ec_bf37_0c7a15d41812row11_col0\" class=\"data row11 col0\" >0</td>\n",
              "                        <td id=\"T_8b1376be_4497_11ec_bf37_0c7a15d41812row11_col1\" class=\"data row11 col1\" >0</td>\n",
              "                        <td id=\"T_8b1376be_4497_11ec_bf37_0c7a15d41812row11_col2\" class=\"data row11 col2\" >0</td>\n",
              "                        <td id=\"T_8b1376be_4497_11ec_bf37_0c7a15d41812row11_col3\" class=\"data row11 col3\" >0</td>\n",
              "                        <td id=\"T_8b1376be_4497_11ec_bf37_0c7a15d41812row11_col4\" class=\"data row11 col4\" >6128</td>\n",
              "                        <td id=\"T_8b1376be_4497_11ec_bf37_0c7a15d41812row11_col5\" class=\"data row11 col5\" >0</td>\n",
              "                        <td id=\"T_8b1376be_4497_11ec_bf37_0c7a15d41812row11_col6\" class=\"data row11 col6\" >6128</td>\n",
              "            </tr>\n",
              "            <tr>\n",
              "                        <th id=\"T_8b1376be_4497_11ec_bf37_0c7a15d41812level0_row12\" class=\"row_heading level0 row12\" >멥쌀</th>\n",
              "                        <td id=\"T_8b1376be_4497_11ec_bf37_0c7a15d41812row12_col0\" class=\"data row12 col0\" >0</td>\n",
              "                        <td id=\"T_8b1376be_4497_11ec_bf37_0c7a15d41812row12_col1\" class=\"data row12 col1\" >0</td>\n",
              "                        <td id=\"T_8b1376be_4497_11ec_bf37_0c7a15d41812row12_col2\" class=\"data row12 col2\" >0</td>\n",
              "                        <td id=\"T_8b1376be_4497_11ec_bf37_0c7a15d41812row12_col3\" class=\"data row12 col3\" >7258</td>\n",
              "                        <td id=\"T_8b1376be_4497_11ec_bf37_0c7a15d41812row12_col4\" class=\"data row12 col4\" >0</td>\n",
              "                        <td id=\"T_8b1376be_4497_11ec_bf37_0c7a15d41812row12_col5\" class=\"data row12 col5\" >0</td>\n",
              "                        <td id=\"T_8b1376be_4497_11ec_bf37_0c7a15d41812row12_col6\" class=\"data row12 col6\" >7258</td>\n",
              "            </tr>\n",
              "            <tr>\n",
              "                        <th id=\"T_8b1376be_4497_11ec_bf37_0c7a15d41812level0_row13\" class=\"row_heading level0 row13\" >밀가공</th>\n",
              "                        <td id=\"T_8b1376be_4497_11ec_bf37_0c7a15d41812row13_col0\" class=\"data row13 col0\" >16783</td>\n",
              "                        <td id=\"T_8b1376be_4497_11ec_bf37_0c7a15d41812row13_col1\" class=\"data row13 col1\" >0</td>\n",
              "                        <td id=\"T_8b1376be_4497_11ec_bf37_0c7a15d41812row13_col2\" class=\"data row13 col2\" >0</td>\n",
              "                        <td id=\"T_8b1376be_4497_11ec_bf37_0c7a15d41812row13_col3\" class=\"data row13 col3\" >0</td>\n",
              "                        <td id=\"T_8b1376be_4497_11ec_bf37_0c7a15d41812row13_col4\" class=\"data row13 col4\" >0</td>\n",
              "                        <td id=\"T_8b1376be_4497_11ec_bf37_0c7a15d41812row13_col5\" class=\"data row13 col5\" >0</td>\n",
              "                        <td id=\"T_8b1376be_4497_11ec_bf37_0c7a15d41812row13_col6\" class=\"data row13 col6\" >16783</td>\n",
              "            </tr>\n",
              "            <tr>\n",
              "                        <th id=\"T_8b1376be_4497_11ec_bf37_0c7a15d41812level0_row14\" class=\"row_heading level0 row14\" >밑반찬</th>\n",
              "                        <td id=\"T_8b1376be_4497_11ec_bf37_0c7a15d41812row14_col0\" class=\"data row14 col0\" >0</td>\n",
              "                        <td id=\"T_8b1376be_4497_11ec_bf37_0c7a15d41812row14_col1\" class=\"data row14 col1\" >10773</td>\n",
              "                        <td id=\"T_8b1376be_4497_11ec_bf37_0c7a15d41812row14_col2\" class=\"data row14 col2\" >0</td>\n",
              "                        <td id=\"T_8b1376be_4497_11ec_bf37_0c7a15d41812row14_col3\" class=\"data row14 col3\" >0</td>\n",
              "                        <td id=\"T_8b1376be_4497_11ec_bf37_0c7a15d41812row14_col4\" class=\"data row14 col4\" >0</td>\n",
              "                        <td id=\"T_8b1376be_4497_11ec_bf37_0c7a15d41812row14_col5\" class=\"data row14 col5\" >0</td>\n",
              "                        <td id=\"T_8b1376be_4497_11ec_bf37_0c7a15d41812row14_col6\" class=\"data row14 col6\" >10773</td>\n",
              "            </tr>\n",
              "            <tr>\n",
              "                        <th id=\"T_8b1376be_4497_11ec_bf37_0c7a15d41812level0_row15\" class=\"row_heading level0 row15\" >버섯</th>\n",
              "                        <td id=\"T_8b1376be_4497_11ec_bf37_0c7a15d41812row15_col0\" class=\"data row15 col0\" >0</td>\n",
              "                        <td id=\"T_8b1376be_4497_11ec_bf37_0c7a15d41812row15_col1\" class=\"data row15 col1\" >0</td>\n",
              "                        <td id=\"T_8b1376be_4497_11ec_bf37_0c7a15d41812row15_col2\" class=\"data row15 col2\" >0</td>\n",
              "                        <td id=\"T_8b1376be_4497_11ec_bf37_0c7a15d41812row15_col3\" class=\"data row15 col3\" >0</td>\n",
              "                        <td id=\"T_8b1376be_4497_11ec_bf37_0c7a15d41812row15_col4\" class=\"data row15 col4\" >7537</td>\n",
              "                        <td id=\"T_8b1376be_4497_11ec_bf37_0c7a15d41812row15_col5\" class=\"data row15 col5\" >0</td>\n",
              "                        <td id=\"T_8b1376be_4497_11ec_bf37_0c7a15d41812row15_col6\" class=\"data row15 col6\" >7537</td>\n",
              "            </tr>\n",
              "            <tr>\n",
              "                        <th id=\"T_8b1376be_4497_11ec_bf37_0c7a15d41812level0_row16\" class=\"row_heading level0 row16\" >빵</th>\n",
              "                        <td id=\"T_8b1376be_4497_11ec_bf37_0c7a15d41812row16_col0\" class=\"data row16 col0\" >12660</td>\n",
              "                        <td id=\"T_8b1376be_4497_11ec_bf37_0c7a15d41812row16_col1\" class=\"data row16 col1\" >0</td>\n",
              "                        <td id=\"T_8b1376be_4497_11ec_bf37_0c7a15d41812row16_col2\" class=\"data row16 col2\" >0</td>\n",
              "                        <td id=\"T_8b1376be_4497_11ec_bf37_0c7a15d41812row16_col3\" class=\"data row16 col3\" >0</td>\n",
              "                        <td id=\"T_8b1376be_4497_11ec_bf37_0c7a15d41812row16_col4\" class=\"data row16 col4\" >0</td>\n",
              "                        <td id=\"T_8b1376be_4497_11ec_bf37_0c7a15d41812row16_col5\" class=\"data row16 col5\" >0</td>\n",
              "                        <td id=\"T_8b1376be_4497_11ec_bf37_0c7a15d41812row16_col6\" class=\"data row16 col6\" >12660</td>\n",
              "            </tr>\n",
              "            <tr>\n",
              "                        <th id=\"T_8b1376be_4497_11ec_bf37_0c7a15d41812level0_row17\" class=\"row_heading level0 row17\" >뿌리채소</th>\n",
              "                        <td id=\"T_8b1376be_4497_11ec_bf37_0c7a15d41812row17_col0\" class=\"data row17 col0\" >0</td>\n",
              "                        <td id=\"T_8b1376be_4497_11ec_bf37_0c7a15d41812row17_col1\" class=\"data row17 col1\" >0</td>\n",
              "                        <td id=\"T_8b1376be_4497_11ec_bf37_0c7a15d41812row17_col2\" class=\"data row17 col2\" >0</td>\n",
              "                        <td id=\"T_8b1376be_4497_11ec_bf37_0c7a15d41812row17_col3\" class=\"data row17 col3\" >0</td>\n",
              "                        <td id=\"T_8b1376be_4497_11ec_bf37_0c7a15d41812row17_col4\" class=\"data row17 col4\" >8402</td>\n",
              "                        <td id=\"T_8b1376be_4497_11ec_bf37_0c7a15d41812row17_col5\" class=\"data row17 col5\" >0</td>\n",
              "                        <td id=\"T_8b1376be_4497_11ec_bf37_0c7a15d41812row17_col6\" class=\"data row17 col6\" >8402</td>\n",
              "            </tr>\n",
              "            <tr>\n",
              "                        <th id=\"T_8b1376be_4497_11ec_bf37_0c7a15d41812level0_row18\" class=\"row_heading level0 row18\" >소금</th>\n",
              "                        <td id=\"T_8b1376be_4497_11ec_bf37_0c7a15d41812row18_col0\" class=\"data row18 col0\" >0</td>\n",
              "                        <td id=\"T_8b1376be_4497_11ec_bf37_0c7a15d41812row18_col1\" class=\"data row18 col1\" >0</td>\n",
              "                        <td id=\"T_8b1376be_4497_11ec_bf37_0c7a15d41812row18_col2\" class=\"data row18 col2\" >1033</td>\n",
              "                        <td id=\"T_8b1376be_4497_11ec_bf37_0c7a15d41812row18_col3\" class=\"data row18 col3\" >0</td>\n",
              "                        <td id=\"T_8b1376be_4497_11ec_bf37_0c7a15d41812row18_col4\" class=\"data row18 col4\" >0</td>\n",
              "                        <td id=\"T_8b1376be_4497_11ec_bf37_0c7a15d41812row18_col5\" class=\"data row18 col5\" >0</td>\n",
              "                        <td id=\"T_8b1376be_4497_11ec_bf37_0c7a15d41812row18_col6\" class=\"data row18 col6\" >1033</td>\n",
              "            </tr>\n",
              "            <tr>\n",
              "                        <th id=\"T_8b1376be_4497_11ec_bf37_0c7a15d41812level0_row19\" class=\"row_heading level0 row19\" >소스/기타양념</th>\n",
              "                        <td id=\"T_8b1376be_4497_11ec_bf37_0c7a15d41812row19_col0\" class=\"data row19 col0\" >0</td>\n",
              "                        <td id=\"T_8b1376be_4497_11ec_bf37_0c7a15d41812row19_col1\" class=\"data row19 col1\" >0</td>\n",
              "                        <td id=\"T_8b1376be_4497_11ec_bf37_0c7a15d41812row19_col2\" class=\"data row19 col2\" >6494</td>\n",
              "                        <td id=\"T_8b1376be_4497_11ec_bf37_0c7a15d41812row19_col3\" class=\"data row19 col3\" >0</td>\n",
              "                        <td id=\"T_8b1376be_4497_11ec_bf37_0c7a15d41812row19_col4\" class=\"data row19 col4\" >0</td>\n",
              "                        <td id=\"T_8b1376be_4497_11ec_bf37_0c7a15d41812row19_col5\" class=\"data row19 col5\" >0</td>\n",
              "                        <td id=\"T_8b1376be_4497_11ec_bf37_0c7a15d41812row19_col6\" class=\"data row19 col6\" >6494</td>\n",
              "            </tr>\n",
              "            <tr>\n",
              "                        <th id=\"T_8b1376be_4497_11ec_bf37_0c7a15d41812level0_row20\" class=\"row_heading level0 row20\" >식사대용</th>\n",
              "                        <td id=\"T_8b1376be_4497_11ec_bf37_0c7a15d41812row20_col0\" class=\"data row20 col0\" >9296</td>\n",
              "                        <td id=\"T_8b1376be_4497_11ec_bf37_0c7a15d41812row20_col1\" class=\"data row20 col1\" >0</td>\n",
              "                        <td id=\"T_8b1376be_4497_11ec_bf37_0c7a15d41812row20_col2\" class=\"data row20 col2\" >0</td>\n",
              "                        <td id=\"T_8b1376be_4497_11ec_bf37_0c7a15d41812row20_col3\" class=\"data row20 col3\" >0</td>\n",
              "                        <td id=\"T_8b1376be_4497_11ec_bf37_0c7a15d41812row20_col4\" class=\"data row20 col4\" >0</td>\n",
              "                        <td id=\"T_8b1376be_4497_11ec_bf37_0c7a15d41812row20_col5\" class=\"data row20 col5\" >0</td>\n",
              "                        <td id=\"T_8b1376be_4497_11ec_bf37_0c7a15d41812row20_col6\" class=\"data row20 col6\" >9296</td>\n",
              "            </tr>\n",
              "            <tr>\n",
              "                        <th id=\"T_8b1376be_4497_11ec_bf37_0c7a15d41812level0_row21\" class=\"row_heading level0 row21\" >쌈채소류</th>\n",
              "                        <td id=\"T_8b1376be_4497_11ec_bf37_0c7a15d41812row21_col0\" class=\"data row21 col0\" >0</td>\n",
              "                        <td id=\"T_8b1376be_4497_11ec_bf37_0c7a15d41812row21_col1\" class=\"data row21 col1\" >0</td>\n",
              "                        <td id=\"T_8b1376be_4497_11ec_bf37_0c7a15d41812row21_col2\" class=\"data row21 col2\" >0</td>\n",
              "                        <td id=\"T_8b1376be_4497_11ec_bf37_0c7a15d41812row21_col3\" class=\"data row21 col3\" >0</td>\n",
              "                        <td id=\"T_8b1376be_4497_11ec_bf37_0c7a15d41812row21_col4\" class=\"data row21 col4\" >661</td>\n",
              "                        <td id=\"T_8b1376be_4497_11ec_bf37_0c7a15d41812row21_col5\" class=\"data row21 col5\" >0</td>\n",
              "                        <td id=\"T_8b1376be_4497_11ec_bf37_0c7a15d41812row21_col6\" class=\"data row21 col6\" >661</td>\n",
              "            </tr>\n",
              "            <tr>\n",
              "                        <th id=\"T_8b1376be_4497_11ec_bf37_0c7a15d41812level0_row22\" class=\"row_heading level0 row22\" >양념채소</th>\n",
              "                        <td id=\"T_8b1376be_4497_11ec_bf37_0c7a15d41812row22_col0\" class=\"data row22 col0\" >0</td>\n",
              "                        <td id=\"T_8b1376be_4497_11ec_bf37_0c7a15d41812row22_col1\" class=\"data row22 col1\" >0</td>\n",
              "                        <td id=\"T_8b1376be_4497_11ec_bf37_0c7a15d41812row22_col2\" class=\"data row22 col2\" >0</td>\n",
              "                        <td id=\"T_8b1376be_4497_11ec_bf37_0c7a15d41812row22_col3\" class=\"data row22 col3\" >0</td>\n",
              "                        <td id=\"T_8b1376be_4497_11ec_bf37_0c7a15d41812row22_col4\" class=\"data row22 col4\" >10146</td>\n",
              "                        <td id=\"T_8b1376be_4497_11ec_bf37_0c7a15d41812row22_col5\" class=\"data row22 col5\" >0</td>\n",
              "                        <td id=\"T_8b1376be_4497_11ec_bf37_0c7a15d41812row22_col6\" class=\"data row22 col6\" >10146</td>\n",
              "            </tr>\n",
              "            <tr>\n",
              "                        <th id=\"T_8b1376be_4497_11ec_bf37_0c7a15d41812level0_row23\" class=\"row_heading level0 row23\" >어묵/묵</th>\n",
              "                        <td id=\"T_8b1376be_4497_11ec_bf37_0c7a15d41812row23_col0\" class=\"data row23 col0\" >0</td>\n",
              "                        <td id=\"T_8b1376be_4497_11ec_bf37_0c7a15d41812row23_col1\" class=\"data row23 col1\" >6729</td>\n",
              "                        <td id=\"T_8b1376be_4497_11ec_bf37_0c7a15d41812row23_col2\" class=\"data row23 col2\" >0</td>\n",
              "                        <td id=\"T_8b1376be_4497_11ec_bf37_0c7a15d41812row23_col3\" class=\"data row23 col3\" >0</td>\n",
              "                        <td id=\"T_8b1376be_4497_11ec_bf37_0c7a15d41812row23_col4\" class=\"data row23 col4\" >0</td>\n",
              "                        <td id=\"T_8b1376be_4497_11ec_bf37_0c7a15d41812row23_col5\" class=\"data row23 col5\" >0</td>\n",
              "                        <td id=\"T_8b1376be_4497_11ec_bf37_0c7a15d41812row23_col6\" class=\"data row23 col6\" >6729</td>\n",
              "            </tr>\n",
              "            <tr>\n",
              "                        <th id=\"T_8b1376be_4497_11ec_bf37_0c7a15d41812level0_row24\" class=\"row_heading level0 row24\" >열매채소</th>\n",
              "                        <td id=\"T_8b1376be_4497_11ec_bf37_0c7a15d41812row24_col0\" class=\"data row24 col0\" >0</td>\n",
              "                        <td id=\"T_8b1376be_4497_11ec_bf37_0c7a15d41812row24_col1\" class=\"data row24 col1\" >0</td>\n",
              "                        <td id=\"T_8b1376be_4497_11ec_bf37_0c7a15d41812row24_col2\" class=\"data row24 col2\" >0</td>\n",
              "                        <td id=\"T_8b1376be_4497_11ec_bf37_0c7a15d41812row24_col3\" class=\"data row24 col3\" >0</td>\n",
              "                        <td id=\"T_8b1376be_4497_11ec_bf37_0c7a15d41812row24_col4\" class=\"data row24 col4\" >11757</td>\n",
              "                        <td id=\"T_8b1376be_4497_11ec_bf37_0c7a15d41812row24_col5\" class=\"data row24 col5\" >0</td>\n",
              "                        <td id=\"T_8b1376be_4497_11ec_bf37_0c7a15d41812row24_col6\" class=\"data row24 col6\" >11757</td>\n",
              "            </tr>\n",
              "            <tr>\n",
              "                        <th id=\"T_8b1376be_4497_11ec_bf37_0c7a15d41812level0_row25\" class=\"row_heading level0 row25\" >오리</th>\n",
              "                        <td id=\"T_8b1376be_4497_11ec_bf37_0c7a15d41812row25_col0\" class=\"data row25 col0\" >0</td>\n",
              "                        <td id=\"T_8b1376be_4497_11ec_bf37_0c7a15d41812row25_col1\" class=\"data row25 col1\" >0</td>\n",
              "                        <td id=\"T_8b1376be_4497_11ec_bf37_0c7a15d41812row25_col2\" class=\"data row25 col2\" >0</td>\n",
              "                        <td id=\"T_8b1376be_4497_11ec_bf37_0c7a15d41812row25_col3\" class=\"data row25 col3\" >0</td>\n",
              "                        <td id=\"T_8b1376be_4497_11ec_bf37_0c7a15d41812row25_col4\" class=\"data row25 col4\" >0</td>\n",
              "                        <td id=\"T_8b1376be_4497_11ec_bf37_0c7a15d41812row25_col5\" class=\"data row25 col5\" >15</td>\n",
              "                        <td id=\"T_8b1376be_4497_11ec_bf37_0c7a15d41812row25_col6\" class=\"data row25 col6\" >15</td>\n",
              "            </tr>\n",
              "            <tr>\n",
              "                        <th id=\"T_8b1376be_4497_11ec_bf37_0c7a15d41812level0_row26\" class=\"row_heading level0 row26\" >유정란</th>\n",
              "                        <td id=\"T_8b1376be_4497_11ec_bf37_0c7a15d41812row26_col0\" class=\"data row26 col0\" >0</td>\n",
              "                        <td id=\"T_8b1376be_4497_11ec_bf37_0c7a15d41812row26_col1\" class=\"data row26 col1\" >0</td>\n",
              "                        <td id=\"T_8b1376be_4497_11ec_bf37_0c7a15d41812row26_col2\" class=\"data row26 col2\" >0</td>\n",
              "                        <td id=\"T_8b1376be_4497_11ec_bf37_0c7a15d41812row26_col3\" class=\"data row26 col3\" >0</td>\n",
              "                        <td id=\"T_8b1376be_4497_11ec_bf37_0c7a15d41812row26_col4\" class=\"data row26 col4\" >0</td>\n",
              "                        <td id=\"T_8b1376be_4497_11ec_bf37_0c7a15d41812row26_col5\" class=\"data row26 col5\" >10464</td>\n",
              "                        <td id=\"T_8b1376be_4497_11ec_bf37_0c7a15d41812row26_col6\" class=\"data row26 col6\" >10464</td>\n",
              "            </tr>\n",
              "            <tr>\n",
              "                        <th id=\"T_8b1376be_4497_11ec_bf37_0c7a15d41812level0_row27\" class=\"row_heading level0 row27\" >유제품</th>\n",
              "                        <td id=\"T_8b1376be_4497_11ec_bf37_0c7a15d41812row27_col0\" class=\"data row27 col0\" >0</td>\n",
              "                        <td id=\"T_8b1376be_4497_11ec_bf37_0c7a15d41812row27_col1\" class=\"data row27 col1\" >0</td>\n",
              "                        <td id=\"T_8b1376be_4497_11ec_bf37_0c7a15d41812row27_col2\" class=\"data row27 col2\" >0</td>\n",
              "                        <td id=\"T_8b1376be_4497_11ec_bf37_0c7a15d41812row27_col3\" class=\"data row27 col3\" >0</td>\n",
              "                        <td id=\"T_8b1376be_4497_11ec_bf37_0c7a15d41812row27_col4\" class=\"data row27 col4\" >0</td>\n",
              "                        <td id=\"T_8b1376be_4497_11ec_bf37_0c7a15d41812row27_col5\" class=\"data row27 col5\" >14518</td>\n",
              "                        <td id=\"T_8b1376be_4497_11ec_bf37_0c7a15d41812row27_col6\" class=\"data row27 col6\" >14518</td>\n",
              "            </tr>\n",
              "            <tr>\n",
              "                        <th id=\"T_8b1376be_4497_11ec_bf37_0c7a15d41812level0_row28\" class=\"row_heading level0 row28\" >육가공</th>\n",
              "                        <td id=\"T_8b1376be_4497_11ec_bf37_0c7a15d41812row28_col0\" class=\"data row28 col0\" >0</td>\n",
              "                        <td id=\"T_8b1376be_4497_11ec_bf37_0c7a15d41812row28_col1\" class=\"data row28 col1\" >0</td>\n",
              "                        <td id=\"T_8b1376be_4497_11ec_bf37_0c7a15d41812row28_col2\" class=\"data row28 col2\" >0</td>\n",
              "                        <td id=\"T_8b1376be_4497_11ec_bf37_0c7a15d41812row28_col3\" class=\"data row28 col3\" >0</td>\n",
              "                        <td id=\"T_8b1376be_4497_11ec_bf37_0c7a15d41812row28_col4\" class=\"data row28 col4\" >0</td>\n",
              "                        <td id=\"T_8b1376be_4497_11ec_bf37_0c7a15d41812row28_col5\" class=\"data row28 col5\" >13442</td>\n",
              "                        <td id=\"T_8b1376be_4497_11ec_bf37_0c7a15d41812row28_col6\" class=\"data row28 col6\" >13442</td>\n",
              "            </tr>\n",
              "            <tr>\n",
              "                        <th id=\"T_8b1376be_4497_11ec_bf37_0c7a15d41812level0_row29\" class=\"row_heading level0 row29\" >잎/줄기채소</th>\n",
              "                        <td id=\"T_8b1376be_4497_11ec_bf37_0c7a15d41812row29_col0\" class=\"data row29 col0\" >0</td>\n",
              "                        <td id=\"T_8b1376be_4497_11ec_bf37_0c7a15d41812row29_col1\" class=\"data row29 col1\" >0</td>\n",
              "                        <td id=\"T_8b1376be_4497_11ec_bf37_0c7a15d41812row29_col2\" class=\"data row29 col2\" >0</td>\n",
              "                        <td id=\"T_8b1376be_4497_11ec_bf37_0c7a15d41812row29_col3\" class=\"data row29 col3\" >0</td>\n",
              "                        <td id=\"T_8b1376be_4497_11ec_bf37_0c7a15d41812row29_col4\" class=\"data row29 col4\" >1733</td>\n",
              "                        <td id=\"T_8b1376be_4497_11ec_bf37_0c7a15d41812row29_col5\" class=\"data row29 col5\" >0</td>\n",
              "                        <td id=\"T_8b1376be_4497_11ec_bf37_0c7a15d41812row29_col6\" class=\"data row29 col6\" >1733</td>\n",
              "            </tr>\n",
              "            <tr>\n",
              "                        <th id=\"T_8b1376be_4497_11ec_bf37_0c7a15d41812level0_row30\" class=\"row_heading level0 row30\" >잎채소</th>\n",
              "                        <td id=\"T_8b1376be_4497_11ec_bf37_0c7a15d41812row30_col0\" class=\"data row30 col0\" >0</td>\n",
              "                        <td id=\"T_8b1376be_4497_11ec_bf37_0c7a15d41812row30_col1\" class=\"data row30 col1\" >0</td>\n",
              "                        <td id=\"T_8b1376be_4497_11ec_bf37_0c7a15d41812row30_col2\" class=\"data row30 col2\" >0</td>\n",
              "                        <td id=\"T_8b1376be_4497_11ec_bf37_0c7a15d41812row30_col3\" class=\"data row30 col3\" >0</td>\n",
              "                        <td id=\"T_8b1376be_4497_11ec_bf37_0c7a15d41812row30_col4\" class=\"data row30 col4\" >24425</td>\n",
              "                        <td id=\"T_8b1376be_4497_11ec_bf37_0c7a15d41812row30_col5\" class=\"data row30 col5\" >0</td>\n",
              "                        <td id=\"T_8b1376be_4497_11ec_bf37_0c7a15d41812row30_col6\" class=\"data row30 col6\" >24425</td>\n",
              "            </tr>\n",
              "            <tr>\n",
              "                        <th id=\"T_8b1376be_4497_11ec_bf37_0c7a15d41812level0_row31\" class=\"row_heading level0 row31\" >장</th>\n",
              "                        <td id=\"T_8b1376be_4497_11ec_bf37_0c7a15d41812row31_col0\" class=\"data row31 col0\" >0</td>\n",
              "                        <td id=\"T_8b1376be_4497_11ec_bf37_0c7a15d41812row31_col1\" class=\"data row31 col1\" >0</td>\n",
              "                        <td id=\"T_8b1376be_4497_11ec_bf37_0c7a15d41812row31_col2\" class=\"data row31 col2\" >5692</td>\n",
              "                        <td id=\"T_8b1376be_4497_11ec_bf37_0c7a15d41812row31_col3\" class=\"data row31 col3\" >0</td>\n",
              "                        <td id=\"T_8b1376be_4497_11ec_bf37_0c7a15d41812row31_col4\" class=\"data row31 col4\" >0</td>\n",
              "                        <td id=\"T_8b1376be_4497_11ec_bf37_0c7a15d41812row31_col5\" class=\"data row31 col5\" >0</td>\n",
              "                        <td id=\"T_8b1376be_4497_11ec_bf37_0c7a15d41812row31_col6\" class=\"data row31 col6\" >5692</td>\n",
              "            </tr>\n",
              "            <tr>\n",
              "                        <th id=\"T_8b1376be_4497_11ec_bf37_0c7a15d41812level0_row32\" class=\"row_heading level0 row32\" >잼/병조림/기타</th>\n",
              "                        <td id=\"T_8b1376be_4497_11ec_bf37_0c7a15d41812row32_col0\" class=\"data row32 col0\" >2606</td>\n",
              "                        <td id=\"T_8b1376be_4497_11ec_bf37_0c7a15d41812row32_col1\" class=\"data row32 col1\" >0</td>\n",
              "                        <td id=\"T_8b1376be_4497_11ec_bf37_0c7a15d41812row32_col2\" class=\"data row32 col2\" >0</td>\n",
              "                        <td id=\"T_8b1376be_4497_11ec_bf37_0c7a15d41812row32_col3\" class=\"data row32 col3\" >0</td>\n",
              "                        <td id=\"T_8b1376be_4497_11ec_bf37_0c7a15d41812row32_col4\" class=\"data row32 col4\" >0</td>\n",
              "                        <td id=\"T_8b1376be_4497_11ec_bf37_0c7a15d41812row32_col5\" class=\"data row32 col5\" >0</td>\n",
              "                        <td id=\"T_8b1376be_4497_11ec_bf37_0c7a15d41812row32_col6\" class=\"data row32 col6\" >2606</td>\n",
              "            </tr>\n",
              "            <tr>\n",
              "                        <th id=\"T_8b1376be_4497_11ec_bf37_0c7a15d41812level0_row33\" class=\"row_heading level0 row33\" >절임/장아찌</th>\n",
              "                        <td id=\"T_8b1376be_4497_11ec_bf37_0c7a15d41812row33_col0\" class=\"data row33 col0\" >0</td>\n",
              "                        <td id=\"T_8b1376be_4497_11ec_bf37_0c7a15d41812row33_col1\" class=\"data row33 col1\" >2744</td>\n",
              "                        <td id=\"T_8b1376be_4497_11ec_bf37_0c7a15d41812row33_col2\" class=\"data row33 col2\" >0</td>\n",
              "                        <td id=\"T_8b1376be_4497_11ec_bf37_0c7a15d41812row33_col3\" class=\"data row33 col3\" >0</td>\n",
              "                        <td id=\"T_8b1376be_4497_11ec_bf37_0c7a15d41812row33_col4\" class=\"data row33 col4\" >0</td>\n",
              "                        <td id=\"T_8b1376be_4497_11ec_bf37_0c7a15d41812row33_col5\" class=\"data row33 col5\" >0</td>\n",
              "                        <td id=\"T_8b1376be_4497_11ec_bf37_0c7a15d41812row33_col6\" class=\"data row33 col6\" >2744</td>\n",
              "            </tr>\n",
              "            <tr>\n",
              "                        <th id=\"T_8b1376be_4497_11ec_bf37_0c7a15d41812level0_row34\" class=\"row_heading level0 row34\" >즉석조리</th>\n",
              "                        <td id=\"T_8b1376be_4497_11ec_bf37_0c7a15d41812row34_col0\" class=\"data row34 col0\" >0</td>\n",
              "                        <td id=\"T_8b1376be_4497_11ec_bf37_0c7a15d41812row34_col1\" class=\"data row34 col1\" >1958</td>\n",
              "                        <td id=\"T_8b1376be_4497_11ec_bf37_0c7a15d41812row34_col2\" class=\"data row34 col2\" >0</td>\n",
              "                        <td id=\"T_8b1376be_4497_11ec_bf37_0c7a15d41812row34_col3\" class=\"data row34 col3\" >0</td>\n",
              "                        <td id=\"T_8b1376be_4497_11ec_bf37_0c7a15d41812row34_col4\" class=\"data row34 col4\" >0</td>\n",
              "                        <td id=\"T_8b1376be_4497_11ec_bf37_0c7a15d41812row34_col5\" class=\"data row34 col5\" >0</td>\n",
              "                        <td id=\"T_8b1376be_4497_11ec_bf37_0c7a15d41812row34_col6\" class=\"data row34 col6\" >1958</td>\n",
              "            </tr>\n",
              "            <tr>\n",
              "                        <th id=\"T_8b1376be_4497_11ec_bf37_0c7a15d41812level0_row35\" class=\"row_heading level0 row35\" >찹쌀</th>\n",
              "                        <td id=\"T_8b1376be_4497_11ec_bf37_0c7a15d41812row35_col0\" class=\"data row35 col0\" >0</td>\n",
              "                        <td id=\"T_8b1376be_4497_11ec_bf37_0c7a15d41812row35_col1\" class=\"data row35 col1\" >0</td>\n",
              "                        <td id=\"T_8b1376be_4497_11ec_bf37_0c7a15d41812row35_col2\" class=\"data row35 col2\" >0</td>\n",
              "                        <td id=\"T_8b1376be_4497_11ec_bf37_0c7a15d41812row35_col3\" class=\"data row35 col3\" >1690</td>\n",
              "                        <td id=\"T_8b1376be_4497_11ec_bf37_0c7a15d41812row35_col4\" class=\"data row35 col4\" >0</td>\n",
              "                        <td id=\"T_8b1376be_4497_11ec_bf37_0c7a15d41812row35_col5\" class=\"data row35 col5\" >0</td>\n",
              "                        <td id=\"T_8b1376be_4497_11ec_bf37_0c7a15d41812row35_col6\" class=\"data row35 col6\" >1690</td>\n",
              "            </tr>\n",
              "            <tr>\n",
              "                        <th id=\"T_8b1376be_4497_11ec_bf37_0c7a15d41812level0_row36\" class=\"row_heading level0 row36\" >특용작물</th>\n",
              "                        <td id=\"T_8b1376be_4497_11ec_bf37_0c7a15d41812row36_col0\" class=\"data row36 col0\" >0</td>\n",
              "                        <td id=\"T_8b1376be_4497_11ec_bf37_0c7a15d41812row36_col1\" class=\"data row36 col1\" >0</td>\n",
              "                        <td id=\"T_8b1376be_4497_11ec_bf37_0c7a15d41812row36_col2\" class=\"data row36 col2\" >0</td>\n",
              "                        <td id=\"T_8b1376be_4497_11ec_bf37_0c7a15d41812row36_col3\" class=\"data row36 col3\" >0</td>\n",
              "                        <td id=\"T_8b1376be_4497_11ec_bf37_0c7a15d41812row36_col4\" class=\"data row36 col4\" >156</td>\n",
              "                        <td id=\"T_8b1376be_4497_11ec_bf37_0c7a15d41812row36_col5\" class=\"data row36 col5\" >0</td>\n",
              "                        <td id=\"T_8b1376be_4497_11ec_bf37_0c7a15d41812row36_col6\" class=\"data row36 col6\" >156</td>\n",
              "            </tr>\n",
              "            <tr>\n",
              "                        <th id=\"T_8b1376be_4497_11ec_bf37_0c7a15d41812level0_row37\" class=\"row_heading level0 row37\" >한우</th>\n",
              "                        <td id=\"T_8b1376be_4497_11ec_bf37_0c7a15d41812row37_col0\" class=\"data row37 col0\" >0</td>\n",
              "                        <td id=\"T_8b1376be_4497_11ec_bf37_0c7a15d41812row37_col1\" class=\"data row37 col1\" >0</td>\n",
              "                        <td id=\"T_8b1376be_4497_11ec_bf37_0c7a15d41812row37_col2\" class=\"data row37 col2\" >0</td>\n",
              "                        <td id=\"T_8b1376be_4497_11ec_bf37_0c7a15d41812row37_col3\" class=\"data row37 col3\" >0</td>\n",
              "                        <td id=\"T_8b1376be_4497_11ec_bf37_0c7a15d41812row37_col4\" class=\"data row37 col4\" >0</td>\n",
              "                        <td id=\"T_8b1376be_4497_11ec_bf37_0c7a15d41812row37_col5\" class=\"data row37 col5\" >3774</td>\n",
              "                        <td id=\"T_8b1376be_4497_11ec_bf37_0c7a15d41812row37_col6\" class=\"data row37 col6\" >3774</td>\n",
              "            </tr>\n",
              "            <tr>\n",
              "                        <th id=\"T_8b1376be_4497_11ec_bf37_0c7a15d41812level0_row38\" class=\"row_heading level0 row38\" >All</th>\n",
              "                        <td id=\"T_8b1376be_4497_11ec_bf37_0c7a15d41812row38_col0\" class=\"data row38 col0\" >69697</td>\n",
              "                        <td id=\"T_8b1376be_4497_11ec_bf37_0c7a15d41812row38_col1\" class=\"data row38 col1\" >43885</td>\n",
              "                        <td id=\"T_8b1376be_4497_11ec_bf37_0c7a15d41812row38_col2\" class=\"data row38 col2\" >26917</td>\n",
              "                        <td id=\"T_8b1376be_4497_11ec_bf37_0c7a15d41812row38_col3\" class=\"data row38 col3\" >8948</td>\n",
              "                        <td id=\"T_8b1376be_4497_11ec_bf37_0c7a15d41812row38_col4\" class=\"data row38 col4\" >76954</td>\n",
              "                        <td id=\"T_8b1376be_4497_11ec_bf37_0c7a15d41812row38_col5\" class=\"data row38 col5\" >46921</td>\n",
              "                        <td id=\"T_8b1376be_4497_11ec_bf37_0c7a15d41812row38_col6\" class=\"data row38 col6\" >273322</td>\n",
              "            </tr>\n",
              "    </tbody></table>"
            ],
            "text/plain": [
              "<pandas.io.formats.style.Styler at 0x27e240c7a08>"
            ]
          },
          "execution_count": 30,
          "metadata": {},
          "output_type": "execute_result"
        }
      ],
      "source": [
        "pd.crosstab(df_raw1.item_g_m, df_raw1.item_g_l, margins = True).style.background_gradient()"
      ]
    },
    {
      "cell_type": "markdown",
      "metadata": {
        "id": "SHd67xKWW_4s"
      },
      "source": [
        "# 아래 코드 수정할 것. 구매 총액, 구매 수, 구매 단가 범주를 얼마로 나눌지 생각해보기"
      ]
    },
    {
      "cell_type": "markdown",
      "metadata": {
        "id": "xi-LZpzBW_4s"
      },
      "source": [
        "#### (5) 구매 총액,  구매 수, 구매 시각, 구매 단가 변수 데이터 분포도 확인"
      ]
    },
    {
      "cell_type": "code",
      "execution_count": null,
      "metadata": {
        "scrolled": false,
        "id": "F7MIIG7vW_4s",
        "outputId": "9df22f20-88ab-4eda-adb0-92b7bbc23c63"
      },
      "outputs": [
        {
          "data": {
            "image/png": "[encoded data removed]",
            "text/plain": [
              "<Figure size 864x864 with 4 Axes>"
            ]
          },
          "metadata": {
            "needs_background": "light"
          },
          "output_type": "display_data"
        }
      ],
      "source": [
        "df_raw1.hist(figsize = (12, 12))\n",
        "plt.show()"
      ]
    },
    {
      "cell_type": "markdown",
      "metadata": {
        "id": "FKfC5ngCW_4s"
      },
      "source": [
        "# -----------------------------------------------------------------------------------------------------------"
      ]
    },
    {
      "cell_type": "markdown",
      "metadata": {
        "id": "-3CIEna1W_4s"
      },
      "source": [
        "## Step2. 결측치, 이상치 확인 및 처리"
      ]
    },
    {
      "cell_type": "markdown",
      "metadata": {
        "id": "0SXIzbEGW_4s"
      },
      "source": [
        "### ■ jeju_member "
      ]
    },
    {
      "cell_type": "markdown",
      "metadata": {
        "id": "kiogYipzW_4s"
      },
      "source": [
        "### Step2-1.  jeju_member 결측치, 이상치"
      ]
    },
    {
      "cell_type": "markdown",
      "metadata": {
        "id": "lS3yObXoW_4s"
      },
      "source": [
        "#### (1) jeju_member 결측치 확인"
      ]
    },
    {
      "cell_type": "code",
      "execution_count": null,
      "metadata": {
        "scrolled": true,
        "id": "BTFf5bJpW_4s",
        "outputId": "8ee47948-ade2-49ec-d7f3-edb03b62475a"
      },
      "outputs": [
        {
          "data": {
            "text/plain": [
              "customer_id          0\n",
              "birth_date           0\n",
              "gender               0\n",
              "age                  0\n",
              "agegroup             0\n",
              "customer_type        0\n",
              "customer_grade       0\n",
              "gaip_date            0\n",
              "taltoi_date       5379\n",
              "member_month         0\n",
              "gaip_path            0\n",
              "flag_member          0\n",
              "flag_rcv_sms         0\n",
              "flag_rcv_email       0\n",
              "flag_rcv_post        0\n",
              "zipcode              0\n",
              "sigun                0\n",
              "dong                 0\n",
              "ri                3570\n",
              "address              0\n",
              "dtype: int64"
            ]
          },
          "execution_count": 32,
          "metadata": {},
          "output_type": "execute_result"
        }
      ],
      "source": [
        "df_raw.isnull().sum(axis=0)"
      ]
    },
    {
      "cell_type": "markdown",
      "metadata": {
        "id": "KdbVMXk0W_4s"
      },
      "source": [
        "###### jeju_member의 '리'에서 결측치를 가진 데이터 확인"
      ]
    },
    {
      "cell_type": "code",
      "execution_count": null,
      "metadata": {
        "id": "RmaSPC8UW_4s",
        "outputId": "c3a22a6d-26cf-4695-9bb8-5f65ee3077f4"
      },
      "outputs": [
        {
          "data": {
            "text/html": [
              "<div>\n",
              "<style scoped>\n",
              "    .dataframe tbody tr th:only-of-type {\n",
              "        vertical-align: middle;\n",
              "    }\n",
              "\n",
              "    .dataframe tbody tr th {\n",
              "        vertical-align: top;\n",
              "    }\n",
              "\n",
              "    .dataframe thead th {\n",
              "        text-align: right;\n",
              "    }\n",
              "</style>\n",
              "<table border=\"1\" class=\"dataframe\">\n",
              "  <thead>\n",
              "    <tr style=\"text-align: right;\">\n",
              "      <th></th>\n",
              "      <th>customer_id</th>\n",
              "      <th>birth_date</th>\n",
              "      <th>gender</th>\n",
              "      <th>age</th>\n",
              "      <th>agegroup</th>\n",
              "      <th>customer_type</th>\n",
              "      <th>customer_grade</th>\n",
              "      <th>gaip_date</th>\n",
              "      <th>taltoi_date</th>\n",
              "      <th>member_month</th>\n",
              "      <th>gaip_path</th>\n",
              "      <th>flag_member</th>\n",
              "      <th>flag_rcv_sms</th>\n",
              "      <th>flag_rcv_email</th>\n",
              "      <th>flag_rcv_post</th>\n",
              "      <th>zipcode</th>\n",
              "      <th>sigun</th>\n",
              "      <th>dong</th>\n",
              "      <th>ri</th>\n",
              "      <th>address</th>\n",
              "    </tr>\n",
              "  </thead>\n",
              "  <tbody>\n",
              "    <tr>\n",
              "      <th>0</th>\n",
              "      <td>C102666</td>\n",
              "      <td>1976-11-08</td>\n",
              "      <td>남</td>\n",
              "      <td>44</td>\n",
              "      <td>40대</td>\n",
              "      <td>일반</td>\n",
              "      <td>3Gold</td>\n",
              "      <td>2014-10-07</td>\n",
              "      <td>NaN</td>\n",
              "      <td>63</td>\n",
              "      <td>매장</td>\n",
              "      <td>Y</td>\n",
              "      <td>Y</td>\n",
              "      <td>Y</td>\n",
              "      <td>Y</td>\n",
              "      <td>690-170</td>\n",
              "      <td>제주시</td>\n",
              "      <td>연동</td>\n",
              "      <td>NaN</td>\n",
              "      <td>제주 제주시 연동</td>\n",
              "    </tr>\n",
              "    <tr>\n",
              "      <th>1</th>\n",
              "      <td>C118113</td>\n",
              "      <td>1975-08-18</td>\n",
              "      <td>여</td>\n",
              "      <td>45</td>\n",
              "      <td>40대</td>\n",
              "      <td>일반</td>\n",
              "      <td>3Gold</td>\n",
              "      <td>2011-12-06</td>\n",
              "      <td>NaN</td>\n",
              "      <td>97</td>\n",
              "      <td>기타</td>\n",
              "      <td>Y</td>\n",
              "      <td>Y</td>\n",
              "      <td>Y</td>\n",
              "      <td>Y</td>\n",
              "      <td>690-122</td>\n",
              "      <td>제주시</td>\n",
              "      <td>아라2동</td>\n",
              "      <td>NaN</td>\n",
              "      <td>제주 제주시 아라2동</td>\n",
              "    </tr>\n",
              "    <tr>\n",
              "      <th>2</th>\n",
              "      <td>C118133</td>\n",
              "      <td>1981-03-20</td>\n",
              "      <td>남</td>\n",
              "      <td>39</td>\n",
              "      <td>30대</td>\n",
              "      <td>일반</td>\n",
              "      <td>4Silver</td>\n",
              "      <td>2011-12-07</td>\n",
              "      <td>2014-04-02</td>\n",
              "      <td>28</td>\n",
              "      <td>매장</td>\n",
              "      <td>N</td>\n",
              "      <td>Y</td>\n",
              "      <td>Y</td>\n",
              "      <td>N</td>\n",
              "      <td>699-900</td>\n",
              "      <td>서귀포시</td>\n",
              "      <td>성산읍</td>\n",
              "      <td>NaN</td>\n",
              "      <td>제주 서귀포시 성산읍</td>\n",
              "    </tr>\n",
              "    <tr>\n",
              "      <th>6</th>\n",
              "      <td>C118288</td>\n",
              "      <td>1972-03-16</td>\n",
              "      <td>남</td>\n",
              "      <td>48</td>\n",
              "      <td>40대</td>\n",
              "      <td>일반</td>\n",
              "      <td>4Silver</td>\n",
              "      <td>2011-12-11</td>\n",
              "      <td>2012-07-30</td>\n",
              "      <td>7</td>\n",
              "      <td>기타</td>\n",
              "      <td>N</td>\n",
              "      <td>N</td>\n",
              "      <td>Y</td>\n",
              "      <td>Y</td>\n",
              "      <td>690-042</td>\n",
              "      <td>제주시</td>\n",
              "      <td>용담2동</td>\n",
              "      <td>NaN</td>\n",
              "      <td>제주 제주시 용담2동</td>\n",
              "    </tr>\n",
              "    <tr>\n",
              "      <th>7</th>\n",
              "      <td>C118290</td>\n",
              "      <td>1963-10-17</td>\n",
              "      <td>여</td>\n",
              "      <td>57</td>\n",
              "      <td>50대</td>\n",
              "      <td>일반</td>\n",
              "      <td>3Gold</td>\n",
              "      <td>2011-12-11</td>\n",
              "      <td>NaN</td>\n",
              "      <td>97</td>\n",
              "      <td>매장</td>\n",
              "      <td>Y</td>\n",
              "      <td>Y</td>\n",
              "      <td>Y</td>\n",
              "      <td>Y</td>\n",
              "      <td>690-162</td>\n",
              "      <td>제주시</td>\n",
              "      <td>오라2동</td>\n",
              "      <td>NaN</td>\n",
              "      <td>제주 제주시 오라2동</td>\n",
              "    </tr>\n",
              "    <tr>\n",
              "      <th>...</th>\n",
              "      <td>...</td>\n",
              "      <td>...</td>\n",
              "      <td>...</td>\n",
              "      <td>...</td>\n",
              "      <td>...</td>\n",
              "      <td>...</td>\n",
              "      <td>...</td>\n",
              "      <td>...</td>\n",
              "      <td>...</td>\n",
              "      <td>...</td>\n",
              "      <td>...</td>\n",
              "      <td>...</td>\n",
              "      <td>...</td>\n",
              "      <td>...</td>\n",
              "      <td>...</td>\n",
              "      <td>...</td>\n",
              "      <td>...</td>\n",
              "      <td>...</td>\n",
              "      <td>...</td>\n",
              "      <td>...</td>\n",
              "    </tr>\n",
              "    <tr>\n",
              "      <th>5999</th>\n",
              "      <td>C704411</td>\n",
              "      <td>1980-01-15</td>\n",
              "      <td>남</td>\n",
              "      <td>40</td>\n",
              "      <td>40대</td>\n",
              "      <td>일반</td>\n",
              "      <td>4Silver</td>\n",
              "      <td>2019-12-01</td>\n",
              "      <td>NaN</td>\n",
              "      <td>1</td>\n",
              "      <td>매장</td>\n",
              "      <td>Y</td>\n",
              "      <td>Y</td>\n",
              "      <td>N</td>\n",
              "      <td>N</td>\n",
              "      <td>695-970</td>\n",
              "      <td>제주시</td>\n",
              "      <td>구좌읍</td>\n",
              "      <td>NaN</td>\n",
              "      <td>제주 제주시 구좌읍</td>\n",
              "    </tr>\n",
              "    <tr>\n",
              "      <th>6005</th>\n",
              "      <td>C704649</td>\n",
              "      <td>1964-10-12</td>\n",
              "      <td>여</td>\n",
              "      <td>56</td>\n",
              "      <td>50대</td>\n",
              "      <td>일반</td>\n",
              "      <td>3Gold</td>\n",
              "      <td>2019-12-02</td>\n",
              "      <td>NaN</td>\n",
              "      <td>1</td>\n",
              "      <td>매장</td>\n",
              "      <td>Y</td>\n",
              "      <td>Y</td>\n",
              "      <td>N</td>\n",
              "      <td>N</td>\n",
              "      <td>690-081</td>\n",
              "      <td>제주시</td>\n",
              "      <td>도련1동</td>\n",
              "      <td>NaN</td>\n",
              "      <td>제주 제주시 도련1동</td>\n",
              "    </tr>\n",
              "    <tr>\n",
              "      <th>6007</th>\n",
              "      <td>C705016</td>\n",
              "      <td>1976-01-23</td>\n",
              "      <td>여</td>\n",
              "      <td>44</td>\n",
              "      <td>40대</td>\n",
              "      <td>일반</td>\n",
              "      <td>2Platinum</td>\n",
              "      <td>2019-12-04</td>\n",
              "      <td>NaN</td>\n",
              "      <td>1</td>\n",
              "      <td>인터넷</td>\n",
              "      <td>Y</td>\n",
              "      <td>Y</td>\n",
              "      <td>N</td>\n",
              "      <td>Y</td>\n",
              "      <td>699-900</td>\n",
              "      <td>서귀포시</td>\n",
              "      <td>성산읍</td>\n",
              "      <td>NaN</td>\n",
              "      <td>제주 서귀포시 성산읍</td>\n",
              "    </tr>\n",
              "    <tr>\n",
              "      <th>6008</th>\n",
              "      <td>C705804</td>\n",
              "      <td>1962-08-13</td>\n",
              "      <td>여</td>\n",
              "      <td>58</td>\n",
              "      <td>50대</td>\n",
              "      <td>일반</td>\n",
              "      <td>2Platinum</td>\n",
              "      <td>2019-12-09</td>\n",
              "      <td>NaN</td>\n",
              "      <td>1</td>\n",
              "      <td>인터넷</td>\n",
              "      <td>Y</td>\n",
              "      <td>Y</td>\n",
              "      <td>Y</td>\n",
              "      <td>Y</td>\n",
              "      <td>697-070</td>\n",
              "      <td>서귀포시</td>\n",
              "      <td>동홍동</td>\n",
              "      <td>NaN</td>\n",
              "      <td>제주 서귀포시 동홍동</td>\n",
              "    </tr>\n",
              "    <tr>\n",
              "      <th>6012</th>\n",
              "      <td>C708358</td>\n",
              "      <td>1972-06-18</td>\n",
              "      <td>여</td>\n",
              "      <td>48</td>\n",
              "      <td>40대</td>\n",
              "      <td>일반</td>\n",
              "      <td>3Gold</td>\n",
              "      <td>2019-12-23</td>\n",
              "      <td>NaN</td>\n",
              "      <td>1</td>\n",
              "      <td>기타</td>\n",
              "      <td>Y</td>\n",
              "      <td>Y</td>\n",
              "      <td>N</td>\n",
              "      <td>Y</td>\n",
              "      <td>697-100</td>\n",
              "      <td>서귀포시</td>\n",
              "      <td>서호동</td>\n",
              "      <td>NaN</td>\n",
              "      <td>제주 서귀포시 서호동</td>\n",
              "    </tr>\n",
              "  </tbody>\n",
              "</table>\n",
              "<p>3570 rows × 20 columns</p>\n",
              "</div>"
            ],
            "text/plain": [
              "     customer_id  birth_date gender  age agegroup customer_type  \\\n",
              "0        C102666  1976-11-08      남   44      40대            일반   \n",
              "1        C118113  1975-08-18      여   45      40대            일반   \n",
              "2        C118133  1981-03-20      남   39      30대            일반   \n",
              "6        C118288  1972-03-16      남   48      40대            일반   \n",
              "7        C118290  1963-10-17      여   57      50대            일반   \n",
              "...          ...         ...    ...  ...      ...           ...   \n",
              "5999     C704411  1980-01-15      남   40      40대            일반   \n",
              "6005     C704649  1964-10-12      여   56      50대            일반   \n",
              "6007     C705016  1976-01-23      여   44      40대            일반   \n",
              "6008     C705804  1962-08-13      여   58      50대            일반   \n",
              "6012     C708358  1972-06-18      여   48      40대            일반   \n",
              "\n",
              "     customer_grade   gaip_date taltoi_date  member_month gaip_path  \\\n",
              "0             3Gold  2014-10-07         NaN            63        매장   \n",
              "1             3Gold  2011-12-06         NaN            97        기타   \n",
              "2           4Silver  2011-12-07  2014-04-02            28        매장   \n",
              "6           4Silver  2011-12-11  2012-07-30             7        기타   \n",
              "7             3Gold  2011-12-11         NaN            97        매장   \n",
              "...             ...         ...         ...           ...       ...   \n",
              "5999        4Silver  2019-12-01         NaN             1        매장   \n",
              "6005          3Gold  2019-12-02         NaN             1        매장   \n",
              "6007      2Platinum  2019-12-04         NaN             1       인터넷   \n",
              "6008      2Platinum  2019-12-09         NaN             1       인터넷   \n",
              "6012          3Gold  2019-12-23         NaN             1        기타   \n",
              "\n",
              "     flag_member flag_rcv_sms flag_rcv_email flag_rcv_post  zipcode sigun  \\\n",
              "0              Y            Y              Y             Y  690-170   제주시   \n",
              "1              Y            Y              Y             Y  690-122   제주시   \n",
              "2              N            Y              Y             N  699-900  서귀포시   \n",
              "6              N            N              Y             Y  690-042   제주시   \n",
              "7              Y            Y              Y             Y  690-162   제주시   \n",
              "...          ...          ...            ...           ...      ...   ...   \n",
              "5999           Y            Y              N             N  695-970   제주시   \n",
              "6005           Y            Y              N             N  690-081   제주시   \n",
              "6007           Y            Y              N             Y  699-900  서귀포시   \n",
              "6008           Y            Y              Y             Y  697-070  서귀포시   \n",
              "6012           Y            Y              N             Y  697-100  서귀포시   \n",
              "\n",
              "      dong   ri      address  \n",
              "0       연동  NaN    제주 제주시 연동  \n",
              "1     아라2동  NaN  제주 제주시 아라2동  \n",
              "2      성산읍  NaN  제주 서귀포시 성산읍  \n",
              "6     용담2동  NaN  제주 제주시 용담2동  \n",
              "7     오라2동  NaN  제주 제주시 오라2동  \n",
              "...    ...  ...          ...  \n",
              "5999   구좌읍  NaN   제주 제주시 구좌읍  \n",
              "6005  도련1동  NaN  제주 제주시 도련1동  \n",
              "6007   성산읍  NaN  제주 서귀포시 성산읍  \n",
              "6008   동홍동  NaN  제주 서귀포시 동홍동  \n",
              "6012   서호동  NaN  제주 서귀포시 서호동  \n",
              "\n",
              "[3570 rows x 20 columns]"
            ]
          },
          "execution_count": 33,
          "metadata": {},
          "output_type": "execute_result"
        }
      ],
      "source": [
        "df_raw[df_raw['ri'].isnull()]"
      ]
    },
    {
      "cell_type": "markdown",
      "metadata": {
        "id": "VD7WQWP0W_4t"
      },
      "source": [
        "###### jeju_member의 '탈퇴일자'에서 결측치를 가진 데이터 확인"
      ]
    },
    {
      "cell_type": "code",
      "execution_count": null,
      "metadata": {
        "id": "0b14icw5W_4t",
        "outputId": "7e525b0b-2965-449f-db0b-f401e490791a"
      },
      "outputs": [
        {
          "data": {
            "text/html": [
              "<div>\n",
              "<style scoped>\n",
              "    .dataframe tbody tr th:only-of-type {\n",
              "        vertical-align: middle;\n",
              "    }\n",
              "\n",
              "    .dataframe tbody tr th {\n",
              "        vertical-align: top;\n",
              "    }\n",
              "\n",
              "    .dataframe thead th {\n",
              "        text-align: right;\n",
              "    }\n",
              "</style>\n",
              "<table border=\"1\" class=\"dataframe\">\n",
              "  <thead>\n",
              "    <tr style=\"text-align: right;\">\n",
              "      <th></th>\n",
              "      <th>customer_id</th>\n",
              "      <th>birth_date</th>\n",
              "      <th>gender</th>\n",
              "      <th>age</th>\n",
              "      <th>agegroup</th>\n",
              "      <th>customer_type</th>\n",
              "      <th>customer_grade</th>\n",
              "      <th>gaip_date</th>\n",
              "      <th>taltoi_date</th>\n",
              "      <th>member_month</th>\n",
              "      <th>gaip_path</th>\n",
              "      <th>flag_member</th>\n",
              "      <th>flag_rcv_sms</th>\n",
              "      <th>flag_rcv_email</th>\n",
              "      <th>flag_rcv_post</th>\n",
              "      <th>zipcode</th>\n",
              "      <th>sigun</th>\n",
              "      <th>dong</th>\n",
              "      <th>ri</th>\n",
              "      <th>address</th>\n",
              "    </tr>\n",
              "  </thead>\n",
              "  <tbody>\n",
              "    <tr>\n",
              "      <th>0</th>\n",
              "      <td>C102666</td>\n",
              "      <td>1976-11-08</td>\n",
              "      <td>남</td>\n",
              "      <td>44</td>\n",
              "      <td>40대</td>\n",
              "      <td>일반</td>\n",
              "      <td>3Gold</td>\n",
              "      <td>2014-10-07</td>\n",
              "      <td>NaN</td>\n",
              "      <td>63</td>\n",
              "      <td>매장</td>\n",
              "      <td>Y</td>\n",
              "      <td>Y</td>\n",
              "      <td>Y</td>\n",
              "      <td>Y</td>\n",
              "      <td>690-170</td>\n",
              "      <td>제주시</td>\n",
              "      <td>연동</td>\n",
              "      <td>NaN</td>\n",
              "      <td>제주 제주시 연동</td>\n",
              "    </tr>\n",
              "    <tr>\n",
              "      <th>1</th>\n",
              "      <td>C118113</td>\n",
              "      <td>1975-08-18</td>\n",
              "      <td>여</td>\n",
              "      <td>45</td>\n",
              "      <td>40대</td>\n",
              "      <td>일반</td>\n",
              "      <td>3Gold</td>\n",
              "      <td>2011-12-06</td>\n",
              "      <td>NaN</td>\n",
              "      <td>97</td>\n",
              "      <td>기타</td>\n",
              "      <td>Y</td>\n",
              "      <td>Y</td>\n",
              "      <td>Y</td>\n",
              "      <td>Y</td>\n",
              "      <td>690-122</td>\n",
              "      <td>제주시</td>\n",
              "      <td>아라2동</td>\n",
              "      <td>NaN</td>\n",
              "      <td>제주 제주시 아라2동</td>\n",
              "    </tr>\n",
              "    <tr>\n",
              "      <th>3</th>\n",
              "      <td>C118278</td>\n",
              "      <td>1979-06-22</td>\n",
              "      <td>여</td>\n",
              "      <td>41</td>\n",
              "      <td>40대</td>\n",
              "      <td>일반</td>\n",
              "      <td>3Gold</td>\n",
              "      <td>2011-12-11</td>\n",
              "      <td>NaN</td>\n",
              "      <td>97</td>\n",
              "      <td>인터넷</td>\n",
              "      <td>Y</td>\n",
              "      <td>Y</td>\n",
              "      <td>Y</td>\n",
              "      <td>Y</td>\n",
              "      <td>695-791</td>\n",
              "      <td>제주시</td>\n",
              "      <td>애월읍</td>\n",
              "      <td>광령2리</td>\n",
              "      <td>제주 제주시 애월읍 광령2리 제주관광대학</td>\n",
              "    </tr>\n",
              "    <tr>\n",
              "      <th>7</th>\n",
              "      <td>C118290</td>\n",
              "      <td>1963-10-17</td>\n",
              "      <td>여</td>\n",
              "      <td>57</td>\n",
              "      <td>50대</td>\n",
              "      <td>일반</td>\n",
              "      <td>3Gold</td>\n",
              "      <td>2011-12-11</td>\n",
              "      <td>NaN</td>\n",
              "      <td>97</td>\n",
              "      <td>매장</td>\n",
              "      <td>Y</td>\n",
              "      <td>Y</td>\n",
              "      <td>Y</td>\n",
              "      <td>Y</td>\n",
              "      <td>690-162</td>\n",
              "      <td>제주시</td>\n",
              "      <td>오라2동</td>\n",
              "      <td>NaN</td>\n",
              "      <td>제주 제주시 오라2동</td>\n",
              "    </tr>\n",
              "    <tr>\n",
              "      <th>8</th>\n",
              "      <td>C118291</td>\n",
              "      <td>1962-07-19</td>\n",
              "      <td>여</td>\n",
              "      <td>58</td>\n",
              "      <td>50대</td>\n",
              "      <td>일반</td>\n",
              "      <td>1Royal</td>\n",
              "      <td>2011-12-11</td>\n",
              "      <td>NaN</td>\n",
              "      <td>97</td>\n",
              "      <td>기타</td>\n",
              "      <td>Y</td>\n",
              "      <td>Y</td>\n",
              "      <td>N</td>\n",
              "      <td>Y</td>\n",
              "      <td>690-760</td>\n",
              "      <td>제주시</td>\n",
              "      <td>노형동</td>\n",
              "      <td>부영아파트</td>\n",
              "      <td>제주 제주시 노형동 부영아파트</td>\n",
              "    </tr>\n",
              "    <tr>\n",
              "      <th>...</th>\n",
              "      <td>...</td>\n",
              "      <td>...</td>\n",
              "      <td>...</td>\n",
              "      <td>...</td>\n",
              "      <td>...</td>\n",
              "      <td>...</td>\n",
              "      <td>...</td>\n",
              "      <td>...</td>\n",
              "      <td>...</td>\n",
              "      <td>...</td>\n",
              "      <td>...</td>\n",
              "      <td>...</td>\n",
              "      <td>...</td>\n",
              "      <td>...</td>\n",
              "      <td>...</td>\n",
              "      <td>...</td>\n",
              "      <td>...</td>\n",
              "      <td>...</td>\n",
              "      <td>...</td>\n",
              "      <td>...</td>\n",
              "    </tr>\n",
              "    <tr>\n",
              "      <th>6008</th>\n",
              "      <td>C705804</td>\n",
              "      <td>1962-08-13</td>\n",
              "      <td>여</td>\n",
              "      <td>58</td>\n",
              "      <td>50대</td>\n",
              "      <td>일반</td>\n",
              "      <td>2Platinum</td>\n",
              "      <td>2019-12-09</td>\n",
              "      <td>NaN</td>\n",
              "      <td>1</td>\n",
              "      <td>인터넷</td>\n",
              "      <td>Y</td>\n",
              "      <td>Y</td>\n",
              "      <td>Y</td>\n",
              "      <td>Y</td>\n",
              "      <td>697-070</td>\n",
              "      <td>서귀포시</td>\n",
              "      <td>동홍동</td>\n",
              "      <td>NaN</td>\n",
              "      <td>제주 서귀포시 동홍동</td>\n",
              "    </tr>\n",
              "    <tr>\n",
              "      <th>6009</th>\n",
              "      <td>C706457</td>\n",
              "      <td>1995-10-12</td>\n",
              "      <td>여</td>\n",
              "      <td>25</td>\n",
              "      <td>20대</td>\n",
              "      <td>일반</td>\n",
              "      <td>4Silver</td>\n",
              "      <td>2019-12-11</td>\n",
              "      <td>NaN</td>\n",
              "      <td>1</td>\n",
              "      <td>인터넷</td>\n",
              "      <td>Y</td>\n",
              "      <td>Y</td>\n",
              "      <td>Y</td>\n",
              "      <td>N</td>\n",
              "      <td>690-781</td>\n",
              "      <td>제주시</td>\n",
              "      <td>화북일동</td>\n",
              "      <td>제주대학교사라캠퍼스</td>\n",
              "      <td>제주 제주시 화북일동 제주대학교사라캠퍼스</td>\n",
              "    </tr>\n",
              "    <tr>\n",
              "      <th>6010</th>\n",
              "      <td>C707942</td>\n",
              "      <td>1986-09-20</td>\n",
              "      <td>여</td>\n",
              "      <td>34</td>\n",
              "      <td>30대</td>\n",
              "      <td>일반</td>\n",
              "      <td>4Silver</td>\n",
              "      <td>2019-12-19</td>\n",
              "      <td>NaN</td>\n",
              "      <td>1</td>\n",
              "      <td>인터넷</td>\n",
              "      <td>Y</td>\n",
              "      <td>Y</td>\n",
              "      <td>N</td>\n",
              "      <td>Y</td>\n",
              "      <td>695-964</td>\n",
              "      <td>제주시</td>\n",
              "      <td>조천읍</td>\n",
              "      <td>신흥리</td>\n",
              "      <td>제주 제주시 조천읍 신흥리</td>\n",
              "    </tr>\n",
              "    <tr>\n",
              "      <th>6011</th>\n",
              "      <td>C707954</td>\n",
              "      <td>1984-04-20</td>\n",
              "      <td>여</td>\n",
              "      <td>36</td>\n",
              "      <td>30대</td>\n",
              "      <td>일반</td>\n",
              "      <td>3Gold</td>\n",
              "      <td>2019-12-19</td>\n",
              "      <td>NaN</td>\n",
              "      <td>1</td>\n",
              "      <td>인터넷</td>\n",
              "      <td>Y</td>\n",
              "      <td>N</td>\n",
              "      <td>N</td>\n",
              "      <td>N</td>\n",
              "      <td>690-806</td>\n",
              "      <td>제주시</td>\n",
              "      <td>도남동</td>\n",
              "      <td>1~51</td>\n",
              "      <td>제주 제주시 도남동 1~51</td>\n",
              "    </tr>\n",
              "    <tr>\n",
              "      <th>6012</th>\n",
              "      <td>C708358</td>\n",
              "      <td>1972-06-18</td>\n",
              "      <td>여</td>\n",
              "      <td>48</td>\n",
              "      <td>40대</td>\n",
              "      <td>일반</td>\n",
              "      <td>3Gold</td>\n",
              "      <td>2019-12-23</td>\n",
              "      <td>NaN</td>\n",
              "      <td>1</td>\n",
              "      <td>기타</td>\n",
              "      <td>Y</td>\n",
              "      <td>Y</td>\n",
              "      <td>N</td>\n",
              "      <td>Y</td>\n",
              "      <td>697-100</td>\n",
              "      <td>서귀포시</td>\n",
              "      <td>서호동</td>\n",
              "      <td>NaN</td>\n",
              "      <td>제주 서귀포시 서호동</td>\n",
              "    </tr>\n",
              "  </tbody>\n",
              "</table>\n",
              "<p>5379 rows × 20 columns</p>\n",
              "</div>"
            ],
            "text/plain": [
              "     customer_id  birth_date gender  age agegroup customer_type  \\\n",
              "0        C102666  1976-11-08      남   44      40대            일반   \n",
              "1        C118113  1975-08-18      여   45      40대            일반   \n",
              "3        C118278  1979-06-22      여   41      40대            일반   \n",
              "7        C118290  1963-10-17      여   57      50대            일반   \n",
              "8        C118291  1962-07-19      여   58      50대            일반   \n",
              "...          ...         ...    ...  ...      ...           ...   \n",
              "6008     C705804  1962-08-13      여   58      50대            일반   \n",
              "6009     C706457  1995-10-12      여   25      20대            일반   \n",
              "6010     C707942  1986-09-20      여   34      30대            일반   \n",
              "6011     C707954  1984-04-20      여   36      30대            일반   \n",
              "6012     C708358  1972-06-18      여   48      40대            일반   \n",
              "\n",
              "     customer_grade   gaip_date taltoi_date  member_month gaip_path  \\\n",
              "0             3Gold  2014-10-07         NaN            63        매장   \n",
              "1             3Gold  2011-12-06         NaN            97        기타   \n",
              "3             3Gold  2011-12-11         NaN            97       인터넷   \n",
              "7             3Gold  2011-12-11         NaN            97        매장   \n",
              "8            1Royal  2011-12-11         NaN            97        기타   \n",
              "...             ...         ...         ...           ...       ...   \n",
              "6008      2Platinum  2019-12-09         NaN             1       인터넷   \n",
              "6009        4Silver  2019-12-11         NaN             1       인터넷   \n",
              "6010        4Silver  2019-12-19         NaN             1       인터넷   \n",
              "6011          3Gold  2019-12-19         NaN             1       인터넷   \n",
              "6012          3Gold  2019-12-23         NaN             1        기타   \n",
              "\n",
              "     flag_member flag_rcv_sms flag_rcv_email flag_rcv_post  zipcode sigun  \\\n",
              "0              Y            Y              Y             Y  690-170   제주시   \n",
              "1              Y            Y              Y             Y  690-122   제주시   \n",
              "3              Y            Y              Y             Y  695-791   제주시   \n",
              "7              Y            Y              Y             Y  690-162   제주시   \n",
              "8              Y            Y              N             Y  690-760   제주시   \n",
              "...          ...          ...            ...           ...      ...   ...   \n",
              "6008           Y            Y              Y             Y  697-070  서귀포시   \n",
              "6009           Y            Y              Y             N  690-781   제주시   \n",
              "6010           Y            Y              N             Y  695-964   제주시   \n",
              "6011           Y            N              N             N  690-806   제주시   \n",
              "6012           Y            Y              N             Y  697-100  서귀포시   \n",
              "\n",
              "      dong          ri                 address  \n",
              "0       연동         NaN               제주 제주시 연동  \n",
              "1     아라2동         NaN             제주 제주시 아라2동  \n",
              "3      애월읍        광령2리  제주 제주시 애월읍 광령2리 제주관광대학  \n",
              "7     오라2동         NaN             제주 제주시 오라2동  \n",
              "8      노형동       부영아파트        제주 제주시 노형동 부영아파트  \n",
              "...    ...         ...                     ...  \n",
              "6008   동홍동         NaN             제주 서귀포시 동홍동  \n",
              "6009  화북일동  제주대학교사라캠퍼스  제주 제주시 화북일동 제주대학교사라캠퍼스  \n",
              "6010   조천읍         신흥리          제주 제주시 조천읍 신흥리  \n",
              "6011   도남동        1~51         제주 제주시 도남동 1~51  \n",
              "6012   서호동         NaN             제주 서귀포시 서호동  \n",
              "\n",
              "[5379 rows x 20 columns]"
            ]
          },
          "execution_count": 34,
          "metadata": {},
          "output_type": "execute_result"
        }
      ],
      "source": [
        "df_raw[df_raw['taltoi_date'].isnull()]"
      ]
    },
    {
      "cell_type": "markdown",
      "metadata": {
        "id": "zvFGdvD9W_4t"
      },
      "source": [
        "#### ※ '탈퇴일자'와 '리'에서 결측치 발견"
      ]
    },
    {
      "cell_type": "markdown",
      "metadata": {
        "id": "VqCCAdc7W_4t"
      },
      "source": [
        "- 1. 탈퇴일자가 없다는 것은 아직 회원이라는 의미이므로 결측치가 아니라고 판단함.\n",
        "- 2. 우리나라 행정구역상으로 리까지는 표기되지 않는 곳들이 많기 때문에 결측치라고 판단하지 않음."
      ]
    },
    {
      "cell_type": "markdown",
      "metadata": {
        "id": "pbp3WnhoW_4t"
      },
      "source": [
        "#### (2) jeju_member 이상치 확인"
      ]
    },
    {
      "cell_type": "markdown",
      "metadata": {
        "id": "x50KeKypW_4t"
      },
      "source": [
        "#### ※ '회원기간'에서 이상치 발견"
      ]
    },
    {
      "cell_type": "code",
      "execution_count": null,
      "metadata": {
        "id": "ZJ7JOFh-W_4t",
        "outputId": "71d67fb0-c077-48b6-b574-3279bb1c2ebd"
      },
      "outputs": [
        {
          "data": {
            "text/html": [
              "<div>\n",
              "<style scoped>\n",
              "    .dataframe tbody tr th:only-of-type {\n",
              "        vertical-align: middle;\n",
              "    }\n",
              "\n",
              "    .dataframe tbody tr th {\n",
              "        vertical-align: top;\n",
              "    }\n",
              "\n",
              "    .dataframe thead th {\n",
              "        text-align: right;\n",
              "    }\n",
              "</style>\n",
              "<table border=\"1\" class=\"dataframe\">\n",
              "  <thead>\n",
              "    <tr style=\"text-align: right;\">\n",
              "      <th></th>\n",
              "      <th>age</th>\n",
              "      <th>member_month</th>\n",
              "    </tr>\n",
              "  </thead>\n",
              "  <tbody>\n",
              "    <tr>\n",
              "      <th>count</th>\n",
              "      <td>6013.000</td>\n",
              "      <td>6013.000</td>\n",
              "    </tr>\n",
              "    <tr>\n",
              "      <th>mean</th>\n",
              "      <td>48.165</td>\n",
              "      <td>32.725</td>\n",
              "    </tr>\n",
              "    <tr>\n",
              "      <th>std</th>\n",
              "      <td>9.904</td>\n",
              "      <td>27.281</td>\n",
              "    </tr>\n",
              "    <tr>\n",
              "      <th>min</th>\n",
              "      <td>24.000</td>\n",
              "      <td>0.000</td>\n",
              "    </tr>\n",
              "    <tr>\n",
              "      <th>25%</th>\n",
              "      <td>41.000</td>\n",
              "      <td>13.000</td>\n",
              "    </tr>\n",
              "    <tr>\n",
              "      <th>50%</th>\n",
              "      <td>47.000</td>\n",
              "      <td>26.000</td>\n",
              "    </tr>\n",
              "    <tr>\n",
              "      <th>75%</th>\n",
              "      <td>54.000</td>\n",
              "      <td>41.000</td>\n",
              "    </tr>\n",
              "    <tr>\n",
              "      <th>max</th>\n",
              "      <td>90.000</td>\n",
              "      <td>131.000</td>\n",
              "    </tr>\n",
              "  </tbody>\n",
              "</table>\n",
              "</div>"
            ],
            "text/plain": [
              "            age  member_month\n",
              "count  6013.000      6013.000\n",
              "mean     48.165        32.725\n",
              "std       9.904        27.281\n",
              "min      24.000         0.000\n",
              "25%      41.000        13.000\n",
              "50%      47.000        26.000\n",
              "75%      54.000        41.000\n",
              "max      90.000       131.000"
            ]
          },
          "execution_count": 35,
          "metadata": {},
          "output_type": "execute_result"
        }
      ],
      "source": [
        "df_raw.describe().round(3)"
      ]
    },
    {
      "cell_type": "code",
      "execution_count": null,
      "metadata": {
        "id": "0zQmzrP0W_4t",
        "outputId": "874bd8e2-523a-4e55-9fda-e17d25f2547b"
      },
      "outputs": [
        {
          "data": {
            "text/plain": [
              "<matplotlib.axes._subplots.AxesSubplot at 0x27e26ee3108>"
            ]
          },
          "execution_count": 36,
          "metadata": {},
          "output_type": "execute_result"
        },
        {
          "data": {
            "image/png": "[encoded data removed]",
            "text/plain": [
              "<Figure size 432x288 with 1 Axes>"
            ]
          },
          "metadata": {
            "needs_background": "light"
          },
          "output_type": "display_data"
        }
      ],
      "source": [
        "df_raw.boxplot()"
      ]
    },
    {
      "cell_type": "markdown",
      "metadata": {
        "id": "MGUFnRzmW_4t"
      },
      "source": [
        "###### jeju_member의 '회원 기간(월)'에서 이상치를 가진 데이터 확인"
      ]
    },
    {
      "cell_type": "code",
      "execution_count": null,
      "metadata": {
        "id": "eC8ZD_mKW_4t",
        "outputId": "8c40bd85-3619-46d8-e0f1-7ca80e9f3c6b"
      },
      "outputs": [
        {
          "data": {
            "text/html": [
              "<div>\n",
              "<style scoped>\n",
              "    .dataframe tbody tr th:only-of-type {\n",
              "        vertical-align: middle;\n",
              "    }\n",
              "\n",
              "    .dataframe tbody tr th {\n",
              "        vertical-align: top;\n",
              "    }\n",
              "\n",
              "    .dataframe thead th {\n",
              "        text-align: right;\n",
              "    }\n",
              "</style>\n",
              "<table border=\"1\" class=\"dataframe\">\n",
              "  <thead>\n",
              "    <tr style=\"text-align: right;\">\n",
              "      <th></th>\n",
              "      <th>customer_id</th>\n",
              "      <th>birth_date</th>\n",
              "      <th>gender</th>\n",
              "      <th>age</th>\n",
              "      <th>agegroup</th>\n",
              "      <th>customer_type</th>\n",
              "      <th>customer_grade</th>\n",
              "      <th>gaip_date</th>\n",
              "      <th>taltoi_date</th>\n",
              "      <th>member_month</th>\n",
              "      <th>gaip_path</th>\n",
              "      <th>flag_member</th>\n",
              "      <th>flag_rcv_sms</th>\n",
              "      <th>flag_rcv_email</th>\n",
              "      <th>flag_rcv_post</th>\n",
              "      <th>zipcode</th>\n",
              "      <th>sigun</th>\n",
              "      <th>dong</th>\n",
              "      <th>ri</th>\n",
              "      <th>address</th>\n",
              "    </tr>\n",
              "  </thead>\n",
              "  <tbody>\n",
              "    <tr>\n",
              "      <th>164</th>\n",
              "      <td>C136288</td>\n",
              "      <td>1973-12-22</td>\n",
              "      <td>남</td>\n",
              "      <td>47</td>\n",
              "      <td>40대</td>\n",
              "      <td>일반</td>\n",
              "      <td>3Gold</td>\n",
              "      <td>2012-07-08</td>\n",
              "      <td>2012-07-10</td>\n",
              "      <td>0</td>\n",
              "      <td>인터넷</td>\n",
              "      <td>N</td>\n",
              "      <td>Y</td>\n",
              "      <td>Y</td>\n",
              "      <td>N</td>\n",
              "      <td>690-760</td>\n",
              "      <td>제주시</td>\n",
              "      <td>노형동</td>\n",
              "      <td>부영아파트</td>\n",
              "      <td>제주 제주시 노형동 부영아파트</td>\n",
              "    </tr>\n",
              "    <tr>\n",
              "      <th>310</th>\n",
              "      <td>C154193</td>\n",
              "      <td>1973-01-29</td>\n",
              "      <td>남</td>\n",
              "      <td>47</td>\n",
              "      <td>40대</td>\n",
              "      <td>일반</td>\n",
              "      <td>3Gold</td>\n",
              "      <td>2012-11-29</td>\n",
              "      <td>2012-11-29</td>\n",
              "      <td>0</td>\n",
              "      <td>매장</td>\n",
              "      <td>N</td>\n",
              "      <td>N</td>\n",
              "      <td>N</td>\n",
              "      <td>N</td>\n",
              "      <td>690-162</td>\n",
              "      <td>제주시</td>\n",
              "      <td>오라2동</td>\n",
              "      <td>NaN</td>\n",
              "      <td>제주 제주시 오라2동</td>\n",
              "    </tr>\n",
              "    <tr>\n",
              "      <th>338</th>\n",
              "      <td>C156182</td>\n",
              "      <td>1965-02-13</td>\n",
              "      <td>남</td>\n",
              "      <td>55</td>\n",
              "      <td>50대</td>\n",
              "      <td>일반</td>\n",
              "      <td>4Silver</td>\n",
              "      <td>2012-12-19</td>\n",
              "      <td>2012-12-19</td>\n",
              "      <td>0</td>\n",
              "      <td>매장</td>\n",
              "      <td>N</td>\n",
              "      <td>Y</td>\n",
              "      <td>Y</td>\n",
              "      <td>N</td>\n",
              "      <td>690-170</td>\n",
              "      <td>제주시</td>\n",
              "      <td>연동</td>\n",
              "      <td>NaN</td>\n",
              "      <td>제주 제주시 연동</td>\n",
              "    </tr>\n",
              "    <tr>\n",
              "      <th>341</th>\n",
              "      <td>C156317</td>\n",
              "      <td>1976-01-28</td>\n",
              "      <td>여</td>\n",
              "      <td>44</td>\n",
              "      <td>40대</td>\n",
              "      <td>일반</td>\n",
              "      <td>4Silver</td>\n",
              "      <td>2012-12-20</td>\n",
              "      <td>2012-12-20</td>\n",
              "      <td>0</td>\n",
              "      <td>전화</td>\n",
              "      <td>N</td>\n",
              "      <td>Y</td>\n",
              "      <td>N</td>\n",
              "      <td>N</td>\n",
              "      <td>690-760</td>\n",
              "      <td>제주시</td>\n",
              "      <td>노형동</td>\n",
              "      <td>부영아파트</td>\n",
              "      <td>제주 제주시 노형동 부영아파트</td>\n",
              "    </tr>\n",
              "    <tr>\n",
              "      <th>354</th>\n",
              "      <td>C157925</td>\n",
              "      <td>1969-04-19</td>\n",
              "      <td>남</td>\n",
              "      <td>51</td>\n",
              "      <td>50대</td>\n",
              "      <td>일반</td>\n",
              "      <td>2Platinum</td>\n",
              "      <td>2013-01-06</td>\n",
              "      <td>2013-01-16</td>\n",
              "      <td>0</td>\n",
              "      <td>전화</td>\n",
              "      <td>N</td>\n",
              "      <td>N</td>\n",
              "      <td>Y</td>\n",
              "      <td>Y</td>\n",
              "      <td>690-180</td>\n",
              "      <td>제주시</td>\n",
              "      <td>노형동</td>\n",
              "      <td>NaN</td>\n",
              "      <td>제주 제주시 노형동</td>\n",
              "    </tr>\n",
              "    <tr>\n",
              "      <th>480</th>\n",
              "      <td>C223425</td>\n",
              "      <td>1971-10-30</td>\n",
              "      <td>남</td>\n",
              "      <td>49</td>\n",
              "      <td>40대</td>\n",
              "      <td>일반</td>\n",
              "      <td>4Silver</td>\n",
              "      <td>2013-07-16</td>\n",
              "      <td>2013-07-16</td>\n",
              "      <td>0</td>\n",
              "      <td>기타</td>\n",
              "      <td>N</td>\n",
              "      <td>N</td>\n",
              "      <td>Y</td>\n",
              "      <td>Y</td>\n",
              "      <td>699-931</td>\n",
              "      <td>서귀포시</td>\n",
              "      <td>대정읍</td>\n",
              "      <td>구억리</td>\n",
              "      <td>제주 서귀포시 대정읍 구억리</td>\n",
              "    </tr>\n",
              "    <tr>\n",
              "      <th>511</th>\n",
              "      <td>C226937</td>\n",
              "      <td>1950-12-23</td>\n",
              "      <td>여</td>\n",
              "      <td>70</td>\n",
              "      <td>70대</td>\n",
              "      <td>일반</td>\n",
              "      <td>4Silver</td>\n",
              "      <td>2013-08-20</td>\n",
              "      <td>2013-08-21</td>\n",
              "      <td>0</td>\n",
              "      <td>매장</td>\n",
              "      <td>N</td>\n",
              "      <td>N</td>\n",
              "      <td>Y</td>\n",
              "      <td>N</td>\n",
              "      <td>695-916</td>\n",
              "      <td>제주시</td>\n",
              "      <td>애월읍</td>\n",
              "      <td>유수암리</td>\n",
              "      <td>제주 제주시 애월읍 유수암리</td>\n",
              "    </tr>\n",
              "    <tr>\n",
              "      <th>516</th>\n",
              "      <td>C227469</td>\n",
              "      <td>1950-12-23</td>\n",
              "      <td>남</td>\n",
              "      <td>70</td>\n",
              "      <td>70대</td>\n",
              "      <td>일반</td>\n",
              "      <td>3Gold</td>\n",
              "      <td>2013-08-27</td>\n",
              "      <td>2013-08-28</td>\n",
              "      <td>0</td>\n",
              "      <td>전화</td>\n",
              "      <td>N</td>\n",
              "      <td>N</td>\n",
              "      <td>Y</td>\n",
              "      <td>Y</td>\n",
              "      <td>695-916</td>\n",
              "      <td>제주시</td>\n",
              "      <td>애월읍</td>\n",
              "      <td>유수암리</td>\n",
              "      <td>제주 제주시 애월읍 유수암리</td>\n",
              "    </tr>\n",
              "    <tr>\n",
              "      <th>528</th>\n",
              "      <td>C229735</td>\n",
              "      <td>1966-02-14</td>\n",
              "      <td>남</td>\n",
              "      <td>54</td>\n",
              "      <td>50대</td>\n",
              "      <td>일반</td>\n",
              "      <td>3Gold</td>\n",
              "      <td>2013-09-11</td>\n",
              "      <td>2013-09-11</td>\n",
              "      <td>0</td>\n",
              "      <td>매장</td>\n",
              "      <td>N</td>\n",
              "      <td>N</td>\n",
              "      <td>Y</td>\n",
              "      <td>Y</td>\n",
              "      <td>690-180</td>\n",
              "      <td>제주시</td>\n",
              "      <td>노형동</td>\n",
              "      <td>NaN</td>\n",
              "      <td>제주 제주시 노형동</td>\n",
              "    </tr>\n",
              "    <tr>\n",
              "      <th>551</th>\n",
              "      <td>C234236</td>\n",
              "      <td>1974-08-10</td>\n",
              "      <td>여</td>\n",
              "      <td>46</td>\n",
              "      <td>40대</td>\n",
              "      <td>일반</td>\n",
              "      <td>4Silver</td>\n",
              "      <td>2013-10-11</td>\n",
              "      <td>2013-10-31</td>\n",
              "      <td>0</td>\n",
              "      <td>매장</td>\n",
              "      <td>N</td>\n",
              "      <td>Y</td>\n",
              "      <td>N</td>\n",
              "      <td>N</td>\n",
              "      <td>690-090</td>\n",
              "      <td>제주시</td>\n",
              "      <td>봉개동</td>\n",
              "      <td>NaN</td>\n",
              "      <td>제주 제주시 봉개동</td>\n",
              "    </tr>\n",
              "    <tr>\n",
              "      <th>572</th>\n",
              "      <td>C236527</td>\n",
              "      <td>1963-07-25</td>\n",
              "      <td>남</td>\n",
              "      <td>57</td>\n",
              "      <td>50대</td>\n",
              "      <td>일반</td>\n",
              "      <td>4Silver</td>\n",
              "      <td>2013-11-03</td>\n",
              "      <td>2013-11-04</td>\n",
              "      <td>0</td>\n",
              "      <td>전화</td>\n",
              "      <td>N</td>\n",
              "      <td>Y</td>\n",
              "      <td>Y</td>\n",
              "      <td>N</td>\n",
              "      <td>695-963</td>\n",
              "      <td>제주시</td>\n",
              "      <td>조천읍</td>\n",
              "      <td>신촌리</td>\n",
              "      <td>제주 제주시 조천읍 신촌리</td>\n",
              "    </tr>\n",
              "    <tr>\n",
              "      <th>735</th>\n",
              "      <td>C277506</td>\n",
              "      <td>1975-05-16</td>\n",
              "      <td>여</td>\n",
              "      <td>45</td>\n",
              "      <td>40대</td>\n",
              "      <td>일반</td>\n",
              "      <td>4Silver</td>\n",
              "      <td>2014-06-01</td>\n",
              "      <td>2014-06-01</td>\n",
              "      <td>0</td>\n",
              "      <td>인터넷</td>\n",
              "      <td>N</td>\n",
              "      <td>N</td>\n",
              "      <td>N</td>\n",
              "      <td>Y</td>\n",
              "      <td>690-725</td>\n",
              "      <td>제주시</td>\n",
              "      <td>연동</td>\n",
              "      <td>현대오피스텔</td>\n",
              "      <td>제주 제주시 연동 현대오피스텔</td>\n",
              "    </tr>\n",
              "    <tr>\n",
              "      <th>738</th>\n",
              "      <td>C277666</td>\n",
              "      <td>1966-02-07</td>\n",
              "      <td>남</td>\n",
              "      <td>54</td>\n",
              "      <td>50대</td>\n",
              "      <td>일반</td>\n",
              "      <td>4Silver</td>\n",
              "      <td>2014-06-01</td>\n",
              "      <td>2014-06-25</td>\n",
              "      <td>0</td>\n",
              "      <td>매장</td>\n",
              "      <td>N</td>\n",
              "      <td>N</td>\n",
              "      <td>Y</td>\n",
              "      <td>Y</td>\n",
              "      <td>690-210</td>\n",
              "      <td>제주시</td>\n",
              "      <td>내도동</td>\n",
              "      <td>NaN</td>\n",
              "      <td>제주 제주시 내도동</td>\n",
              "    </tr>\n",
              "    <tr>\n",
              "      <th>748</th>\n",
              "      <td>C278687</td>\n",
              "      <td>1967-11-27</td>\n",
              "      <td>남</td>\n",
              "      <td>53</td>\n",
              "      <td>50대</td>\n",
              "      <td>일반</td>\n",
              "      <td>4Silver</td>\n",
              "      <td>2014-06-08</td>\n",
              "      <td>2014-06-09</td>\n",
              "      <td>0</td>\n",
              "      <td>인터넷</td>\n",
              "      <td>N</td>\n",
              "      <td>N</td>\n",
              "      <td>N</td>\n",
              "      <td>N</td>\n",
              "      <td>690-800</td>\n",
              "      <td>제주시</td>\n",
              "      <td>건입동</td>\n",
              "      <td>1~886</td>\n",
              "      <td>제주 제주시 건입동 1~886</td>\n",
              "    </tr>\n",
              "    <tr>\n",
              "      <th>763</th>\n",
              "      <td>C296505</td>\n",
              "      <td>1958-03-03</td>\n",
              "      <td>여</td>\n",
              "      <td>62</td>\n",
              "      <td>60대</td>\n",
              "      <td>일반</td>\n",
              "      <td>4Silver</td>\n",
              "      <td>2014-07-06</td>\n",
              "      <td>2014-07-06</td>\n",
              "      <td>0</td>\n",
              "      <td>전화</td>\n",
              "      <td>N</td>\n",
              "      <td>N</td>\n",
              "      <td>Y</td>\n",
              "      <td>N</td>\n",
              "      <td>695-916</td>\n",
              "      <td>제주시</td>\n",
              "      <td>애월읍</td>\n",
              "      <td>유수암리</td>\n",
              "      <td>제주 제주시 애월읍 유수암리</td>\n",
              "    </tr>\n",
              "    <tr>\n",
              "      <th>780</th>\n",
              "      <td>C299984</td>\n",
              "      <td>1947-03-08</td>\n",
              "      <td>남</td>\n",
              "      <td>73</td>\n",
              "      <td>70대</td>\n",
              "      <td>일반</td>\n",
              "      <td>4Silver</td>\n",
              "      <td>2014-07-28</td>\n",
              "      <td>2014-07-31</td>\n",
              "      <td>0</td>\n",
              "      <td>인터넷</td>\n",
              "      <td>N</td>\n",
              "      <td>N</td>\n",
              "      <td>Y</td>\n",
              "      <td>Y</td>\n",
              "      <td>699-945</td>\n",
              "      <td>서귀포시</td>\n",
              "      <td>남원읍</td>\n",
              "      <td>태흥리</td>\n",
              "      <td>제주 서귀포시 남원읍 태흥리</td>\n",
              "    </tr>\n",
              "    <tr>\n",
              "      <th>810</th>\n",
              "      <td>C308535</td>\n",
              "      <td>1969-03-06</td>\n",
              "      <td>남</td>\n",
              "      <td>51</td>\n",
              "      <td>50대</td>\n",
              "      <td>일반</td>\n",
              "      <td>4Silver</td>\n",
              "      <td>2014-09-14</td>\n",
              "      <td>2014-09-16</td>\n",
              "      <td>0</td>\n",
              "      <td>매장</td>\n",
              "      <td>N</td>\n",
              "      <td>N</td>\n",
              "      <td>Y</td>\n",
              "      <td>Y</td>\n",
              "      <td>690-241</td>\n",
              "      <td>제주시</td>\n",
              "      <td>도두1동</td>\n",
              "      <td>NaN</td>\n",
              "      <td>제주 제주시 도두1동</td>\n",
              "    </tr>\n",
              "    <tr>\n",
              "      <th>863</th>\n",
              "      <td>C326322</td>\n",
              "      <td>1965-03-25</td>\n",
              "      <td>여</td>\n",
              "      <td>55</td>\n",
              "      <td>50대</td>\n",
              "      <td>일반</td>\n",
              "      <td>2Platinum</td>\n",
              "      <td>2015-01-14</td>\n",
              "      <td>2015-01-18</td>\n",
              "      <td>0</td>\n",
              "      <td>인터넷</td>\n",
              "      <td>N</td>\n",
              "      <td>Y</td>\n",
              "      <td>N</td>\n",
              "      <td>N</td>\n",
              "      <td>699-900</td>\n",
              "      <td>서귀포시</td>\n",
              "      <td>성산읍</td>\n",
              "      <td>NaN</td>\n",
              "      <td>제주 서귀포시 성산읍</td>\n",
              "    </tr>\n",
              "    <tr>\n",
              "      <th>1100</th>\n",
              "      <td>C387094</td>\n",
              "      <td>1959-04-12</td>\n",
              "      <td>남</td>\n",
              "      <td>61</td>\n",
              "      <td>60대</td>\n",
              "      <td>일반</td>\n",
              "      <td>4Silver</td>\n",
              "      <td>2015-12-10</td>\n",
              "      <td>2015-12-15</td>\n",
              "      <td>0</td>\n",
              "      <td>매장</td>\n",
              "      <td>N</td>\n",
              "      <td>Y</td>\n",
              "      <td>Y</td>\n",
              "      <td>N</td>\n",
              "      <td>690-029</td>\n",
              "      <td>제주시</td>\n",
              "      <td>도남동</td>\n",
              "      <td>NaN</td>\n",
              "      <td>제주 제주시 도남동</td>\n",
              "    </tr>\n",
              "    <tr>\n",
              "      <th>1416</th>\n",
              "      <td>C435531</td>\n",
              "      <td>1965-04-18</td>\n",
              "      <td>남</td>\n",
              "      <td>55</td>\n",
              "      <td>50대</td>\n",
              "      <td>일반</td>\n",
              "      <td>3Gold</td>\n",
              "      <td>2016-07-19</td>\n",
              "      <td>2016-07-22</td>\n",
              "      <td>0</td>\n",
              "      <td>매장</td>\n",
              "      <td>N</td>\n",
              "      <td>N</td>\n",
              "      <td>Y</td>\n",
              "      <td>Y</td>\n",
              "      <td>699-931</td>\n",
              "      <td>서귀포시</td>\n",
              "      <td>대정읍</td>\n",
              "      <td>구억리</td>\n",
              "      <td>제주 서귀포시 대정읍 구억리</td>\n",
              "    </tr>\n",
              "    <tr>\n",
              "      <th>1899</th>\n",
              "      <td>C457065</td>\n",
              "      <td>1985-10-05</td>\n",
              "      <td>여</td>\n",
              "      <td>35</td>\n",
              "      <td>30대</td>\n",
              "      <td>일반</td>\n",
              "      <td>4Silver</td>\n",
              "      <td>2016-10-17</td>\n",
              "      <td>2016-10-26</td>\n",
              "      <td>0</td>\n",
              "      <td>인터넷</td>\n",
              "      <td>N</td>\n",
              "      <td>N</td>\n",
              "      <td>N</td>\n",
              "      <td>Y</td>\n",
              "      <td>699-903</td>\n",
              "      <td>서귀포시</td>\n",
              "      <td>성산읍</td>\n",
              "      <td>성산리</td>\n",
              "      <td>제주 서귀포시 성산읍 성산리</td>\n",
              "    </tr>\n",
              "    <tr>\n",
              "      <th>2302</th>\n",
              "      <td>C477163</td>\n",
              "      <td>1969-04-20</td>\n",
              "      <td>남</td>\n",
              "      <td>51</td>\n",
              "      <td>50대</td>\n",
              "      <td>일반</td>\n",
              "      <td>3Gold</td>\n",
              "      <td>2017-01-24</td>\n",
              "      <td>2017-01-25</td>\n",
              "      <td>0</td>\n",
              "      <td>매장</td>\n",
              "      <td>N</td>\n",
              "      <td>N</td>\n",
              "      <td>N</td>\n",
              "      <td>N</td>\n",
              "      <td>699-901</td>\n",
              "      <td>서귀포시</td>\n",
              "      <td>성산읍</td>\n",
              "      <td>고성리</td>\n",
              "      <td>제주 서귀포시 성산읍 고성리</td>\n",
              "    </tr>\n",
              "    <tr>\n",
              "      <th>2501</th>\n",
              "      <td>C487136</td>\n",
              "      <td>1982-01-26</td>\n",
              "      <td>여</td>\n",
              "      <td>38</td>\n",
              "      <td>30대</td>\n",
              "      <td>일반</td>\n",
              "      <td>3Gold</td>\n",
              "      <td>2017-03-02</td>\n",
              "      <td>2017-03-10</td>\n",
              "      <td>0</td>\n",
              "      <td>전화</td>\n",
              "      <td>N</td>\n",
              "      <td>Y</td>\n",
              "      <td>N</td>\n",
              "      <td>N</td>\n",
              "      <td>690-800</td>\n",
              "      <td>제주시</td>\n",
              "      <td>건입동</td>\n",
              "      <td>1~886</td>\n",
              "      <td>제주 제주시 건입동 1~886</td>\n",
              "    </tr>\n",
              "    <tr>\n",
              "      <th>2946</th>\n",
              "      <td>C523387</td>\n",
              "      <td>1977-06-20</td>\n",
              "      <td>남</td>\n",
              "      <td>43</td>\n",
              "      <td>40대</td>\n",
              "      <td>일반</td>\n",
              "      <td>4Silver</td>\n",
              "      <td>2017-07-11</td>\n",
              "      <td>2017-07-17</td>\n",
              "      <td>0</td>\n",
              "      <td>인터넷</td>\n",
              "      <td>N</td>\n",
              "      <td>N</td>\n",
              "      <td>Y</td>\n",
              "      <td>Y</td>\n",
              "      <td>697-837</td>\n",
              "      <td>서귀포시</td>\n",
              "      <td>동홍동</td>\n",
              "      <td>500~1255</td>\n",
              "      <td>제주 서귀포시 동홍동 500~1255</td>\n",
              "    </tr>\n",
              "    <tr>\n",
              "      <th>2987</th>\n",
              "      <td>C525925</td>\n",
              "      <td>1968-09-04</td>\n",
              "      <td>여</td>\n",
              "      <td>52</td>\n",
              "      <td>50대</td>\n",
              "      <td>일반</td>\n",
              "      <td>4Silver</td>\n",
              "      <td>2017-07-23</td>\n",
              "      <td>2017-07-26</td>\n",
              "      <td>0</td>\n",
              "      <td>매장</td>\n",
              "      <td>N</td>\n",
              "      <td>Y</td>\n",
              "      <td>N</td>\n",
              "      <td>N</td>\n",
              "      <td>695-904</td>\n",
              "      <td>제주시</td>\n",
              "      <td>애월읍</td>\n",
              "      <td>광령1리</td>\n",
              "      <td>제주 제주시 애월읍 광령1리</td>\n",
              "    </tr>\n",
              "    <tr>\n",
              "      <th>3070</th>\n",
              "      <td>C534556</td>\n",
              "      <td>1976-12-03</td>\n",
              "      <td>남</td>\n",
              "      <td>44</td>\n",
              "      <td>40대</td>\n",
              "      <td>일반</td>\n",
              "      <td>3Gold</td>\n",
              "      <td>2017-08-14</td>\n",
              "      <td>2017-08-22</td>\n",
              "      <td>0</td>\n",
              "      <td>인터넷</td>\n",
              "      <td>N</td>\n",
              "      <td>N</td>\n",
              "      <td>N</td>\n",
              "      <td>N</td>\n",
              "      <td>695-934</td>\n",
              "      <td>제주시</td>\n",
              "      <td>한림읍</td>\n",
              "      <td>협재리</td>\n",
              "      <td>제주 제주시 한림읍 협재리</td>\n",
              "    </tr>\n",
              "    <tr>\n",
              "      <th>3084</th>\n",
              "      <td>C535472</td>\n",
              "      <td>1960-08-28</td>\n",
              "      <td>남</td>\n",
              "      <td>60</td>\n",
              "      <td>60대</td>\n",
              "      <td>일반</td>\n",
              "      <td>4Silver</td>\n",
              "      <td>2017-08-17</td>\n",
              "      <td>2017-08-20</td>\n",
              "      <td>0</td>\n",
              "      <td>매장</td>\n",
              "      <td>N</td>\n",
              "      <td>N</td>\n",
              "      <td>Y</td>\n",
              "      <td>Y</td>\n",
              "      <td>697-835</td>\n",
              "      <td>서귀포시</td>\n",
              "      <td>동홍동</td>\n",
              "      <td>119~434</td>\n",
              "      <td>제주 서귀포시 동홍동 119~434</td>\n",
              "    </tr>\n",
              "    <tr>\n",
              "      <th>3340</th>\n",
              "      <td>C558515</td>\n",
              "      <td>1977-07-19</td>\n",
              "      <td>남</td>\n",
              "      <td>43</td>\n",
              "      <td>40대</td>\n",
              "      <td>일반</td>\n",
              "      <td>4Silver</td>\n",
              "      <td>2017-11-08</td>\n",
              "      <td>2017-11-12</td>\n",
              "      <td>0</td>\n",
              "      <td>전화</td>\n",
              "      <td>N</td>\n",
              "      <td>N</td>\n",
              "      <td>N</td>\n",
              "      <td>N</td>\n",
              "      <td>690-170</td>\n",
              "      <td>제주시</td>\n",
              "      <td>연동</td>\n",
              "      <td>NaN</td>\n",
              "      <td>제주 제주시 연동</td>\n",
              "    </tr>\n",
              "    <tr>\n",
              "      <th>3547</th>\n",
              "      <td>C570578</td>\n",
              "      <td>1956-08-01</td>\n",
              "      <td>여</td>\n",
              "      <td>64</td>\n",
              "      <td>60대</td>\n",
              "      <td>일반</td>\n",
              "      <td>4Silver</td>\n",
              "      <td>2018-01-03</td>\n",
              "      <td>2018-01-30</td>\n",
              "      <td>0</td>\n",
              "      <td>매장</td>\n",
              "      <td>N</td>\n",
              "      <td>N</td>\n",
              "      <td>Y</td>\n",
              "      <td>N</td>\n",
              "      <td>690-180</td>\n",
              "      <td>제주시</td>\n",
              "      <td>노형동</td>\n",
              "      <td>NaN</td>\n",
              "      <td>제주 제주시 노형동</td>\n",
              "    </tr>\n",
              "    <tr>\n",
              "      <th>3985</th>\n",
              "      <td>C597116</td>\n",
              "      <td>1947-02-01</td>\n",
              "      <td>여</td>\n",
              "      <td>73</td>\n",
              "      <td>70대</td>\n",
              "      <td>일반</td>\n",
              "      <td>4Silver</td>\n",
              "      <td>2018-05-03</td>\n",
              "      <td>2018-05-15</td>\n",
              "      <td>0</td>\n",
              "      <td>인터넷</td>\n",
              "      <td>N</td>\n",
              "      <td>N</td>\n",
              "      <td>Y</td>\n",
              "      <td>N</td>\n",
              "      <td>699-940</td>\n",
              "      <td>서귀포시</td>\n",
              "      <td>남원읍</td>\n",
              "      <td>NaN</td>\n",
              "      <td>제주 서귀포시 남원읍</td>\n",
              "    </tr>\n",
              "    <tr>\n",
              "      <th>5503</th>\n",
              "      <td>C681673</td>\n",
              "      <td>1969-06-04</td>\n",
              "      <td>여</td>\n",
              "      <td>51</td>\n",
              "      <td>50대</td>\n",
              "      <td>일반</td>\n",
              "      <td>4Silver</td>\n",
              "      <td>2019-08-04</td>\n",
              "      <td>2019-08-08</td>\n",
              "      <td>0</td>\n",
              "      <td>인터넷</td>\n",
              "      <td>N</td>\n",
              "      <td>N</td>\n",
              "      <td>Y</td>\n",
              "      <td>N</td>\n",
              "      <td>690-191</td>\n",
              "      <td>제주시</td>\n",
              "      <td>외도1동</td>\n",
              "      <td>NaN</td>\n",
              "      <td>제주 제주시 외도1동</td>\n",
              "    </tr>\n",
              "    <tr>\n",
              "      <th>5845</th>\n",
              "      <td>C698454</td>\n",
              "      <td>1958-12-21</td>\n",
              "      <td>여</td>\n",
              "      <td>62</td>\n",
              "      <td>60대</td>\n",
              "      <td>일반</td>\n",
              "      <td>4Silver</td>\n",
              "      <td>2019-11-01</td>\n",
              "      <td>2019-11-11</td>\n",
              "      <td>0</td>\n",
              "      <td>매장</td>\n",
              "      <td>N</td>\n",
              "      <td>N</td>\n",
              "      <td>Y</td>\n",
              "      <td>N</td>\n",
              "      <td>690-802</td>\n",
              "      <td>제주시</td>\n",
              "      <td>노형동</td>\n",
              "      <td>1~1019</td>\n",
              "      <td>제주 제주시 노형동 1~1019</td>\n",
              "    </tr>\n",
              "  </tbody>\n",
              "</table>\n",
              "</div>"
            ],
            "text/plain": [
              "     customer_id  birth_date gender  age agegroup customer_type  \\\n",
              "164      C136288  1973-12-22      남   47      40대            일반   \n",
              "310      C154193  1973-01-29      남   47      40대            일반   \n",
              "338      C156182  1965-02-13      남   55      50대            일반   \n",
              "341      C156317  1976-01-28      여   44      40대            일반   \n",
              "354      C157925  1969-04-19      남   51      50대            일반   \n",
              "480      C223425  1971-10-30      남   49      40대            일반   \n",
              "511      C226937  1950-12-23      여   70      70대            일반   \n",
              "516      C227469  1950-12-23      남   70      70대            일반   \n",
              "528      C229735  1966-02-14      남   54      50대            일반   \n",
              "551      C234236  1974-08-10      여   46      40대            일반   \n",
              "572      C236527  1963-07-25      남   57      50대            일반   \n",
              "735      C277506  1975-05-16      여   45      40대            일반   \n",
              "738      C277666  1966-02-07      남   54      50대            일반   \n",
              "748      C278687  1967-11-27      남   53      50대            일반   \n",
              "763      C296505  1958-03-03      여   62      60대            일반   \n",
              "780      C299984  1947-03-08      남   73      70대            일반   \n",
              "810      C308535  1969-03-06      남   51      50대            일반   \n",
              "863      C326322  1965-03-25      여   55      50대            일반   \n",
              "1100     C387094  1959-04-12      남   61      60대            일반   \n",
              "1416     C435531  1965-04-18      남   55      50대            일반   \n",
              "1899     C457065  1985-10-05      여   35      30대            일반   \n",
              "2302     C477163  1969-04-20      남   51      50대            일반   \n",
              "2501     C487136  1982-01-26      여   38      30대            일반   \n",
              "2946     C523387  1977-06-20      남   43      40대            일반   \n",
              "2987     C525925  1968-09-04      여   52      50대            일반   \n",
              "3070     C534556  1976-12-03      남   44      40대            일반   \n",
              "3084     C535472  1960-08-28      남   60      60대            일반   \n",
              "3340     C558515  1977-07-19      남   43      40대            일반   \n",
              "3547     C570578  1956-08-01      여   64      60대            일반   \n",
              "3985     C597116  1947-02-01      여   73      70대            일반   \n",
              "5503     C681673  1969-06-04      여   51      50대            일반   \n",
              "5845     C698454  1958-12-21      여   62      60대            일반   \n",
              "\n",
              "     customer_grade   gaip_date taltoi_date  member_month gaip_path  \\\n",
              "164           3Gold  2012-07-08  2012-07-10             0       인터넷   \n",
              "310           3Gold  2012-11-29  2012-11-29             0        매장   \n",
              "338         4Silver  2012-12-19  2012-12-19             0        매장   \n",
              "341         4Silver  2012-12-20  2012-12-20             0        전화   \n",
              "354       2Platinum  2013-01-06  2013-01-16             0        전화   \n",
              "480         4Silver  2013-07-16  2013-07-16             0        기타   \n",
              "511         4Silver  2013-08-20  2013-08-21             0        매장   \n",
              "516           3Gold  2013-08-27  2013-08-28             0        전화   \n",
              "528           3Gold  2013-09-11  2013-09-11             0        매장   \n",
              "551         4Silver  2013-10-11  2013-10-31             0        매장   \n",
              "572         4Silver  2013-11-03  2013-11-04             0        전화   \n",
              "735         4Silver  2014-06-01  2014-06-01             0       인터넷   \n",
              "738         4Silver  2014-06-01  2014-06-25             0        매장   \n",
              "748         4Silver  2014-06-08  2014-06-09             0       인터넷   \n",
              "763         4Silver  2014-07-06  2014-07-06             0        전화   \n",
              "780         4Silver  2014-07-28  2014-07-31             0       인터넷   \n",
              "810         4Silver  2014-09-14  2014-09-16             0        매장   \n",
              "863       2Platinum  2015-01-14  2015-01-18             0       인터넷   \n",
              "1100        4Silver  2015-12-10  2015-12-15             0        매장   \n",
              "1416          3Gold  2016-07-19  2016-07-22             0        매장   \n",
              "1899        4Silver  2016-10-17  2016-10-26             0       인터넷   \n",
              "2302          3Gold  2017-01-24  2017-01-25             0        매장   \n",
              "2501          3Gold  2017-03-02  2017-03-10             0        전화   \n",
              "2946        4Silver  2017-07-11  2017-07-17             0       인터넷   \n",
              "2987        4Silver  2017-07-23  2017-07-26             0        매장   \n",
              "3070          3Gold  2017-08-14  2017-08-22             0       인터넷   \n",
              "3084        4Silver  2017-08-17  2017-08-20             0        매장   \n",
              "3340        4Silver  2017-11-08  2017-11-12             0        전화   \n",
              "3547        4Silver  2018-01-03  2018-01-30             0        매장   \n",
              "3985        4Silver  2018-05-03  2018-05-15             0       인터넷   \n",
              "5503        4Silver  2019-08-04  2019-08-08             0       인터넷   \n",
              "5845        4Silver  2019-11-01  2019-11-11             0        매장   \n",
              "\n",
              "     flag_member flag_rcv_sms flag_rcv_email flag_rcv_post  zipcode sigun  \\\n",
              "164            N            Y              Y             N  690-760   제주시   \n",
              "310            N            N              N             N  690-162   제주시   \n",
              "338            N            Y              Y             N  690-170   제주시   \n",
              "341            N            Y              N             N  690-760   제주시   \n",
              "354            N            N              Y             Y  690-180   제주시   \n",
              "480            N            N              Y             Y  699-931  서귀포시   \n",
              "511            N            N              Y             N  695-916   제주시   \n",
              "516            N            N              Y             Y  695-916   제주시   \n",
              "528            N            N              Y             Y  690-180   제주시   \n",
              "551            N            Y              N             N  690-090   제주시   \n",
              "572            N            Y              Y             N  695-963   제주시   \n",
              "735            N            N              N             Y  690-725   제주시   \n",
              "738            N            N              Y             Y  690-210   제주시   \n",
              "748            N            N              N             N  690-800   제주시   \n",
              "763            N            N              Y             N  695-916   제주시   \n",
              "780            N            N              Y             Y  699-945  서귀포시   \n",
              "810            N            N              Y             Y  690-241   제주시   \n",
              "863            N            Y              N             N  699-900  서귀포시   \n",
              "1100           N            Y              Y             N  690-029   제주시   \n",
              "1416           N            N              Y             Y  699-931  서귀포시   \n",
              "1899           N            N              N             Y  699-903  서귀포시   \n",
              "2302           N            N              N             N  699-901  서귀포시   \n",
              "2501           N            Y              N             N  690-800   제주시   \n",
              "2946           N            N              Y             Y  697-837  서귀포시   \n",
              "2987           N            Y              N             N  695-904   제주시   \n",
              "3070           N            N              N             N  695-934   제주시   \n",
              "3084           N            N              Y             Y  697-835  서귀포시   \n",
              "3340           N            N              N             N  690-170   제주시   \n",
              "3547           N            N              Y             N  690-180   제주시   \n",
              "3985           N            N              Y             N  699-940  서귀포시   \n",
              "5503           N            N              Y             N  690-191   제주시   \n",
              "5845           N            N              Y             N  690-802   제주시   \n",
              "\n",
              "      dong        ri               address  \n",
              "164    노형동     부영아파트      제주 제주시 노형동 부영아파트  \n",
              "310   오라2동       NaN           제주 제주시 오라2동  \n",
              "338     연동       NaN             제주 제주시 연동  \n",
              "341    노형동     부영아파트      제주 제주시 노형동 부영아파트  \n",
              "354    노형동       NaN            제주 제주시 노형동  \n",
              "480    대정읍       구억리       제주 서귀포시 대정읍 구억리  \n",
              "511    애월읍      유수암리       제주 제주시 애월읍 유수암리  \n",
              "516    애월읍      유수암리       제주 제주시 애월읍 유수암리  \n",
              "528    노형동       NaN            제주 제주시 노형동  \n",
              "551    봉개동       NaN            제주 제주시 봉개동  \n",
              "572    조천읍       신촌리        제주 제주시 조천읍 신촌리  \n",
              "735     연동    현대오피스텔      제주 제주시 연동 현대오피스텔  \n",
              "738    내도동       NaN            제주 제주시 내도동  \n",
              "748    건입동     1~886      제주 제주시 건입동 1~886  \n",
              "763    애월읍      유수암리       제주 제주시 애월읍 유수암리  \n",
              "780    남원읍       태흥리       제주 서귀포시 남원읍 태흥리  \n",
              "810   도두1동       NaN           제주 제주시 도두1동  \n",
              "863    성산읍       NaN           제주 서귀포시 성산읍  \n",
              "1100   도남동       NaN            제주 제주시 도남동  \n",
              "1416   대정읍       구억리       제주 서귀포시 대정읍 구억리  \n",
              "1899   성산읍       성산리       제주 서귀포시 성산읍 성산리  \n",
              "2302   성산읍       고성리       제주 서귀포시 성산읍 고성리  \n",
              "2501   건입동     1~886      제주 제주시 건입동 1~886  \n",
              "2946   동홍동  500~1255  제주 서귀포시 동홍동 500~1255  \n",
              "2987   애월읍      광령1리       제주 제주시 애월읍 광령1리  \n",
              "3070   한림읍       협재리        제주 제주시 한림읍 협재리  \n",
              "3084   동홍동   119~434   제주 서귀포시 동홍동 119~434  \n",
              "3340    연동       NaN             제주 제주시 연동  \n",
              "3547   노형동       NaN            제주 제주시 노형동  \n",
              "3985   남원읍       NaN           제주 서귀포시 남원읍  \n",
              "5503  외도1동       NaN           제주 제주시 외도1동  \n",
              "5845   노형동    1~1019     제주 제주시 노형동 1~1019  "
            ]
          },
          "execution_count": 37,
          "metadata": {},
          "output_type": "execute_result"
        }
      ],
      "source": [
        "out = df_raw.query('member_month==0')\n",
        "out"
      ]
    },
    {
      "cell_type": "markdown",
      "metadata": {
        "id": "Ur8PKDkEW_4t"
      },
      "source": [
        "- 회원 기간(월)이 0인 데이터들이 있는데 이상치로 쳐야 할까? \n",
        "- →(이상치 처리 방법) 확인 결과 모두 가입한치 한달이 채 안돼서 0으로 처리한 것을 알 수 있었음."
      ]
    },
    {
      "cell_type": "markdown",
      "metadata": {
        "id": "EsDJ1aBxW_4t"
      },
      "source": [
        "----------------------------------------------------------------------------------------"
      ]
    },
    {
      "cell_type": "markdown",
      "metadata": {
        "id": "4zhW5TcyW_4t"
      },
      "source": [
        "### ■ jeju_sales"
      ]
    },
    {
      "cell_type": "markdown",
      "metadata": {
        "id": "KPXlBzgQW_4t"
      },
      "source": [
        "### Step2-2.  jeju_sales 결측치, 이상치"
      ]
    },
    {
      "cell_type": "markdown",
      "metadata": {
        "id": "Ge1ox_yJW_4t"
      },
      "source": [
        "#### (1) jeju_sales 결측치 확인"
      ]
    },
    {
      "cell_type": "code",
      "execution_count": null,
      "metadata": {
        "scrolled": false,
        "id": "xoFTXXhVW_4t",
        "outputId": "139ec277-a368-492a-9338-06157d3267d7"
      },
      "outputs": [
        {
          "data": {
            "text/plain": [
              "customer_id           0\n",
              "purchase_id           0\n",
              "store_id              0\n",
              "purchase_yearmonth    0\n",
              "purchase_weekday      0\n",
              "purchase_hour         0\n",
              "purchase_date         0\n",
              "purchase_time         0\n",
              "supply_date           0\n",
              "item_id               0\n",
              "item_g_l              0\n",
              "item_g_m              0\n",
              "item_g_s              0\n",
              "item_name             0\n",
              "purchase_cnt          0\n",
              "unit_cost             0\n",
              "purchase_amt          0\n",
              "dtype: int64"
            ]
          },
          "execution_count": 38,
          "metadata": {},
          "output_type": "execute_result"
        }
      ],
      "source": [
        "df_raw1.isnull().sum(axis=0)"
      ]
    },
    {
      "cell_type": "markdown",
      "metadata": {
        "id": "-J4lRAC1W_4u"
      },
      "source": [
        "- 결측치 없음"
      ]
    },
    {
      "cell_type": "markdown",
      "metadata": {
        "id": "7gYhQtH4W_4u"
      },
      "source": [
        "#### (2) jeju_sales 이상치 확인"
      ]
    },
    {
      "cell_type": "code",
      "execution_count": null,
      "metadata": {
        "scrolled": false,
        "id": "G3wJrwEMW_4u",
        "outputId": "392e8956-5f1e-48f9-8c14-b0250d03c2eb"
      },
      "outputs": [
        {
          "data": {
            "text/plain": [
              "<matplotlib.axes._subplots.AxesSubplot at 0x27e2a7b3ec8>"
            ]
          },
          "execution_count": 39,
          "metadata": {},
          "output_type": "execute_result"
        },
        {
          "data": {
            "image/png": "[encoded data removed]",
            "text/plain": [
              "<Figure size 432x288 with 1 Axes>"
            ]
          },
          "metadata": {
            "needs_background": "light"
          },
          "output_type": "display_data"
        }
      ],
      "source": [
        "df_raw1.boxplot()"
      ]
    },
    {
      "cell_type": "markdown",
      "metadata": {
        "id": "-8lmN9zfW_4u"
      },
      "source": [
        "###### jeju_sales의 '구매 총액'에서 이상치를 가진 데이터 확인"
      ]
    },
    {
      "cell_type": "markdown",
      "metadata": {
        "id": "UkXDnhDPW_4u"
      },
      "source": [
        "#### ※ '구매 총액'에서 이상치 발견\n",
        "\n",
        "- 구매 총액이 특출나게 높은 데이터가 있는데 이상치로 쳐야 할까? \n",
        "- →(이상치 처리 방법) 확인 결과 구매총액에서 특정 구매 총액 가격이 특출나게 높은 것은 vip고객일 수 있으므로 이상치로 생각해서 데이터를 제거하면 안된다고 판단함. "
      ]
    },
    {
      "cell_type": "markdown",
      "metadata": {
        "id": "zWr-tXjwW_4u"
      },
      "source": [
        "# -----------------------------------------------------------------------------------------------------------"
      ]
    },
    {
      "cell_type": "markdown",
      "metadata": {
        "id": "hUkXEoWaW_4u"
      },
      "source": [
        "## Step3. 파생변수 생성"
      ]
    },
    {
      "cell_type": "markdown",
      "metadata": {
        "id": "E44hduL8W_4u"
      },
      "source": [
        "### Step3-0.  jeju_member, jeju_sales 데이터 불러오기"
      ]
    },
    {
      "cell_type": "code",
      "execution_count": null,
      "metadata": {
        "id": "6YKvE1A7W_4u"
      },
      "outputs": [],
      "source": [
        "df_raw = pd.read_csv(\"C:/Users/소은/Desktop/A2_유통/jeju_member.csv\",parse_dates = ['gaip_date','taltoi_date'])\n",
        "df = pd.read_csv(\"C:/Users/소은/Desktop/A2_유통/jeju_sales.csv\",parse_dates = ['purchase_date','supply_date', ])"
      ]
    },
    {
      "cell_type": "markdown",
      "metadata": {
        "id": "CZCD90wfW_4u"
      },
      "source": [
        "### Step3-1. 구매일자를 계절별로 묶음"
      ]
    },
    {
      "cell_type": "code",
      "execution_count": null,
      "metadata": {
        "id": "hsDfnOueW_4u"
      },
      "outputs": [],
      "source": [
        "df.set_index('purchase_date', inplace = True)\n",
        "df['month']=df.index.month \n",
        "month = df.month\n",
        "season=[]\n",
        "\n",
        "\n",
        "for _ in range(len(month)):\n",
        "    if month[_] == 3 or month[_] == 4 or month[_] == 5:\n",
        "        season.append('spring')\n",
        "       # print(\"spring\")# spring \n",
        "    elif month[_] == 6 or month[_] == 7 or month[_] == 8:\n",
        "        season.append('summer')\n",
        "        #print(\"summer\")# summer\n",
        "    elif month[_] == 9 or month[_] == 10 or month[_] == 11:\n",
        "        season.append('fall')\n",
        "        #print(\"fall\")# fall\n",
        "    else:\n",
        "        season.append('winter')\n",
        "        #print(\"winter\")# winter\n",
        "\n",
        "quarter = []\n",
        "        \n",
        "for _ in range(len(month)):\n",
        "    if month[_] == 1 or month[_] == 2 or month[_] == 3:\n",
        "        quarter.append('1')\n",
        "       # print(\"spring\")# spring \n",
        "    elif month[_] == 4 or month[_] == 5 or month[_] == 6:\n",
        "        quarter.append('2')\n",
        "        #print(\"summer\")# summer\n",
        "    elif month[_] == 7 or month[_] == 8 or month[_] == 9:\n",
        "        quarter.append('3')\n",
        "        #print(\"fall\")# fall\n",
        "    else:\n",
        "        quarter.append('4')\n",
        "        #print(\"winter\")# winter\n",
        "        \n",
        "        \n",
        "df['purchase_SEASON'] = season\n",
        "df['purchase_Quarter'] = quarter"
      ]
    },
    {
      "cell_type": "markdown",
      "metadata": {
        "id": "OAPGuAWkW_4u"
      },
      "source": [
        "### Step3-2. 공급일자를 계절별로 묶음"
      ]
    },
    {
      "cell_type": "code",
      "execution_count": null,
      "metadata": {
        "id": "Y1Odwn_dW_4u"
      },
      "outputs": [],
      "source": [
        "df.set_index('supply_date', inplace = True)\n",
        "df['month']=df.index.month \n",
        "month = df.month\n",
        "season=[]\n",
        "\n",
        "for _ in range(len(month)):\n",
        "    if month[_] == 3 or month[_] == 4 or month[_] == 5:\n",
        "        season.append('spring')\n",
        "       # print(\"spring\")# spring \n",
        "    elif month[_] == 6 or month[_] == 7 or month[_] == 8:\n",
        "        season.append('summer')\n",
        "        #print(\"summer\")# summer\n",
        "    elif month[_] == 9 or month[_] == 10 or month[_] == 11:\n",
        "        season.append('fall')\n",
        "        #print(\"fall\")# fall\n",
        "    else:\n",
        "        season.append('winter')\n",
        "        #print(\"winter\")# winter\n",
        "        \n",
        "quarter = []\n",
        "        \n",
        "for _ in range(len(month)):\n",
        "    if month[_] == 1 or month[_] == 2 or month[_] == 3:\n",
        "        quarter.append('1')\n",
        "     \n",
        "    elif month[_] == 4 or month[_] == 5 or month[_] == 6:\n",
        "        quarter.append('2')\n",
        "       \n",
        "    elif month[_] == 7 or month[_] == 8 or month[_] == 9:\n",
        "        quarter.append('3')\n",
        "        \n",
        "    else:\n",
        "        quarter.append('4')\n",
        "       \n",
        "        \n",
        "df['supply_SEASON'] = season\n",
        "df['supply_Quarter'] = quarter"
      ]
    },
    {
      "cell_type": "markdown",
      "metadata": {
        "id": "wh1OcyMyW_4v"
      },
      "source": [
        "### Step3-3. 탈퇴일자를 계절별로 묶음"
      ]
    },
    {
      "cell_type": "code",
      "execution_count": null,
      "metadata": {
        "id": "UPNho4ptW_4v"
      },
      "outputs": [],
      "source": [
        "df_raw.set_index('taltoi_date', inplace = True)\n",
        "# df.set_index('supply_date', inplace = True)\n",
        "df_raw['month']=df_raw.index.month \n",
        "month = df_raw.month\n",
        "season=[]\n",
        "\n",
        "\n",
        "for _ in range(len(month)):\n",
        "    if month[_] == 3 or month[_] == 4 or month[_] == 5:\n",
        "        season.append('spring')\n",
        "       # print(\"spring\")# spring \n",
        "    elif month[_] == 6 or month[_] == 7 or month[_] == 8:\n",
        "        season.append('summer')\n",
        "        #print(\"summer\")# summer\n",
        "    elif month[_] == 9 or month[_] == 10 or month[_] == 11:\n",
        "        season.append('fall')\n",
        "        #print(\"fall\")# fall\n",
        "    else:\n",
        "        season.append('winter')\n",
        "        #print(\"winter\")# winter\n",
        "\n",
        "quarter = []\n",
        "        \n",
        "for _ in range(len(month)):\n",
        "    if month[_] == 1 or month[_] == 2 or month[_] == 3:\n",
        "        quarter.append('1')\n",
        "     \n",
        "    elif month[_] == 4 or month[_] == 5 or month[_] == 6:\n",
        "        quarter.append('2')\n",
        "       \n",
        "    elif month[_] == 7 or month[_] == 8 or month[_] == 9:\n",
        "        quarter.append('3')\n",
        "        \n",
        "    else:\n",
        "        quarter.append('4')\n",
        "       \n",
        "        \n",
        "df_raw['taltoi_SEASON'] = season\n",
        "df_raw['taltoi_Quarter'] = quarter"
      ]
    },
    {
      "cell_type": "markdown",
      "metadata": {
        "id": "rd4O8ImhW_4v"
      },
      "source": [
        "### Step3-4. 가입일자를 계절별로 묶음"
      ]
    },
    {
      "cell_type": "code",
      "execution_count": null,
      "metadata": {
        "id": "XNjHbrn2W_4v"
      },
      "outputs": [],
      "source": [
        "df_raw.set_index('gaip_date', inplace = True)\n",
        "\n",
        "df_raw['month']=df_raw.index.month \n",
        "month = df_raw.month\n",
        "season=[]\n",
        "\n",
        "\n",
        "for _ in range(len(month)):\n",
        "    if month[_] == 3 or month[_] == 4 or month[_] == 5:\n",
        "        season.append('spring')\n",
        "       # print(\"spring\")# spring \n",
        "    elif month[_] == 6 or month[_] == 7 or month[_] == 8:\n",
        "        season.append('summer')\n",
        "        #print(\"summer\")# summer\n",
        "    elif month[_] == 9 or month[_] == 10 or month[_] == 11:\n",
        "        season.append('fall')\n",
        "        #print(\"fall\")# fall\n",
        "    else:\n",
        "        season.append('winter')\n",
        "        #print(\"winter\")# winter\n",
        "\n",
        "\n",
        "quarter = []\n",
        "        \n",
        "for _ in range(len(month)):\n",
        "    if month[_] == 1 or month[_] == 2 or month[_] == 3:\n",
        "        quarter.append('1')\n",
        "     \n",
        "    elif month[_] == 4 or month[_] == 5 or month[_] == 6:\n",
        "        quarter.append('2')\n",
        "       \n",
        "    elif month[_] == 7 or month[_] == 8 or month[_] == 9:\n",
        "        quarter.append('3')\n",
        "        \n",
        "    else:\n",
        "        quarter.append('4')\n",
        "       \n",
        "        \n",
        "df_raw['gaip_SEASON'] = season\n",
        "df_raw['gaip_Quarter'] = quarter"
      ]
    },
    {
      "cell_type": "markdown",
      "metadata": {
        "id": "vCLC8XG2W_4v"
      },
      "source": [
        "### Step3-5. 구매열월을 '년'과 '월'로 나눔"
      ]
    },
    {
      "cell_type": "code",
      "execution_count": null,
      "metadata": {
        "id": "rXyVCdOyW_4v"
      },
      "outputs": [],
      "source": [
        "yearmonth =[]\n",
        "yearmonth = df.purchase_yearmonth\n",
        "\n",
        "\n",
        "for i in range(len(yearmonth)):\n",
        "    year, month = (yearmonth[i].split(\"M\"))"
      ]
    },
    {
      "cell_type": "code",
      "execution_count": null,
      "metadata": {
        "id": "bfu2TrRtW_4v"
      },
      "outputs": [],
      "source": [
        "df_raw.to_excel(\"jeju_member_new.xlsx\")\n",
        "df.to_excel(\"jeju_sales_new.xlsx\")"
      ]
    },
    {
      "cell_type": "markdown",
      "metadata": {
        "id": "WLpom4jSW_4v"
      },
      "source": [
        "# -----------------------------------------------------------------------------------------------------------"
      ]
    },
    {
      "cell_type": "markdown",
      "metadata": {
        "id": "Wj8qMLYxW_4v"
      },
      "source": [
        "## Step4. EDA"
      ]
    },
    {
      "cell_type": "markdown",
      "metadata": {
        "id": "D1U7GTEsW_4v"
      },
      "source": [
        "### Step4-0. CSV 파일 병합"
      ]
    },
    {
      "cell_type": "markdown",
      "metadata": {
        "id": "eiUBXv3eW_4v"
      },
      "source": [
        "#### [파일 병합 방법]\n",
        "##### 'customer_id'를 조인키로 사용해서 jeju_members.csv와 jeju_sales.csv 파일 병합\n",
        "##### WHY? 2개 파일 병합 후 여러 변수간 상관관계를 파악하기 위해서"
      ]
    },
    {
      "cell_type": "code",
      "execution_count": null,
      "metadata": {
        "id": "7cpd8wJVW_4v",
        "outputId": "c5a49a1b-4bb3-402e-9721-b7690b097a02"
      },
      "outputs": [
        {
          "data": {
            "text/html": [
              "<div>\n",
              "<style scoped>\n",
              "    .dataframe tbody tr th:only-of-type {\n",
              "        vertical-align: middle;\n",
              "    }\n",
              "\n",
              "    .dataframe tbody tr th {\n",
              "        vertical-align: top;\n",
              "    }\n",
              "\n",
              "    .dataframe thead th {\n",
              "        text-align: right;\n",
              "    }\n",
              "</style>\n",
              "<table border=\"1\" class=\"dataframe\">\n",
              "  <thead>\n",
              "    <tr style=\"text-align: right;\">\n",
              "      <th></th>\n",
              "      <th>customer_id</th>\n",
              "      <th>birth_date</th>\n",
              "      <th>gender</th>\n",
              "      <th>age</th>\n",
              "      <th>agegroup</th>\n",
              "      <th>customer_type</th>\n",
              "      <th>customer_grade</th>\n",
              "      <th>gaip_date</th>\n",
              "      <th>taltoi_date</th>\n",
              "      <th>member_month</th>\n",
              "      <th>...</th>\n",
              "      <th>supply_date</th>\n",
              "      <th>item_id</th>\n",
              "      <th>item_g_l</th>\n",
              "      <th>item_g_m</th>\n",
              "      <th>item_g_s</th>\n",
              "      <th>item_name</th>\n",
              "      <th>purchase_cnt</th>\n",
              "      <th>unit_cost</th>\n",
              "      <th>purchase_amt</th>\n",
              "      <th>month</th>\n",
              "    </tr>\n",
              "  </thead>\n",
              "  <tbody>\n",
              "    <tr>\n",
              "      <th>0</th>\n",
              "      <td>C118113</td>\n",
              "      <td>1975-08-18</td>\n",
              "      <td>여</td>\n",
              "      <td>45</td>\n",
              "      <td>40대</td>\n",
              "      <td>일반</td>\n",
              "      <td>3Gold</td>\n",
              "      <td>2011-12-06</td>\n",
              "      <td>NaT</td>\n",
              "      <td>97</td>\n",
              "      <td>...</td>\n",
              "      <td>2018-01-10</td>\n",
              "      <td>P08010117</td>\n",
              "      <td>간식</td>\n",
              "      <td>과자</td>\n",
              "      <td>스낵</td>\n",
              "      <td>꼬마찹쌀모나카(112g/8개)</td>\n",
              "      <td>1</td>\n",
              "      <td>3000</td>\n",
              "      <td>3000</td>\n",
              "      <td>1</td>\n",
              "    </tr>\n",
              "    <tr>\n",
              "      <th>1</th>\n",
              "      <td>C118113</td>\n",
              "      <td>1975-08-18</td>\n",
              "      <td>여</td>\n",
              "      <td>45</td>\n",
              "      <td>40대</td>\n",
              "      <td>일반</td>\n",
              "      <td>3Gold</td>\n",
              "      <td>2011-12-06</td>\n",
              "      <td>NaT</td>\n",
              "      <td>97</td>\n",
              "      <td>...</td>\n",
              "      <td>2018-01-10</td>\n",
              "      <td>P09040101</td>\n",
              "      <td>양념/가루</td>\n",
              "      <td>장</td>\n",
              "      <td>간장</td>\n",
              "      <td>제주전통어간장(500ml)</td>\n",
              "      <td>1</td>\n",
              "      <td>7900</td>\n",
              "      <td>7900</td>\n",
              "      <td>1</td>\n",
              "    </tr>\n",
              "    <tr>\n",
              "      <th>2</th>\n",
              "      <td>C118113</td>\n",
              "      <td>1975-08-18</td>\n",
              "      <td>여</td>\n",
              "      <td>45</td>\n",
              "      <td>40대</td>\n",
              "      <td>일반</td>\n",
              "      <td>3Gold</td>\n",
              "      <td>2011-12-06</td>\n",
              "      <td>NaT</td>\n",
              "      <td>97</td>\n",
              "      <td>...</td>\n",
              "      <td>2018-01-10</td>\n",
              "      <td>P09040100</td>\n",
              "      <td>양념/가루</td>\n",
              "      <td>장</td>\n",
              "      <td>간장</td>\n",
              "      <td>맛간장(900ml)</td>\n",
              "      <td>1</td>\n",
              "      <td>13600</td>\n",
              "      <td>13600</td>\n",
              "      <td>1</td>\n",
              "    </tr>\n",
              "    <tr>\n",
              "      <th>3</th>\n",
              "      <td>C118113</td>\n",
              "      <td>1975-08-18</td>\n",
              "      <td>여</td>\n",
              "      <td>45</td>\n",
              "      <td>40대</td>\n",
              "      <td>일반</td>\n",
              "      <td>3Gold</td>\n",
              "      <td>2011-12-06</td>\n",
              "      <td>NaT</td>\n",
              "      <td>97</td>\n",
              "      <td>...</td>\n",
              "      <td>2018-10-08</td>\n",
              "      <td>P09010305</td>\n",
              "      <td>양념/가루</td>\n",
              "      <td>가루</td>\n",
              "      <td>곡식가루</td>\n",
              "      <td>엿기름가루(무/500g)</td>\n",
              "      <td>2</td>\n",
              "      <td>3200</td>\n",
              "      <td>6400</td>\n",
              "      <td>10</td>\n",
              "    </tr>\n",
              "    <tr>\n",
              "      <th>4</th>\n",
              "      <td>C118113</td>\n",
              "      <td>1975-08-18</td>\n",
              "      <td>여</td>\n",
              "      <td>45</td>\n",
              "      <td>40대</td>\n",
              "      <td>일반</td>\n",
              "      <td>3Gold</td>\n",
              "      <td>2011-12-06</td>\n",
              "      <td>NaT</td>\n",
              "      <td>97</td>\n",
              "      <td>...</td>\n",
              "      <td>2018-10-08</td>\n",
              "      <td>P09010301</td>\n",
              "      <td>양념/가루</td>\n",
              "      <td>가루</td>\n",
              "      <td>곡식가루</td>\n",
              "      <td>메주가루(500g)</td>\n",
              "      <td>2</td>\n",
              "      <td>11000</td>\n",
              "      <td>22000</td>\n",
              "      <td>10</td>\n",
              "    </tr>\n",
              "    <tr>\n",
              "      <th>...</th>\n",
              "      <td>...</td>\n",
              "      <td>...</td>\n",
              "      <td>...</td>\n",
              "      <td>...</td>\n",
              "      <td>...</td>\n",
              "      <td>...</td>\n",
              "      <td>...</td>\n",
              "      <td>...</td>\n",
              "      <td>...</td>\n",
              "      <td>...</td>\n",
              "      <td>...</td>\n",
              "      <td>...</td>\n",
              "      <td>...</td>\n",
              "      <td>...</td>\n",
              "      <td>...</td>\n",
              "      <td>...</td>\n",
              "      <td>...</td>\n",
              "      <td>...</td>\n",
              "      <td>...</td>\n",
              "      <td>...</td>\n",
              "      <td>...</td>\n",
              "    </tr>\n",
              "    <tr>\n",
              "      <th>273317</th>\n",
              "      <td>C705016</td>\n",
              "      <td>1976-01-23</td>\n",
              "      <td>여</td>\n",
              "      <td>44</td>\n",
              "      <td>40대</td>\n",
              "      <td>일반</td>\n",
              "      <td>2Platinum</td>\n",
              "      <td>2019-12-04</td>\n",
              "      <td>NaT</td>\n",
              "      <td>1</td>\n",
              "      <td>...</td>\n",
              "      <td>2019-12-22</td>\n",
              "      <td>P01010104</td>\n",
              "      <td>주곡</td>\n",
              "      <td>멥쌀</td>\n",
              "      <td>백미</td>\n",
              "      <td>백미/유(4kg)-매장용</td>\n",
              "      <td>1</td>\n",
              "      <td>15700</td>\n",
              "      <td>15700</td>\n",
              "      <td>12</td>\n",
              "    </tr>\n",
              "    <tr>\n",
              "      <th>273318</th>\n",
              "      <td>C705016</td>\n",
              "      <td>1976-01-23</td>\n",
              "      <td>여</td>\n",
              "      <td>44</td>\n",
              "      <td>40대</td>\n",
              "      <td>일반</td>\n",
              "      <td>2Platinum</td>\n",
              "      <td>2019-12-04</td>\n",
              "      <td>NaT</td>\n",
              "      <td>1</td>\n",
              "      <td>...</td>\n",
              "      <td>2019-12-22</td>\n",
              "      <td>P08010301</td>\n",
              "      <td>간식</td>\n",
              "      <td>과자</td>\n",
              "      <td>한과/유과</td>\n",
              "      <td>차례상약과(350g/10개)</td>\n",
              "      <td>1</td>\n",
              "      <td>8800</td>\n",
              "      <td>8800</td>\n",
              "      <td>12</td>\n",
              "    </tr>\n",
              "    <tr>\n",
              "      <th>273319</th>\n",
              "      <td>C705016</td>\n",
              "      <td>1976-01-23</td>\n",
              "      <td>여</td>\n",
              "      <td>44</td>\n",
              "      <td>40대</td>\n",
              "      <td>일반</td>\n",
              "      <td>2Platinum</td>\n",
              "      <td>2019-12-04</td>\n",
              "      <td>NaT</td>\n",
              "      <td>1</td>\n",
              "      <td>...</td>\n",
              "      <td>2019-12-22</td>\n",
              "      <td>P06040300</td>\n",
              "      <td>축산물</td>\n",
              "      <td>유제품</td>\n",
              "      <td>아이스크림</td>\n",
              "      <td>유기농아이스크림(기본형)</td>\n",
              "      <td>1</td>\n",
              "      <td>8900</td>\n",
              "      <td>8900</td>\n",
              "      <td>12</td>\n",
              "    </tr>\n",
              "    <tr>\n",
              "      <th>273320</th>\n",
              "      <td>C705016</td>\n",
              "      <td>1976-01-23</td>\n",
              "      <td>여</td>\n",
              "      <td>44</td>\n",
              "      <td>40대</td>\n",
              "      <td>일반</td>\n",
              "      <td>2Platinum</td>\n",
              "      <td>2019-12-04</td>\n",
              "      <td>NaT</td>\n",
              "      <td>1</td>\n",
              "      <td>...</td>\n",
              "      <td>2019-12-29</td>\n",
              "      <td>P08040137</td>\n",
              "      <td>간식</td>\n",
              "      <td>빵</td>\n",
              "      <td>빵</td>\n",
              "      <td>쌀로만든잉글리쉬머핀(66g×4개)/매장</td>\n",
              "      <td>1</td>\n",
              "      <td>3900</td>\n",
              "      <td>3900</td>\n",
              "      <td>12</td>\n",
              "    </tr>\n",
              "    <tr>\n",
              "      <th>273321</th>\n",
              "      <td>C705016</td>\n",
              "      <td>1976-01-23</td>\n",
              "      <td>여</td>\n",
              "      <td>44</td>\n",
              "      <td>40대</td>\n",
              "      <td>일반</td>\n",
              "      <td>2Platinum</td>\n",
              "      <td>2019-12-04</td>\n",
              "      <td>NaT</td>\n",
              "      <td>1</td>\n",
              "      <td>...</td>\n",
              "      <td>2019-12-29</td>\n",
              "      <td>P06030202</td>\n",
              "      <td>축산물</td>\n",
              "      <td>육가공</td>\n",
              "      <td>돼지가공</td>\n",
              "      <td>★김밥용햄(285g)-매장</td>\n",
              "      <td>1</td>\n",
              "      <td>4500</td>\n",
              "      <td>4500</td>\n",
              "      <td>12</td>\n",
              "    </tr>\n",
              "  </tbody>\n",
              "</table>\n",
              "<p>273322 rows × 36 columns</p>\n",
              "</div>"
            ],
            "text/plain": [
              "       customer_id  birth_date gender  age agegroup customer_type  \\\n",
              "0          C118113  1975-08-18      여   45      40대            일반   \n",
              "1          C118113  1975-08-18      여   45      40대            일반   \n",
              "2          C118113  1975-08-18      여   45      40대            일반   \n",
              "3          C118113  1975-08-18      여   45      40대            일반   \n",
              "4          C118113  1975-08-18      여   45      40대            일반   \n",
              "...            ...         ...    ...  ...      ...           ...   \n",
              "273317     C705016  1976-01-23      여   44      40대            일반   \n",
              "273318     C705016  1976-01-23      여   44      40대            일반   \n",
              "273319     C705016  1976-01-23      여   44      40대            일반   \n",
              "273320     C705016  1976-01-23      여   44      40대            일반   \n",
              "273321     C705016  1976-01-23      여   44      40대            일반   \n",
              "\n",
              "       customer_grade  gaip_date taltoi_date  member_month  ... supply_date  \\\n",
              "0               3Gold 2011-12-06         NaT            97  ...  2018-01-10   \n",
              "1               3Gold 2011-12-06         NaT            97  ...  2018-01-10   \n",
              "2               3Gold 2011-12-06         NaT            97  ...  2018-01-10   \n",
              "3               3Gold 2011-12-06         NaT            97  ...  2018-10-08   \n",
              "4               3Gold 2011-12-06         NaT            97  ...  2018-10-08   \n",
              "...               ...        ...         ...           ...  ...         ...   \n",
              "273317      2Platinum 2019-12-04         NaT             1  ...  2019-12-22   \n",
              "273318      2Platinum 2019-12-04         NaT             1  ...  2019-12-22   \n",
              "273319      2Platinum 2019-12-04         NaT             1  ...  2019-12-22   \n",
              "273320      2Platinum 2019-12-04         NaT             1  ...  2019-12-29   \n",
              "273321      2Platinum 2019-12-04         NaT             1  ...  2019-12-29   \n",
              "\n",
              "          item_id item_g_l item_g_m item_g_s              item_name  \\\n",
              "0       P08010117       간식       과자       스낵       꼬마찹쌀모나카(112g/8개)   \n",
              "1       P09040101    양념/가루        장       간장         제주전통어간장(500ml)   \n",
              "2       P09040100    양념/가루        장       간장             맛간장(900ml)   \n",
              "3       P09010305    양념/가루       가루     곡식가루          엿기름가루(무/500g)   \n",
              "4       P09010301    양념/가루       가루     곡식가루             메주가루(500g)   \n",
              "...           ...      ...      ...      ...                    ...   \n",
              "273317  P01010104       주곡       멥쌀       백미          백미/유(4kg)-매장용   \n",
              "273318  P08010301       간식       과자    한과/유과        차례상약과(350g/10개)   \n",
              "273319  P06040300      축산물      유제품    아이스크림          유기농아이스크림(기본형)   \n",
              "273320  P08040137       간식        빵        빵  쌀로만든잉글리쉬머핀(66g×4개)/매장   \n",
              "273321  P06030202      축산물      육가공     돼지가공         ★김밥용햄(285g)-매장   \n",
              "\n",
              "       purchase_cnt unit_cost purchase_amt month  \n",
              "0                 1      3000         3000     1  \n",
              "1                 1      7900         7900     1  \n",
              "2                 1     13600        13600     1  \n",
              "3                 2      3200         6400    10  \n",
              "4                 2     11000        22000    10  \n",
              "...             ...       ...          ...   ...  \n",
              "273317            1     15700        15700    12  \n",
              "273318            1      8800         8800    12  \n",
              "273319            1      8900         8900    12  \n",
              "273320            1      3900         3900    12  \n",
              "273321            1      4500         4500    12  \n",
              "\n",
              "[273322 rows x 36 columns]"
            ]
          },
          "execution_count": 84,
          "metadata": {},
          "output_type": "execute_result"
        }
      ],
      "source": [
        "merge_df = pd.merge(df_jeju_members, df_jeju_sales)\n",
        "merge_df"
      ]
    },
    {
      "cell_type": "code",
      "execution_count": null,
      "metadata": {
        "id": "Sbh3vo3AW_4v"
      },
      "outputs": [],
      "source": [
        "merge_df[\"flag_member\"]"
      ]
    },
    {
      "cell_type": "markdown",
      "metadata": {
        "id": "ATupLCi6W_4w"
      },
      "source": [
        "#### 고객 ID로 병합 (개인별 구매 총액)"
      ]
    },
    {
      "cell_type": "code",
      "execution_count": null,
      "metadata": {
        "id": "XHelVc7mW_4w"
      },
      "outputs": [],
      "source": [
        "df_raw_customerID=df_raw1.filter(['customer_id','purchase_amt'])\n",
        "df_raw_customerID"
      ]
    },
    {
      "cell_type": "code",
      "execution_count": null,
      "metadata": {
        "id": "mSuVhSdKW_4w"
      },
      "outputs": [],
      "source": [
        "df_raw_customerID_new=df_raw_customerID.groupby('customer_id').max()\n",
        "df_raw_customerID_new"
      ]
    },
    {
      "cell_type": "code",
      "execution_count": null,
      "metadata": {
        "id": "0qCkY19JW_4w"
      },
      "outputs": [],
      "source": [
        "df_raw_customerID1=df_raw.filter(['customer_id','gender','agegroup'])\n",
        "df_raw_customerID1"
      ]
    },
    {
      "cell_type": "code",
      "execution_count": null,
      "metadata": {
        "id": "cKBDaB0UW_4w"
      },
      "outputs": [],
      "source": [
        "df_raw_customerID_new1=df_raw_customerID1.groupby('customer_id').max()\n",
        "df_raw_customerID_new1"
      ]
    },
    {
      "cell_type": "code",
      "execution_count": null,
      "metadata": {
        "id": "xoLVMwieW_4w"
      },
      "outputs": [],
      "source": [
        "merge_df_new = pd.merge(df_raw_customerID_new, df_raw_customerID_new1, how='left', on='customer_id')\n",
        "merge_df_new"
      ]
    },
    {
      "cell_type": "markdown",
      "metadata": {
        "id": "5sTH4jrgW_4w"
      },
      "source": [
        "- 고객 아이디(개인)별 구매 총액, 성별, 연령대 병합 최종 파일 : merge_df_new"
      ]
    },
    {
      "cell_type": "markdown",
      "metadata": {
        "id": "941OFC17W_4w"
      },
      "source": [
        "- RFM"
      ]
    },
    {
      "cell_type": "markdown",
      "metadata": {
        "id": "KKf-pKm0W_4w"
      },
      "source": [
        "### Step4-1. 탈퇴 고객 원인 분석"
      ]
    },
    {
      "cell_type": "markdown",
      "metadata": {
        "id": "jV7BTFZIW_4w"
      },
      "source": [
        "###### *히스토그램 그래프를 하나로 나타내지 못하는 이유: 구매 고객과 탈퇴 고객의 수가 압도적으로 차이나서 한 그래프에 나타낼 수 없다.\n",
        "###### 유지 고객은 약 5379이고, 탈퇴 고객은 634명임."
      ]
    },
    {
      "cell_type": "markdown",
      "metadata": {
        "id": "ws1Y_43PW_4w"
      },
      "source": [
        "### 1. 조합원 등급에 따른 탈퇴 고객"
      ]
    },
    {
      "cell_type": "code",
      "execution_count": null,
      "metadata": {
        "id": "_0sTkvbzW_4w"
      },
      "outputs": [],
      "source": [
        "plt.hist(df_raw[df_raw[\"flag_member\"]==\"Y\"][\"customer_grade\"], label=\"고객\", alpha=0.5)"
      ]
    },
    {
      "cell_type": "markdown",
      "metadata": {
        "id": "BgS1ODChW_4w"
      },
      "source": [
        "- 고객인 경우는 3Gold 등급이 가장 많고 1Royal 등급이 가장 적음"
      ]
    },
    {
      "cell_type": "code",
      "execution_count": null,
      "metadata": {
        "id": "UzxSYJyQW_4w"
      },
      "outputs": [],
      "source": [
        "plt.hist(df_raw[df_raw[\"flag_member\"]== \"N\"][\"customer_grade\"], label=\"고객아님\", alpha=0.5)      "
      ]
    },
    {
      "cell_type": "markdown",
      "metadata": {
        "id": "ng6HGYFqW_4w"
      },
      "source": [
        "- 고객이 아닌 경우는 4Silver 등급이 가장 많음"
      ]
    },
    {
      "cell_type": "markdown",
      "metadata": {
        "id": "LUOhygzeW_4w"
      },
      "source": [
        "- 탈퇴 고객은 유지 고객대비 4Silver 등급 고객이 가장 많으므로 4Silver 등급 고객을 관리해야함"
      ]
    },
    {
      "cell_type": "markdown",
      "metadata": {
        "id": "N5Iyq0X0W_4w"
      },
      "source": [
        "### 2. 가입 경로에 따른 탈퇴 고객"
      ]
    },
    {
      "cell_type": "code",
      "execution_count": null,
      "metadata": {
        "id": "9Dr0sDQeW_4x"
      },
      "outputs": [],
      "source": [
        "plt.hist(df_raw[df_raw[\"flag_member\"]==\"Y\"][\"gaip_path\"], label=\"고객\", alpha=0.5)  "
      ]
    },
    {
      "cell_type": "code",
      "execution_count": null,
      "metadata": {
        "id": "_ZyTEfeWW_4x"
      },
      "outputs": [],
      "source": [
        "plt.hist(df_raw[df_raw[\"flag_member\"]== \"N\"][\"gaip_path\"], label=\"고객아님\", alpha=0.5)"
      ]
    },
    {
      "cell_type": "markdown",
      "metadata": {
        "id": "_IFw-P1VW_4x"
      },
      "source": [
        "- 탈퇴 고객은 매장이 가장 많음."
      ]
    },
    {
      "cell_type": "markdown",
      "metadata": {
        "id": "z4Yh0hHhW_4x"
      },
      "source": [
        "- 그러나 유지 고객 대비 탈퇴 고객 비율이 크게 차이 나지 않아서 상관관계가 크게 없음."
      ]
    },
    {
      "cell_type": "markdown",
      "metadata": {
        "id": "WDm9Bbl6W_4x"
      },
      "source": [
        "### 3. 탈퇴 고객의 연령"
      ]
    },
    {
      "cell_type": "code",
      "execution_count": null,
      "metadata": {
        "id": "HUR_bX-4W_4x"
      },
      "outputs": [],
      "source": [
        "plt.hist(df_raw[df_raw[\"flag_member\"]== \"Y\"][\"agegroup\"], label=\"고객\", alpha=0.5)"
      ]
    },
    {
      "cell_type": "markdown",
      "metadata": {
        "id": "xFcreGACW_4x"
      },
      "source": [
        "- 고객인 경우는 40대가 가장 많고 50대, 30대 60대가 뒤를 이음"
      ]
    },
    {
      "cell_type": "markdown",
      "metadata": {
        "id": "9JkGiSAbW_4x"
      },
      "source": [
        "- 20대, 80대 고객은 거의 없음."
      ]
    },
    {
      "cell_type": "code",
      "execution_count": null,
      "metadata": {
        "id": "R88hkjKjW_4x"
      },
      "outputs": [],
      "source": [
        "plt.hist(df_raw[df_raw[\"flag_member\"]== \"N\"][\"agegroup\"], label=\"고객\", alpha=0.5)"
      ]
    },
    {
      "cell_type": "markdown",
      "metadata": {
        "id": "TpiSXhQmW_4x"
      },
      "source": [
        "- 탈퇴 고객은 40대가 가장 많고 50대가 뒤를 이음."
      ]
    },
    {
      "cell_type": "markdown",
      "metadata": {
        "id": "q-m28QOHW_4x"
      },
      "source": [
        "- 20대는 고객 자체 수가 매우 적음."
      ]
    },
    {
      "cell_type": "markdown",
      "metadata": {
        "id": "rWLWyIonW_4x"
      },
      "source": [
        "### 4. 탈퇴 고객의 성별"
      ]
    },
    {
      "cell_type": "code",
      "execution_count": null,
      "metadata": {
        "id": "Qcxx9A5tW_4x"
      },
      "outputs": [],
      "source": [
        "plt.hist(df_raw[df_raw[\"flag_member\"]== \"Y\"][\"gender\"], label=\"고객\", alpha=0.5)"
      ]
    },
    {
      "cell_type": "markdown",
      "metadata": {
        "id": "trrkwCKmW_4x"
      },
      "source": [
        "- 여자 고객이 남자 고객보다 압도적으로 많음을 확인할 수 있음."
      ]
    },
    {
      "cell_type": "code",
      "execution_count": null,
      "metadata": {
        "id": "Vcee1zcRW_4x"
      },
      "outputs": [],
      "source": [
        "plt.hist(df_raw[df_raw[\"flag_member\"]== \"N\"][\"gender\"], label=\"고객\", alpha=0.5)"
      ]
    },
    {
      "cell_type": "markdown",
      "metadata": {
        "id": "_xDQy4qYW_4x"
      },
      "source": [
        "- 탈퇴 고객 중 남자와 여자의 비율이 비슷함."
      ]
    },
    {
      "cell_type": "markdown",
      "metadata": {
        "id": "koHOVnT-W_4x"
      },
      "source": [
        "- 남자 고객은 수가 적지만 탈퇴 비율은 여자보다 훨씬 높음을 알 수 있음."
      ]
    },
    {
      "cell_type": "markdown",
      "metadata": {
        "id": "XeqR7qiWW_4x"
      },
      "source": [
        "### Step4-2. 구매 고객 분포 분석"
      ]
    },
    {
      "cell_type": "markdown",
      "metadata": {
        "id": "S0MlOrU-W_4x"
      },
      "source": [
        "#### 1. 계절별 어떤 제품을 가장 많이 구매하는가"
      ]
    },
    {
      "cell_type": "code",
      "execution_count": null,
      "metadata": {
        "id": "m6VarCRYW_4y"
      },
      "outputs": [],
      "source": [
        "plt.hist(df_raw1[df_raw1[\"purchase_SEASON\"]== \"winter\"][\"item_g_l\"], label=\"겨울\", alpha=0.4)\n",
        "plt.hist(df_raw1[df_raw1[\"purchase_SEASON\"]== \"fall\"][\"item_g_l\"], label=\"가을\", alpha=0.3)\n",
        "plt.hist(df_raw1[df_raw1[\"purchase_SEASON\"]== \"spring\"][\"item_g_l\"], label=\"봄\", alpha=0.1)\n",
        "plt.hist(df_raw1[df_raw1[\"purchase_SEASON\"]== \"summer\"][\"item_g_l\"], label=\"여름\", alpha=0.4)\n",
        "plt.legend()"
      ]
    },
    {
      "cell_type": "markdown",
      "metadata": {
        "id": "pexxRG4zW_4y"
      },
      "source": [
        "- 전체적으로 구매량은 여름에 가장 많고, 여름에 채소를 가장 많이 구매함"
      ]
    },
    {
      "cell_type": "markdown",
      "metadata": {
        "id": "GQ1SCPKuW_4y"
      },
      "source": [
        "#### 2. 연령별 어떤 제품을 가장 많이 구매하는가"
      ]
    },
    {
      "cell_type": "code",
      "execution_count": null,
      "metadata": {
        "id": "07s9jYtYW_4y"
      },
      "outputs": [],
      "source": [
        "#20대\n",
        "df_sub=merge_df[merge_df[\"agegroup\"]==\"20대\"]\n",
        "df_count=df_sub.groupby(\"item_g_l\", as_index=False).agg(\"count\")\n",
        "df_count.plot.pie(y=\"agegroup\", labels=df_count[\"item_g_l\"], autopct=\"%.1f%%\", radius=2)\n",
        "\n",
        "#30대\n",
        "df_sub=merge_df[merge_df[\"agegroup\"]==\"30대\"]\n",
        "df_count=df_sub.groupby(\"item_g_l\", as_index=False).agg(\"count\")\n",
        "df_count.plot.pie(y=\"agegroup\", labels=df_count[\"item_g_l\"], autopct=\"%.1f%%\", radius=2)\n",
        "\n",
        "#40대\n",
        "df_sub=merge_df[merge_df[\"agegroup\"]==\"40대\"]\n",
        "df_count=df_sub.groupby(\"item_g_l\", as_index=False).agg(\"count\")\n",
        "df_count.plot.pie(y=\"agegroup\", labels=df_count[\"item_g_l\"], autopct=\"%.1f%%\", radius=2)\n",
        "\n",
        "#50대\n",
        "df_sub=merge_df[merge_df[\"agegroup\"]==\"50대\"]\n",
        "df_count=df_sub.groupby(\"item_g_l\", as_index=False).agg(\"count\")\n",
        "df_count.plot.pie(y=\"agegroup\", labels=df_count[\"item_g_l\"], autopct=\"%.1f%%\", radius=2)\n",
        "\n",
        "#60대\n",
        "df_sub=merge_df[merge_df[\"agegroup\"]==\"60대\"]\n",
        "df_count=df_sub.groupby(\"item_g_l\", as_index=False).agg(\"count\")\n",
        "df_count.plot.pie(y=\"agegroup\", labels=df_count[\"item_g_l\"], autopct=\"%.1f%%\", radius=2)\n",
        "\n",
        "#70대\n",
        "df_sub=merge_df[merge_df[\"agegroup\"]==\"70대\"]\n",
        "df_count=df_sub.groupby(\"item_g_l\", as_index=False).agg(\"count\")\n",
        "df_count.plot.pie(y=\"agegroup\", labels=df_count[\"item_g_l\"], autopct=\"%.1f%%\", radius=2)\n",
        "\n",
        "#80대\n",
        "df_sub=merge_df[merge_df[\"agegroup\"]==\"80대\"]\n",
        "df_count=df_sub.groupby(\"item_g_l\", as_index=False).agg(\"count\")\n",
        "df_count.plot.pie(y=\"agegroup\", labels=df_count[\"item_g_l\"], autopct=\"%.1f%%\", radius=2)"
      ]
    },
    {
      "cell_type": "markdown",
      "metadata": {
        "id": "whU0CQWJW_4y"
      },
      "source": [
        "#### 3. 연령별 돈을 얼마나 많이 쓰는가?"
      ]
    },
    {
      "cell_type": "code",
      "execution_count": null,
      "metadata": {
        "id": "76sKCi-SW_4y"
      },
      "outputs": [],
      "source": [
        "plt.hist(merge_df[merge_df[\"Purchase_amt_change\"]== \"1\"][\"agegroup\"], label=\"40대\", alpha=0.4)"
      ]
    },
    {
      "cell_type": "markdown",
      "metadata": {
        "id": "HGg2pbSUW_4y"
      },
      "source": [
        "#### 4. 가입 경로별 구매 금액"
      ]
    },
    {
      "cell_type": "markdown",
      "metadata": {
        "id": "jHiMA1RhW_4y"
      },
      "source": [
        "- 알 수 없음."
      ]
    },
    {
      "cell_type": "markdown",
      "metadata": {
        "id": "q_fg5DRxW_4y"
      },
      "source": [
        "### 5. 연령대 별 가입 경로"
      ]
    },
    {
      "cell_type": "code",
      "execution_count": null,
      "metadata": {
        "id": "IHf5Kwo-W_4y"
      },
      "outputs": [],
      "source": [
        "plt.hist(df_raw[df_raw[\"agegroup\"]== \"20대\"][\"gaip_path\"], label=\"20대\", alpha=0.4)\n",
        "plt.hist(df_raw[df_raw[\"agegroup\"]== \"30대\"][\"gaip_path\"], label=\"30대\", alpha=0.4)\n",
        "plt.hist(df_raw[df_raw[\"agegroup\"]== \"40대\"][\"gaip_path\"], label=\"40대\", alpha=0.4)\n",
        "plt.legend()"
      ]
    },
    {
      "cell_type": "markdown",
      "metadata": {
        "id": "acp52cUOW_4y"
      },
      "source": [
        "- 전체적으로 매장을 통해 가입한 수가 많음."
      ]
    },
    {
      "cell_type": "markdown",
      "metadata": {
        "id": "Z8zb3f2WW_4y"
      },
      "source": [
        "- 20대는 매장에서 가입한 수가 많음. 그러나 20대 자체 데이터 수가 적어서 의미 없음."
      ]
    },
    {
      "cell_type": "code",
      "execution_count": null,
      "metadata": {
        "id": "ueLJy0-lW_4y"
      },
      "outputs": [],
      "source": [
        "#히트맵\n",
        "\n",
        "#colormap=plt.cm.PuBu\n",
        "#plt.figure(figsize=(12,8))\n",
        "#plt.title(\"Person Correlation of Features\", y=1.05, size=15)\n",
        "#sns.heatmap(merge_df.corr(), linewidths=0.1, vmax=1.0, square=True, cmap=colormap, linecolor=\"white\", annot=True)"
      ]
    },
    {
      "cell_type": "markdown",
      "metadata": {
        "id": "zYTi6-fIW_4y"
      },
      "source": [
        "# -----------------------------------------------------------------------------------------------------------"
      ]
    },
    {
      "cell_type": "markdown",
      "metadata": {
        "id": "N2vom0h1W_4y"
      },
      "source": [
        "## Step5. RFM"
      ]
    },
    {
      "cell_type": "markdown",
      "metadata": {
        "id": "xWmR0T0IW_4y"
      },
      "source": [
        "### Step5-0. 모듈 불러오기"
      ]
    },
    {
      "cell_type": "code",
      "execution_count": null,
      "metadata": {
        "id": "92HIx_AYW_4y"
      },
      "outputs": [],
      "source": [
        "import pandas as pd \n",
        "import numpy as np\n",
        "import matplotlib\n",
        "import matplotlib.pyplot as plt\n",
        "import seaborn as sns\n",
        "import statsmodels.formula.api as sml\n",
        "import statsmodels.formula.api as smf\n",
        "import statsmodels.api as sm\n",
        "import scipy.stats\n",
        "from scipy import stats\n",
        "from scipy.stats import shapiro\n",
        "from statsmodels.formula.api import ols\n",
        "from statsmodels.stats.outliers_influence import variance_inflation_factor\n",
        "from statsmodels.stats.proportion import proportions_ztest\n",
        "from statsmodels.stats.anova import anova_lm\n",
        "from statsmodels.tools.eval_measures import rmse\n",
        "from statsmodels.api import qqplot, add_constant\n",
        "from statsmodels.api import qqplot, add_constant\n",
        "from sklearn.linear_model import LinearRegression\n",
        "from sklearn.linear_model import Ridge, Lasso, ElasticNet\n",
        "from sklearn.preprocessing import StandardScaler\n",
        "from sklearn.feature_selection import RFE\n",
        "from sklearn.model_selection import GridSearchCV\n",
        "from sklearn.model_selection import train_test_split\n",
        "from sklearn.tree import export_graphviz\n",
        "from sklearn.tree import DecisionTreeRegressor\n",
        "from sklearn.ensemble import GradientBoostingRegressor\n",
        "from sklearn.ensemble import RandomForestRegressor \n",
        "from sklearn.metrics import mean_squared_error\n",
        "from sklearn.metrics import mean_absolute_error\n",
        "from sklearn.preprocessing import StandardScaler\n",
        "from statsmodels.api import Logit\n",
        "import graphviz\n",
        "from sklearn.cluster import KMeans\n",
        "from yellowbrick.cluster import KElbowVisualizer\n",
        "\n",
        "from sklearn.decomposition import PCA\n",
        "%matplotlib inline\n",
        "from sklearn.linear_model import LogisticRegression\n",
        "plt.rcParams['font.family'] = 'Noto Sans CJK JP'\n",
        "from sklearn.metrics import accuracy_score, confusion_matrix, recall_score, precision_score\n",
        "# df_raw = pd.read_csv(\"\", encoding = 'cp949')\n",
        "# df_raw.head()\n",
        "#plt.rcParams[\"font.family\"] = \"NanumGothic\"\n",
        "import matplotlib.pyplot as plt\n",
        "plt.rcParams[\"font.family\"] = \"Malgun Gothic\"\n",
        "path = 'C:/Program Files/Graphviz/bin'\n",
        "matplotlib.rc('font',family = 'Malgun Gothic')"
      ]
    },
    {
      "cell_type": "code",
      "execution_count": null,
      "metadata": {
        "id": "3_717TYSW_4z"
      },
      "outputs": [],
      "source": [
        "matplotlib.rc('font', family = 'Noto Sans CJK JP')\n",
        "plt.rcParams['font.family'] = 'Noto Sans CJK JP'"
      ]
    },
    {
      "cell_type": "code",
      "execution_count": null,
      "metadata": {
        "id": "-obiJvRVW_4z"
      },
      "outputs": [],
      "source": [
        "original = pd.DataFrame()\n",
        "original['mean'] = merge_df.groupby(['customer_grade'])['purchase_amt'].agg('mean')\n",
        "original['count'] = merge_df['customer_grade'].value_counts()\n",
        "original"
      ]
    },
    {
      "cell_type": "code",
      "execution_count": null,
      "metadata": {
        "id": "MTcVXZEAW_4z"
      },
      "outputs": [],
      "source": [
        "import datetime as dt\n",
        "NOW = dt.datetime(2019,12,30)\n",
        "# NOW는 데이터 마지막 날짜 + 1 한 값\n",
        "# NOW는 데이터 마지막 날짜 + 1 한 값"
      ]
    },
    {
      "cell_type": "code",
      "execution_count": null,
      "metadata": {
        "id": "hpCcF9rQW_4z"
      },
      "outputs": [],
      "source": [
        "# customer_id로 그룹화\n",
        "# rfm.rename: 새로우 테이블을 만듬\n",
        "rfm = merge_df.groupby('customer_id').agg({\n",
        "                                        'purchase_date' : lambda x: (NOW - x.max()).days,\n",
        "                                         'purchase_id'  : lambda x: len(x),\n",
        "                                         'purchase_amt' : lambda x : sum(x)\n",
        "                                       })\n",
        "rfm.rename(columns = {'purchase_date': 'Recency',\n",
        "                         'purchase_id': 'Frequency',\n",
        "                         'purchase_amt': 'MonetaryValue'}, inplace = True)\n",
        "\n",
        "rfm.head(20)"
      ]
    },
    {
      "cell_type": "markdown",
      "metadata": {
        "id": "HVXRVIz-W_4z"
      },
      "source": [
        "- 사분위수로 나누어 Recency, Frequency 및 MonetaryValue 값을 개별적으로 부여.\n",
        "- 세 가지 등급을 결합하여 RFM Segment를 얻음\n",
        "- 세 가지 등급을 합산하여 RFM 점수 획득.\n",
        "- RFM Segment를 요약해서 결과 분석.\n",
        "- 우리 유통는 고객이 '더 자주 방문'하고 '더 많은 비용'을 지출하기를 원하기 때문에 \"Frequency\"와 \"Monetary\"를 높게 평가했음."
      ]
    },
    {
      "cell_type": "code",
      "execution_count": null,
      "metadata": {
        "id": "oXseqW4UW_4z"
      },
      "outputs": [],
      "source": [
        "# qcut 함수를 사용하여 RFM 그룹, 라벨 및 사분위수 계산\n",
        "r_labels = range(4, 0, -1)plt.grid(True)\n",
        "f_labels = range(1, 5)\n",
        "m_labels = range(1, 5)\n",
        "\n",
        "# 4개의 동일한 백분위수 그룹에 label 할당\n",
        "r_groups = pd.qcut(rfm['Recency'], q = 4, labels = r_labels)\n",
        "# 4개의 동일한 백분위수 그룹에 label 할당\n",
        "f_groups = pd.qcut(rfm['Frequency'], q = 4, labels = f_labels)\n",
        "# 4개의 동일한 백분위수 그룹에 label 할당\n",
        "m_groups = pd.qcut(rfm['MonetaryValue'], q = 4, labels = m_labels)"
      ]
    },
    {
      "cell_type": "code",
      "execution_count": null,
      "metadata": {
        "id": "9jAlxvxJW_4z"
      },
      "outputs": [],
      "source": [
        "print(r_groups[:5])\n",
        "print(f_groups[:5])\n",
        "print(m_groups[:5])"
      ]
    },
    {
      "cell_type": "code",
      "execution_count": null,
      "metadata": {
        "id": "1gYMP5GfW_4z"
      },
      "outputs": [],
      "source": [
        "# 원래 RFM에 새 Column 추가\n",
        "rfm = rfm.assign(R = r_groups.values, F = f_groups.values, M = m_groups.values)\n",
        "rfm.head(20)"
      ]
    },
    {
      "cell_type": "code",
      "execution_count": null,
      "metadata": {
        "id": "fg0njGoSW_4z"
      },
      "outputs": [],
      "source": [
        "rfm_s = rfm.sort_values(by=[\"MonetaryValue\", \"M\"], ascending=[True, True])"
      ]
    },
    {
      "cell_type": "code",
      "execution_count": null,
      "metadata": {
        "id": "uDT2hnzQW_4z"
      },
      "outputs": [],
      "source": [
        "rfm_s.tail()"
      ]
    },
    {
      "cell_type": "code",
      "execution_count": null,
      "metadata": {
        "id": "T6VCEK7UW_4z"
      },
      "outputs": [],
      "source": [
        "# Recency 727 ~ 215 : 1점\n",
        "# Recency 214 ~ 62 : 2점\n",
        "# Recency 61 ~ 15 : 3점\n",
        "# Recency 14 ~ 0 : 4점"
      ]
    },
    {
      "cell_type": "code",
      "execution_count": null,
      "metadata": {
        "id": "RZEAFoFEW_4z"
      },
      "outputs": [],
      "source": [
        "# Frequency 1 ~ 7 : 1점\n",
        "# Frequency 8 ~ 23 : 2점\n",
        "# Frequency 24 ~ 97 : 3점\n",
        "# Frequency 98 ~ 3,299 : 4점"
      ]
    },
    {
      "cell_type": "code",
      "execution_count": null,
      "metadata": {
        "id": "Num7ed5VW_4z"
      },
      "outputs": [],
      "source": [
        "# Monetary 1,000 ~ 37,200 : 1점\n",
        "# Monetary 37,300 ~ 141,950 : 2점\n",
        "# Monetary 142,500 ~ 533,200 : 3점\n",
        "# Monetary 533,300 ~ 61,662,297 : 4점# 세 가지 등급을 결합하여 RFM Segment를 얻음."
      ]
    },
    {
      "cell_type": "code",
      "execution_count": null,
      "metadata": {
        "id": "wkwmAuYlW_4z"
      },
      "outputs": [],
      "source": [
        "# 세 가지 등급을 결합하여 RFM Segment를 얻음.\n",
        "rfm['RFM_segment'] = rfm.apply(lambda x: (str(x['R']) + str(x['F']) + str(x['M'])), axis=1)\n",
        "rfm.head(20)plt.grid(True)"
      ]
    },
    {
      "cell_type": "code",
      "execution_count": null,
      "metadata": {
        "id": "QOnaUXFFW_4z"
      },
      "outputs": [],
      "source": [
        "# 데이터 타입 확인\n",
        "rfm.dtypes"
      ]
    },
    {
      "cell_type": "code",
      "execution_count": null,
      "metadata": {
        "id": "RS_NpsYaW_40"
      },
      "outputs": [],
      "source": [
        "# R, F, M, RFM_Score 4개 Column 데이터 타입 float로 변경.\n",
        "rfm = rfm.astype({'R':'float'})\n",
        "rfm = rfm.astype({'F':'float'})\n",
        "rfm = rfm.astype({'M':'float'})\n",
        "# rfm = rfm.astype({'RFM_Score':'float'})"
      ]
    },
    {
      "cell_type": "code",
      "execution_count": null,
      "metadata": {
        "id": "Vn9l2TROW_40"
      },
      "outputs": [],
      "source": [
        "plt.grid(True)# 데이터 타입 변경 확인.\n",
        "rfm.dtypes"
      ]
    },
    {
      "cell_type": "code",
      "execution_count": null,
      "metadata": {
        "id": "-SsCb9jqW_40"
      },
      "outputs": [],
      "source": [
        "# 세 가지 등급을 합산하여 RFM 점수를 얻음.\n",
        "rfm['RFM_Score'] = rfm['R'] * 0.2 + rfm['F'] * 0.3 + rfm['M'] * 0.5\n",
        "rfm['RFM_Score'] = rfm['RFM_Score'].apply(lambda x : float(x))\n",
        "rfm.head(100)"
      ]
    },
    {
      "cell_type": "code",
      "execution_count": null,
      "metadata": {
        "id": "ahFI7ZjVW_40"
      },
      "outputs": [],
      "source": [
        "rfm.describe()"
      ]
    },
    {
      "cell_type": "code",
      "execution_count": null,
      "metadata": {
        "id": "NLje64XtW_40"
      },
      "outputs": [],
      "source": [
        "# # RFM_segment 333 경우만 출력\n",
        "# print(rfm['RFM_segment'].nunique())\n",
        "# print(rfm['RFM_Score'].unique())\n",
        "# rfm[rfm['RFM_segment'] == '333'].head(20)"
      ]
    },
    {
      "cell_type": "code",
      "execution_count": null,
      "metadata": {
        "id": "cfFoIroYW_40"
      },
      "outputs": [],
      "source": [
        "# 중요도에 따라 rfm_level 함수를 정의하는 함수 생성.\n",
        "# 사분위로 등급을 나눔\n",
        "# 50%까지는 4Silver\n",
        "# 50~75% 사이는 3Gold\n",
        "# 75~99% 사이는 2Platinum\n",
        "# 100% 즉, Max만 1Royal\n",
        "\n",
        "def rfm_level(df):\n",
        "    if df['RFM_Score'] >= 4:\n",
        "        return 'Royal'\n",
        "    elif ((df['RFM_Score'] >= 3.0) and (df['RFM_Score'] < 4)):\n",
        "        return 'Platinum'\n",
        "    elif ((df['RFM_Score'] >= 2.0) and (df['RFM_Score'] < 3.0)):\n",
        "        return 'Gold'\n",
        "    elif ((df['RFM_Score'] >= 1) and (df['RFM_Score'] < 2.0)):\n",
        "        return 'Silver'\n",
        "#     else:\n",
        "#         return\n",
        "\n",
        "# 새 변수 RFM_Level 생성\n",
        "rfm['RFM_Level'] = rfm.apply(rfm_level, axis=1)\n",
        "rfm.head(30)"
      ]
    },
    {
      "cell_type": "code",
      "execution_count": null,
      "metadata": {
        "id": "LtAhaqBAW_40"
      },
      "outputs": [],
      "source": [
        "rfm['RFM_Level'].value_counts().plot(kind = 'bar', figsize = (10, 5), color = 'skyblue')\n",
        "# plt.title('Customer Distribution Across Different RFM levels', fontsize = 15)\n",
        "plt.xticks(rotation = 0)\n",
        "plt.grid(False)\n",
        "plt.show()"
      ]
    },
    {
      "cell_type": "code",
      "execution_count": null,
      "metadata": {
        "id": "ryXX_Tg8W_40"
      },
      "outputs": [],
      "source": [
        "merge1 = pd.read_excel('merge1.xlsx')\n",
        "merge1"
      ]
    },
    {
      "cell_type": "code",
      "execution_count": null,
      "metadata": {
        "id": "G1vnB-RdW_40"
      },
      "outputs": [],
      "source": [
        "sales = merge1[merge1['customer_id'] != 'C355132']"
      ]
    },
    {
      "cell_type": "code",
      "execution_count": null,
      "metadata": {
        "id": "gX_c4C4dW_40"
      },
      "outputs": [],
      "source": [
        "sales.set_index('customer_id', inplace = True)"
      ]
    },
    {
      "cell_type": "code",
      "execution_count": null,
      "metadata": {
        "id": "jpLPR-vrW_40"
      },
      "outputs": [],
      "source": [
        "rfm['purchase_amt'] = sales['purchase_amt']\n",
        "rfm.info()"
      ]
    },
    {
      "cell_type": "code",
      "execution_count": null,
      "metadata": {
        "id": "sbsjLOqiW_40"
      },
      "outputs": [],
      "source": [
        "RFM_total = pd.DataFrame()\n",
        "\n",
        "RFM_total['level'] = rfm['RFM_Level']\n",
        "RFM_total['price'] = rfm['purchase_amt']\n",
        "RFM_total.count()"
      ]
    },
    {
      "cell_type": "markdown",
      "metadata": {
        "id": "LVqfLAbwW_40"
      },
      "source": [
        "### Step5-1. 회원분류 재분류 전 지표"
      ]
    },
    {
      "cell_type": "code",
      "execution_count": null,
      "metadata": {
        "id": "kQHyfwPxW_40"
      },
      "outputs": [],
      "source": [
        "change = pd.DataFrame()\n",
        "change['count'] = sales['customer_grade'].value_counts()\n",
        "change['mean'] = sales.groupby(['customer_grade'])['purchase_amt'].agg('mean').round(1)\n",
        "\n",
        "\n",
        "change\n",
        "\n",
        "# (1,540 * 24,365) + (751 * 40,081) + (371 * 12,140) + (92 * 106,696) = 81,942,903원"
      ]
    },
    {
      "cell_type": "markdown",
      "metadata": {
        "id": "OwIiyzcDW_40"
      },
      "source": [
        "### Step5-2. 회원등급 재분류 후의 지표"
      ]
    },
    {
      "cell_type": "code",
      "execution_count": null,
      "metadata": {
        "id": "HYcmCuEgW_40"
      },
      "outputs": [],
      "source": [
        "level_price = pd.DataFrame()\n",
        "level_price['count'] = rfm['RFM_Level'].value_counts()\n",
        "level_price['mean'] = RFM_total.groupby(['level'])['price'].agg('mean').round(1)\n",
        "\n",
        "level_price\n",
        "\n",
        "# (955 * 12,140) + (742 * 24,365) + (663 * 40,081) + (395 * 106,696) = 98,391,153원"
      ]
    },
    {
      "cell_type": "markdown",
      "metadata": {
        "id": "Q-27gJg3W_40"
      },
      "source": [
        "- 재분류 전 매출 - 재분류 후 매출 = 99,590,903원 - 81,942,903원 = 16,448,250원"
      ]
    },
    {
      "cell_type": "markdown",
      "metadata": {
        "id": "KQQIjnDXW_40"
      },
      "source": [
        "- Royal 등급 매출 차익 = 42,145,236 - 9,816,105 = 32,329,131원"
      ]
    },
    {
      "cell_type": "markdown",
      "metadata": {
        "id": "gZM7-fVbW_40"
      },
      "source": [
        "### Step5-3. K-means"
      ]
    },
    {
      "cell_type": "code",
      "execution_count": null,
      "metadata": {
        "id": "oW82cVE-W_40"
      },
      "outputs": [],
      "source": [
        "merge_df['customer_id'] = '/' + merge_df['customer_id'].astype(str)"
      ]
    },
    {
      "cell_type": "code",
      "execution_count": null,
      "metadata": {
        "id": "LQOBvNWVW_41"
      },
      "outputs": [],
      "source": [
        "merge_df['customer_id'] = merge_df['customer_id'].str.extract('(\\d+)', expand = False)"
      ]
    },
    {
      "cell_type": "code",
      "execution_count": null,
      "metadata": {
        "id": "jlAsl6znW_41"
      },
      "outputs": [],
      "source": [
        "print(merge_df)"
      ]
    },
    {
      "cell_type": "code",
      "execution_count": null,
      "metadata": {
        "id": "JlTJXlZ0W_41"
      },
      "outputs": [],
      "source": [
        "cols = ['customer_id','purchase_amt']\n",
        "x_merge_df = merge_df[cols]\n",
        "\n",
        "sc = StandardScaler()\n",
        "x_merge_df_scaled = sc.fit_transform(x_merge_df)"
      ]
    },
    {
      "cell_type": "code",
      "execution_count": null,
      "metadata": {
        "id": "LknOEwibW_41"
      },
      "outputs": [],
      "source": [
        "wcss = []\n",
        "\n",
        "for i in range(1, 12):\n",
        "    \n",
        "    kmeans = KMeans(n_clusters = i, \n",
        "                    init       = 'k-means++', \n",
        "                    max_iter   = 300, \n",
        "                    n_init     = 10, \n",
        "                    random_state = 0)\n",
        "    \n",
        "    kmeans.fit(x_merge_df_scaled)\n",
        "    \n",
        "    wcss.append(kmeans.inertia_)"
      ]
    },
    {
      "cell_type": "code",
      "execution_count": null,
      "metadata": {
        "id": "VMBu8SS4W_41"
      },
      "outputs": [],
      "source": [
        "plt.plot(range(1, 12), wcss)\n",
        "plt.title('The elbow method')\n",
        "plt.xlabel('Number of clusters')\n",
        "plt.ylabel('purchase_amt') \n",
        "plt.show()"
      ]
    },
    {
      "cell_type": "code",
      "execution_count": null,
      "metadata": {
        "id": "8VnYzkMwW_41"
      },
      "outputs": [],
      "source": [
        "x_merge_df = merge_df[cols]\n",
        "x_merge_df_scaled = sc.fit_transform(x_merge_df)"
      ]
    },
    {
      "cell_type": "code",
      "execution_count": null,
      "metadata": {
        "id": "SxCXUK74W_41"
      },
      "outputs": [],
      "source": [
        "kmeans = KMeans(n_clusters = 4,  # optimum cluster\n",
        "                    init       = 'k-means++', \n",
        "                    max_iter   = 300, \n",
        "                    n_init     = 10, \n",
        "                    random_state = 0)\n",
        "\n",
        "y_pred = kmeans.fit_predict(x_merge_df_scaled)"
      ]
    },
    {
      "cell_type": "code",
      "execution_count": null,
      "metadata": {
        "id": "ZVOMwiURW_41"
      },
      "outputs": [],
      "source": [
        "merge_df['customer_id'] = y_pred\n",
        "y_pred_train = kmeans.fit_predict(x_merge_df_scaled)\n",
        "merge_df['customer_id'] = y_pred_train"
      ]
    },
    {
      "cell_type": "code",
      "execution_count": null,
      "metadata": {
        "id": "tPYOPeoVW_41"
      },
      "outputs": [],
      "source": [
        "merge_df['customer_id'].unique()\n",
        "merge_df['customer_id'].value_counts()"
      ]
    },
    {
      "cell_type": "markdown",
      "metadata": {
        "id": "mRNeEepNW_41"
      },
      "source": [
        "# -----------------------------------------------------------------------------------------------------------"
      ]
    },
    {
      "cell_type": "markdown",
      "metadata": {
        "id": "0UtuRBjjW_41"
      },
      "source": [
        "## Step6. 수요 예측"
      ]
    },
    {
      "cell_type": "markdown",
      "metadata": {
        "id": "UazofM3oW_41"
      },
      "source": [
        "### Step6-0. 모듈 불러오기"
      ]
    },
    {
      "cell_type": "code",
      "execution_count": null,
      "metadata": {
        "id": "fJQmxzlFW_41"
      },
      "outputs": [],
      "source": [
        "import pandas as pd\n",
        "import numpy as np\n",
        "from mlxtend.preprocessing import TransactionEncoder\n",
        "from mlxtend.frequent_patterns import apriori\n",
        "from mlxtend.frequent_patterns import association_rules"
      ]
    },
    {
      "cell_type": "code",
      "execution_count": null,
      "metadata": {
        "id": "pB4Ens2mW_41"
      },
      "outputs": [],
      "source": [
        "df_raw1 = pd.read_csv(\"jeju_sales.csv\", parse_dates=['purchase_date','supply_date'])\n",
        "df_raw1.head()"
      ]
    },
    {
      "cell_type": "code",
      "execution_count": null,
      "metadata": {
        "id": "h5ClBUcGW_41"
      },
      "outputs": [],
      "source": [
        "df_raw_customerID=df_raw1.filter(['purchase_date','item_g_m','purchase_cnt'])\n",
        "df_raw_customerID"
      ]
    },
    {
      "cell_type": "code",
      "execution_count": null,
      "metadata": {
        "id": "0PdSXSWHW_41"
      },
      "outputs": [],
      "source": [
        "df_q = df_raw_customerID.query('item_g_m==\"과자\"')\n",
        "# display_side_by_side(df_raw_customerID, df_q)\n",
        "df_q"
      ]
    },
    {
      "cell_type": "code",
      "execution_count": null,
      "metadata": {
        "id": "v7QUwFSzW_41"
      },
      "outputs": [],
      "source": [
        "df_sample= df_q.drop(['item_g_m'], axis = 1)"
      ]
    },
    {
      "cell_type": "code",
      "execution_count": null,
      "metadata": {
        "id": "EGsmkZi9W_41"
      },
      "outputs": [],
      "source": [
        "df_sample.head()"
      ]
    },
    {
      "cell_type": "code",
      "execution_count": null,
      "metadata": {
        "id": "6NyvVsQsW_41"
      },
      "outputs": [],
      "source": [
        "df_sample['purchase_date']=pd.to_datetime(df_sample['purchase_date'])"
      ]
    },
    {
      "cell_type": "code",
      "execution_count": null,
      "metadata": {
        "id": "3J1Sl_23W_41"
      },
      "outputs": [],
      "source": [
        "df_sample.info()"
      ]
    },
    {
      "cell_type": "code",
      "execution_count": null,
      "metadata": {
        "id": "r-XdoGbIW_41"
      },
      "outputs": [],
      "source": [
        "# df_rs = df_sample.reset_index().set_index('purchase_date')\n",
        "df_rs = df_sample.set_index(keys=['purchase_date'], inplace=False, drop=True)"
      ]
    },
    {
      "cell_type": "markdown",
      "metadata": {
        "id": "5QrBT1X1W_42"
      },
      "source": [
        "### Step6-1. 월 별 과자 판매량"
      ]
    },
    {
      "cell_type": "code",
      "execution_count": null,
      "metadata": {
        "id": "ctoYSQgCW_42"
      },
      "outputs": [],
      "source": [
        "# df_sample['purchase_date'].resample('1M').sum()\n",
        "real = df_rs.resample('W').sum()"
      ]
    },
    {
      "cell_type": "code",
      "execution_count": null,
      "metadata": {
        "id": "P6abMfNBW_42"
      },
      "outputs": [],
      "source": [
        "areal = real.reset_index()"
      ]
    },
    {
      "cell_type": "code",
      "execution_count": null,
      "metadata": {
        "id": "juTLCs8gW_42"
      },
      "outputs": [],
      "source": [
        "snack = areal.rename({'purchase_date':'ds', 'purchase_cnt':'y'}, axis=1)\n",
        "snack"
      ]
    },
    {
      "cell_type": "code",
      "execution_count": null,
      "metadata": {
        "id": "G3gscAVbW_42"
      },
      "outputs": [],
      "source": [
        "from prophet import fbProphet"
      ]
    },
    {
      "cell_type": "markdown",
      "metadata": {
        "id": "Jbn73tXfW_42"
      },
      "source": [
        "### Step6-2. 정규화"
      ]
    },
    {
      "cell_type": "code",
      "execution_count": null,
      "metadata": {
        "id": "MhT3Wu5LW_42"
      },
      "outputs": [],
      "source": [
        "m = Prophet()\n",
        "m.fit(snack)"
      ]
    },
    {
      "cell_type": "code",
      "execution_count": null,
      "metadata": {
        "id": "n7IobRGdW_42"
      },
      "outputs": [],
      "source": [
        "# 120일 예측\n",
        "future = m.make_future_dataframe(periods=365)\n",
        "future.tail()"
      ]
    },
    {
      "cell_type": "code",
      "execution_count": null,
      "metadata": {
        "id": "2DJJ10QzW_42"
      },
      "outputs": [],
      "source": [
        "forecast = m.predict(future)\n",
        "forecast[['ds', 'yhat', 'yhat_lower', 'yhat_upper']].tail()"
      ]
    },
    {
      "cell_type": "code",
      "execution_count": null,
      "metadata": {
        "id": "9B3OEY-xW_42"
      },
      "outputs": [],
      "source": [
        "fig = m.plot(forecast)"
      ]
    },
    {
      "cell_type": "code",
      "execution_count": null,
      "metadata": {
        "id": "tJhkeNO8W_42"
      },
      "outputs": [],
      "source": [
        "fig2 = m.plot_components(forecast)"
      ]
    },
    {
      "cell_type": "markdown",
      "metadata": {
        "id": "mSBqi0_QW_42"
      },
      "source": [
        "### Step6-3. 트렌드 변화시점을 명시"
      ]
    },
    {
      "cell_type": "code",
      "execution_count": null,
      "metadata": {
        "id": "0EbK846sW_42"
      },
      "outputs": [],
      "source": [
        "from fbprophet.plot import add_changepoints_to_plot\n",
        "\n",
        "fig = m.plot(forecast)\n",
        "a = add_changepoints_to_plot(fig.gca(), m, forecast)"
      ]
    },
    {
      "cell_type": "code",
      "execution_count": null,
      "metadata": {
        "id": "fOiGl_vzW_42"
      },
      "outputs": [],
      "source": [
        "m = Prophet(changepoint_prior_scale=0.7)\n",
        "m.fit(snack)\n",
        "\n",
        "fig = m.plot(forecast)\n",
        "a = add_changepoints_to_plot(fig.gca(), m, forecast)"
      ]
    },
    {
      "cell_type": "code",
      "execution_count": null,
      "metadata": {
        "id": "lKvMjoEAW_42"
      },
      "outputs": [],
      "source": [
        "m = Prophet(\n",
        "    # trend\n",
        "    changepoint_prior_scale=0.7,\n",
        "    # seasonality\n",
        "    weekly_seasonality=20,\n",
        "    yearly_seasonality=20,\n",
        "    daily_seasonality=False,\n",
        "    seasonality_mode='multiplicative'\n",
        ")\n",
        "\n",
        "m.fit(snack)\n",
        "fig4 = m.plot(forecast)"
      ]
    },
    {
      "cell_type": "code",
      "execution_count": null,
      "metadata": {
        "id": "9b6NDLb8W_42"
      },
      "outputs": [],
      "source": [
        "fig = m.plot_components(forecast)"
      ]
    },
    {
      "cell_type": "markdown",
      "metadata": {
        "id": "V3uHrRvUW_42"
      },
      "source": [
        "## Step7. 유통 연관규칙(대분류)"
      ]
    },
    {
      "cell_type": "code",
      "execution_count": null,
      "metadata": {
        "id": "IZdQyfHBW_42"
      },
      "outputs": [],
      "source": [
        "import pandas as pd\n",
        "import numpy as np\n",
        "from mlxtend.preprocessing import TransactionEncoder\n",
        "from mlxtend.frequent_patterns import apriori\n",
        "from mlxtend.frequent_patterns import association_rules"
      ]
    },
    {
      "cell_type": "code",
      "execution_count": null,
      "metadata": {
        "id": "suvyk7_hW_42"
      },
      "outputs": [],
      "source": [
        "df_raw = pd.read_csv(\"jeju_member.csv\")\n",
        "df_raw.head() #member_csv를 읽어옴"
      ]
    },
    {
      "cell_type": "code",
      "execution_count": null,
      "metadata": {
        "id": "af7ONra0W_42"
      },
      "outputs": [],
      "source": [
        "df_raw1 = pd.read_csv(\"jeju_sales.csv\", parse_dates=['purchase_date','supply_date'])\n",
        "df_raw1.head() #sales_csv를 읽어옴"
      ]
    },
    {
      "cell_type": "code",
      "execution_count": null,
      "metadata": {
        "id": "3XRKuSUsW_42"
      },
      "outputs": [],
      "source": [
        "merge_df = pd.merge(df_raw, df_raw1, how='left', on='customer_id')\n",
        "merge_df #member,sales를 병합함"
      ]
    },
    {
      "cell_type": "code",
      "execution_count": null,
      "metadata": {
        "id": "1Tu6Fev7W_43"
      },
      "outputs": [],
      "source": [
        "# offline-online 파생변수 생성\n",
        "def make_onoff(data):\n",
        "    if data[\"gaip_path\"] == \"매장\": # '매장' 일 경우\n",
        "        return \"offline\"\n",
        "    else: # '매장' 외 나머지 일 경우\n",
        "        return \"online\"\n",
        "\n",
        "merge_df[\"ON_OFF\"] = merge_df.apply(make_onoff, axis=1) # 'make_onoff' 함수를 돌리면서 파생변수 'ON_OFF' 생성\n",
        "merge_df[\"ON_OFF\"].value_counts() # 'offline'과 'online' 개수 카운팅"
      ]
    },
    {
      "cell_type": "code",
      "execution_count": null,
      "metadata": {
        "id": "RNblFA7nW_43"
      },
      "outputs": [],
      "source": [
        "merge_df.head() #파생변수 생성 확인"
      ]
    },
    {
      "cell_type": "code",
      "execution_count": null,
      "metadata": {
        "id": "K6g1oKgZW_43"
      },
      "outputs": [],
      "source": [
        "df_onoff = merge_df.filter(['ON_OFF'])\n",
        "df_onoff #온라인/오프라인 열 보여줌"
      ]
    },
    {
      "cell_type": "code",
      "execution_count": null,
      "metadata": {
        "id": "ivjBdEluW_43"
      },
      "outputs": [],
      "source": [
        "df_onoff_new = df_onoff.groupby('ON_OFF', as_index=False).agg(','.join)\n",
        "df_onoff_new #온라인/오프라인 그룹화함"
      ]
    },
    {
      "cell_type": "code",
      "execution_count": null,
      "metadata": {
        "id": "lvEf92MkW_43"
      },
      "outputs": [],
      "source": [
        "df_raw_customerID=merge_df.filter(['purchase_id','item_g_l'])\n",
        "df_raw_customerID #구매아이디/항목(대분류) 열 보여줌"
      ]
    },
    {
      "cell_type": "code",
      "execution_count": null,
      "metadata": {
        "id": "OK36UE1nW_43"
      },
      "outputs": [],
      "source": [
        "df_raw_customerID_new=df_raw_customerID.groupby('purchase_id', as_index=False).agg(','.join)\n",
        "df_raw_customerID_new #구매아이디 기준으로 그룹화 해서 보여줌"
      ]
    },
    {
      "cell_type": "markdown",
      "metadata": {
        "id": "OilayVFLW_43"
      },
      "source": [
        "### Step7-1. 대분류"
      ]
    },
    {
      "cell_type": "code",
      "execution_count": null,
      "metadata": {
        "id": "QIeV9V5eW_43"
      },
      "outputs": [],
      "source": [
        "merge_df1 = df_raw_customerID_new.loc[:,'item_g_l']"
      ]
    },
    {
      "cell_type": "code",
      "execution_count": null,
      "metadata": {
        "id": "LEXRBvrAW_43"
      },
      "outputs": [],
      "source": [
        "merge_df1 #항목(대분류) 보여줌"
      ]
    },
    {
      "cell_type": "code",
      "execution_count": null,
      "metadata": {
        "id": "07hVMFq2W_43"
      },
      "outputs": [],
      "source": [
        "my_list = []\n",
        "tem_list = []"
      ]
    },
    {
      "cell_type": "code",
      "execution_count": null,
      "metadata": {
        "id": "aIQYRmvkW_43"
      },
      "outputs": [],
      "source": [
        "for index in range(len(merge_df1)):\n",
        "    tem_list.append(merge_df1[index])\n",
        "    my_list.append(tem_list)\n",
        "    tem_list = []\n",
        "# print(df1[1])\n",
        "# for index in range(len(df1)):\n",
        "#     tem_list.append(df1[index])\n",
        "#     my_list.append(tem_list)\n",
        "#     tem_list = []"
      ]
    },
    {
      "cell_type": "code",
      "execution_count": null,
      "metadata": {
        "id": "ecVEbzwmW_43"
      },
      "outputs": [],
      "source": [
        "my_list #merge_df1 즉,항목(대분류)를 리스트로 만듦"
      ]
    },
    {
      "cell_type": "code",
      "execution_count": null,
      "metadata": {
        "id": "hsK7rrBBW_43"
      },
      "outputs": [],
      "source": [
        "# 리스트 내의 중복 제거\n",
        "small_list = my_list[0][0].split(\",\")\n",
        "my_dict = {}\n",
        "\n",
        "for data in small_list:\n",
        "    if data in my_dict:\n",
        "        my_dict[data] = 1\n",
        "    else:\n",
        "        my_dict[data] = 1\n",
        "        \n",
        "print(my_dict)\n",
        "\n"
      ]
    },
    {
      "cell_type": "code",
      "execution_count": null,
      "metadata": {
        "id": "rdPJ9IM6W_43"
      },
      "outputs": [],
      "source": [
        "# 리스트 내의 중복 제거\n",
        "small_list = my_list[1][0].split(\",\")\n",
        "my_dict = {}\n",
        "\n",
        "for data in small_list:\n",
        "    if data in my_dict:\n",
        "        my_dict[data] = 1\n",
        "    else:\n",
        "        my_dict[data] = 1\n",
        "        \n",
        "print(my_dict)\n",
        "\n"
      ]
    },
    {
      "cell_type": "code",
      "execution_count": null,
      "metadata": {
        "id": "dHxKcX_WW_43"
      },
      "outputs": [],
      "source": [
        "# 리스트 내의 중복 제거\n",
        "del_list = []\n",
        "sum_list = []\n",
        "for index in range(len(my_list)):\n",
        "    small_list = my_list[index][0].split(\",\")\n",
        "    my_dict = {}\n",
        "    \n",
        "    for data in small_list:\n",
        "        if data in my_dict:\n",
        "            my_dict[data] = 1\n",
        "        else:\n",
        "            my_dict[data] = 1\n",
        "    \n",
        "    for dict_key in my_dict.keys():\n",
        "        del_list.append(dict_key)\n",
        "    \n",
        "    sum_list.append(del_list)\n",
        "    del_list = []\n",
        "    \n",
        "sum_list"
      ]
    },
    {
      "cell_type": "code",
      "execution_count": null,
      "metadata": {
        "id": "hDUkAe-iW_43"
      },
      "outputs": [],
      "source": [
        "te = TransactionEncoder() #데이터 형태 트랜젝션 모양으로 가공\n",
        "te_result = te.fit(sum_list).transform(sum_list)"
      ]
    },
    {
      "cell_type": "code",
      "execution_count": null,
      "metadata": {
        "id": "Gt38TaosW_43"
      },
      "outputs": [],
      "source": [
        "te_result"
      ]
    },
    {
      "cell_type": "code",
      "execution_count": null,
      "metadata": {
        "id": "87Ph-Za2W_43"
      },
      "outputs": [],
      "source": [
        "df_asso = pd.DataFrame(te_result, columns = te.columns_) #데이터 프레임 형태로 나타냄\n",
        "df_asso"
      ]
    },
    {
      "cell_type": "code",
      "execution_count": null,
      "metadata": {
        "id": "dfeRfpmYW_43"
      },
      "outputs": [],
      "source": [
        "v_min_sup = 0.3\n",
        "df_freq = apriori(df_asso, min_support = v_min_sup, use_colnames = True)\n",
        "df_freq.round(3)\n",
        "# 간식,채소의 지지도가 0.5 이상임을 알수있다.\n",
        "# 즉, 이 둘이 다른항목 구매시 함께 등장할 확률이 높다."
      ]
    },
    {
      "cell_type": "code",
      "execution_count": null,
      "metadata": {
        "id": "7mOhw-nRW_44"
      },
      "outputs": [],
      "source": [
        "# df_freq[df_freq['itemsets'].apply(lambda x: '간식' in list(x))]"
      ]
    },
    {
      "cell_type": "code",
      "execution_count": null,
      "metadata": {
        "id": "nyAiGavaW_44"
      },
      "outputs": [],
      "source": [
        "df_asso_rule = association_rules(df_freq, metric = 'lift',min_threshold = 0.5)\n",
        "print(df_asso_rule)\n",
        "#지지도가 0.5 이상인 항목에 대해 양의 상관관계가 있는지 알아봄"
      ]
    },
    {
      "cell_type": "markdown",
      "metadata": {
        "id": "lyaj2byfW_44"
      },
      "source": [
        "### Step7-2. 연/월 별 구매 금액"
      ]
    },
    {
      "cell_type": "code",
      "execution_count": null,
      "metadata": {
        "id": "MEksABmqW_44"
      },
      "outputs": [],
      "source": [
        "df= pd.read_csv(\"jeju_sales.csv\", parse_dates=['purchase_date','supply_date'])\n",
        "df.info()\n",
        "df['purchase_yearmonth']\n",
        "df"
      ]
    },
    {
      "cell_type": "code",
      "execution_count": null,
      "metadata": {
        "id": "u4HWsgKdW_44"
      },
      "outputs": [],
      "source": [
        "yearmonth =[]\n",
        "yearmonth = df.purchase_yearmonth\n",
        "year=[]\n",
        "month=[]\n",
        "\n",
        "for i in range(len(yearmonth)):\n",
        "#     print(yearmonth[i])\n",
        "    y, m = (yearmonth[i].split(\"M\"))\n",
        "    year.append(y)\n",
        "    month.append(m)\n",
        "df['year']=year\n",
        "df['month']=month"
      ]
    },
    {
      "cell_type": "code",
      "execution_count": null,
      "metadata": {
        "id": "qhvPkSBRW_44"
      },
      "outputs": [],
      "source": [
        "df_month=df.filter(['month','purchase_amt'])\n",
        "df_month"
      ]
    },
    {
      "cell_type": "code",
      "execution_count": null,
      "metadata": {
        "id": "Q0saMcwrW_44"
      },
      "outputs": [],
      "source": [
        "df_month_new=df_month.groupby('month').max()\n",
        "df_month_new"
      ]
    },
    {
      "cell_type": "code",
      "execution_count": null,
      "metadata": {
        "id": "9AUhInx-W_44"
      },
      "outputs": [],
      "source": [
        "df_year=df.filter(['year','purchase_amt'])\n",
        "df_year"
      ]
    },
    {
      "cell_type": "code",
      "execution_count": null,
      "metadata": {
        "id": "KgMFe1hhW_44"
      },
      "outputs": [],
      "source": [
        "df_year_new=df_year.groupby('year').max()\n",
        "df_year_new"
      ]
    },
    {
      "cell_type": "markdown",
      "metadata": {
        "id": "Cs1pOgTDW_44"
      },
      "source": [
        "### Step7-3. 이벤트별 분석"
      ]
    },
    {
      "cell_type": "code",
      "execution_count": null,
      "metadata": {
        "id": "Y1RhUrv8W_44"
      },
      "outputs": [],
      "source": [
        "import pandas as pd\n",
        "import numpy as np\n",
        "import warnings\n",
        "warnings.filterwarnings(action='ignore')\n",
        "import matplotlib\n",
        "import matplotlib.pyplot as plt\n",
        "\n",
        "from mlxtend.preprocessing import TransactionEncoder\n",
        "from mlxtend.frequent_patterns import apriori\n",
        "from mlxtend.frequent_patterns import association_rules\n",
        "from matplotlib import font_manager, rc\n",
        "font_path = \"C:/Windows/Fonts/NGULIM.TTF\"\n",
        "font = font_manager.FontProperties(fname=font_path).get_name()\n",
        "rc('font', family=font)"
      ]
    },
    {
      "cell_type": "code",
      "execution_count": null,
      "metadata": {
        "id": "wuiwfr4uW_44"
      },
      "outputs": [],
      "source": [
        "df= pd.read_csv(\"jeju_sales.csv\", parse_dates=['purchase_date','supply_date'])\n",
        "# df= pd.read_csv(\"jeju_sales.csv\")\n",
        "df.info()"
      ]
    },
    {
      "cell_type": "code",
      "execution_count": null,
      "metadata": {
        "id": "5tIj0hIOW_44"
      },
      "outputs": [],
      "source": [
        "# # df2 = df.loc[:,'item_g_s']\n",
        "# df2 = df.loc[:,'purchase_date']\n",
        "# df2"
      ]
    },
    {
      "cell_type": "code",
      "execution_count": null,
      "metadata": {
        "id": "0JiB_i0wW_44"
      },
      "outputs": [],
      "source": [
        "df.set_index('purchase_date', inplace = True)\n",
        "df['month']=df.index.month \n",
        "month= df.month\n",
        "event=[]\n",
        "\n",
        "for _ in range(len(month)):\n",
        "    if month[_] == 2:\n",
        "        event.append('newyear')\n",
        "\n",
        "    elif month[_] == 9:\n",
        "        event.append('Thanksgiving')\n",
        "\n",
        "    elif month[_] == 11:\n",
        "        event.append('sat')\n",
        "\n",
        "    else:\n",
        "        event.append('nonevent')\n",
        "\n",
        "df['event'] = event\n",
        "\n",
        "ny=df['event']"
      ]
    },
    {
      "cell_type": "code",
      "execution_count": null,
      "metadata": {
        "id": "KLp4b7heW_44"
      },
      "outputs": [],
      "source": [
        "plt.hist(df[df['event']== 'newyear'][\"item_g_s\"], label=\"설\", alpha=0.4)\n",
        "plt.hist(df[df['event']== 'Thanksgiving'][\"item_g_s\"], label=\"추석\", alpha=0.3)\n",
        "plt.hist(df[df['event']== 'sat'][\"item_g_s\"], label=\"수능\", alpha=0.1)\n",
        "plt.hist(df[df['event']== 'nonevent'][\"item_g_s\"], label=\"X\", alpha=0.4)\n",
        "plt.legend()"
      ]
    },
    {
      "cell_type": "code",
      "execution_count": null,
      "metadata": {
        "id": "2OFA2EHBW_44"
      },
      "outputs": [],
      "source": [
        "plt.hist(df[df['event']== 'newyear'][\"item_g_l\"], label=\"설\", alpha=1) #4\n",
        "plt.hist(df[df['event']== 'Thanksgiving'][\"item_g_l\"], label=\"추석\", alpha=0.5)#2\n",
        "plt.hist(df[df['event']== 'sat'][\"item_g_l\"], label=\"수능\", alpha=0.3) #3\n",
        "plt.hist(df[df['event']== 'nonevent'][\"item_g_l\"], label=\"X\", alpha=0.1) #1\n",
        "plt.legend()"
      ]
    },
    {
      "cell_type": "markdown",
      "metadata": {
        "id": "ObrQCtdnW_44"
      },
      "source": [
        "### Step7-4. 탈퇴율과 매출의 비교"
      ]
    },
    {
      "cell_type": "code",
      "execution_count": null,
      "metadata": {
        "id": "nDly2oE_W_44"
      },
      "outputs": [],
      "source": [
        "merge_df = pd.merge(df_raw, df_raw1, how='left', on='customer_id')\n",
        "merge_df"
      ]
    },
    {
      "cell_type": "code",
      "execution_count": null,
      "metadata": {
        "id": "WMXPrknrW_44"
      },
      "outputs": [],
      "source": [
        "merge_df[\"flag_member\"]"
      ]
    },
    {
      "cell_type": "code",
      "execution_count": null,
      "metadata": {
        "id": "KPmWrrQaW_44"
      },
      "outputs": [],
      "source": [
        "df_raw_customerID=df_raw1.filter(['customer_id','purchase_amt'])\n",
        "df_raw_customerID"
      ]
    },
    {
      "cell_type": "code",
      "execution_count": null,
      "metadata": {
        "id": "nGomoMsmW_44"
      },
      "outputs": [],
      "source": [
        "df_raw_customerID_new=df_raw_customerID.groupby('customer_id').max()\n",
        "df_raw_customerID_new"
      ]
    },
    {
      "cell_type": "code",
      "execution_count": null,
      "metadata": {
        "id": "gGIgnIXQW_45"
      },
      "outputs": [],
      "source": [
        "# df_raw_customerID1=df_raw.filter(['customer_id','taltoi_date'])\n",
        "# df_raw_customerID1"
      ]
    },
    {
      "cell_type": "code",
      "execution_count": null,
      "metadata": {
        "id": "3md4gKujW_45"
      },
      "outputs": [],
      "source": [
        "#구매 년월 별 구매 총액\n",
        "month_total = []\n",
        "\n",
        "month_total = df_raw1.groupby(['purchase_yearmonth'])['purchase_amt'].agg('sum')\n",
        "month_total"
      ]
    },
    {
      "cell_type": "code",
      "execution_count": null,
      "metadata": {
        "id": "09LqIuUMW_45"
      },
      "outputs": [],
      "source": [
        "month_total = df_raw1.groupby(['year','month'])['purchase_amt'].agg('sum')\n",
        "\n",
        "df_raw1 = df_raw1.astype({'year' : 'str'}) \n",
        "df_raw1 = df_raw1.astype({'month' : 'str'})\n",
        "df_raw1['month'] = df_raw1[\"month\"].str.zfill(2) #month를 2자리로 나타내기 위해\n",
        "#str로 변환한 변수들을 합쳐서 새로운 변수 생성 - 시간 흐름을 보기 위해\n",
        "df_raw1['yearnmonth'] = df_raw1[['year', 'month']].agg(''.join, axis=1)\n",
        "\n",
        "df_raw1"
      ]
    },
    {
      "cell_type": "code",
      "execution_count": null,
      "metadata": {
        "id": "7B2oUbCvW_45"
      },
      "outputs": [],
      "source": [
        "#df_taltoi라는 새로운 DataFrame 생성, 기간 별 총액\n",
        "df_taltoi = pd.DataFrame()\n",
        "df_taltoi['month_total'] = df_raw1.groupby(['yearnmonth'])['purchase_amt'].agg('sum')\n",
        "df_taltoi"
      ]
    },
    {
      "cell_type": "code",
      "execution_count": null,
      "metadata": {
        "id": "T8UT6kpmW_45"
      },
      "outputs": [],
      "source": [
        "#기간 별 총매출액 그래프\n",
        "ax = df_taltoi['month_total'].plot()\n",
        "ax.tick_params(axis = 'x', rotation = 45)\n",
        "plt.show()"
      ]
    },
    {
      "cell_type": "code",
      "execution_count": null,
      "metadata": {
        "id": "ypzAAyTpW_45"
      },
      "outputs": [],
      "source": [
        "df_raw.taltoi_date "
      ]
    },
    {
      "cell_type": "code",
      "execution_count": null,
      "metadata": {
        "id": "QoNYy5cPW_45"
      },
      "outputs": [],
      "source": [
        "#NaT값을 버림\n",
        "df_taltoidate = df_raw[pd.notnull(df_raw['taltoi_date'])]\n",
        "df_taltoidate"
      ]
    },
    {
      "cell_type": "code",
      "execution_count": null,
      "metadata": {
        "id": "m8uSCnSVW_45"
      },
      "outputs": [],
      "source": [
        "#taltoi_date를 기준으로 정렬\n",
        "df_taltoidate_sorted_by_values = df_taltoidate.sort_values(by = 'taltoi_date', ascending = False)\n",
        "df_taltoidate_sorted_by_values"
      ]
    },
    {
      "cell_type": "code",
      "execution_count": null,
      "metadata": {
        "id": "GxDI8M_xW_45"
      },
      "outputs": [],
      "source": [
        "#taltoi_date 변수를 datetime 형으로 변환\n",
        "df_taltoidate['taltoi_date'] = pd.to_datetime(df_taltoidate['taltoi_date'])\n",
        "df_taltoidate.info()"
      ]
    },
    {
      "cell_type": "code",
      "execution_count": null,
      "metadata": {
        "id": "EYhiLbEXW_45"
      },
      "outputs": [],
      "source": [
        "df_taltoidate.set_index('taltoi_date', inplace = True)\n",
        "df_taltoidate['taltoiyear']=df_taltoidate.index.year \n",
        "df_taltoidate['taltoimonth'] = df_taltoidate.index.month\n",
        "year = df_taltoidate.taltoiyear\n",
        "month = df_taltoidate.taltoimonth"
      ]
    },
    {
      "cell_type": "code",
      "execution_count": null,
      "metadata": {
        "id": "-AzxeymnW_45"
      },
      "outputs": [],
      "source": [
        "#2018년 이전의 탈퇴데이터는 필요 없으므로 버린다.\n",
        "taltoibefore = df_taltoidate[df_taltoidate['taltoiyear'] < 2018 ].index\n",
        "taltoi_members = df_taltoidate.drop(taltoibefore)\n",
        "taltoi_members"
      ]
    },
    {
      "cell_type": "code",
      "execution_count": null,
      "metadata": {
        "id": "3XGEUjLYW_45"
      },
      "outputs": [],
      "source": [
        "taltoi_members = taltoi_members.astype({'taltoiyear' : 'str'})\n",
        "taltoi_members = taltoi_members.astype({'taltoimonth' : 'str'})\n",
        "taltoi_members['taltoimonth'] = taltoi_members[\"taltoimonth\"].str.zfill(2)\n",
        "#str로 변환한 변수들을 합쳐서 새로운 변수 생성 - 시간 흐름을 보기 위해\n",
        "taltoi_members['yearnmonth'] = taltoi_members[['taltoiyear', 'taltoimonth']].agg(''.join, axis=1)\n",
        "\n",
        "taltoi_members"
      ]
    },
    {
      "cell_type": "code",
      "execution_count": null,
      "metadata": {
        "id": "0sh4-vggW_45"
      },
      "outputs": [],
      "source": [
        "#같은 기간 내에 탈퇴한 인원수의 합\n",
        "members_num = taltoi_members['yearnmonth'].value_counts()\n",
        "members_num"
      ]
    },
    {
      "cell_type": "code",
      "execution_count": null,
      "metadata": {
        "id": "VfPGMa-nW_45"
      },
      "outputs": [],
      "source": [
        "#dataFrame에 변수 추가\n",
        "df_taltoi['members_num'] =  taltoi_members['yearnmonth'].value_counts()\n",
        "df_taltoi"
      ]
    },
    {
      "cell_type": "code",
      "execution_count": null,
      "metadata": {
        "id": "KI8bnIVqW_45"
      },
      "outputs": [],
      "source": [
        "#탈퇴 인원수에 대한 그래프\n",
        "ax = df_taltoi['members_num'].plot()\n",
        "ax.tick_params(axis = 'x', rotation = 45)\n",
        "\n",
        "plt.show()"
      ]
    },
    {
      "cell_type": "code",
      "execution_count": null,
      "metadata": {
        "id": "BGk_RbGoW_45"
      },
      "outputs": [],
      "source": [
        "# Insight\n",
        "# 2018년 2월에는 탈퇴한 인원이 가장 많았고 매출 또한 전 달에 비해 매우 감소하였다.\n",
        "# 그 뒤로 탈퇴자 수는 감소하는 추세를 보였고 매출은 증가하였다\n",
        "# 2018년 9월 최고 매출을 기록하였으나 그 뒤로 매출은 계속 감소하였고 탈퇴 회원수 또한 줄어들었다.\n",
        "# 2019년 5월에는 적은 탈퇴 인원 수를 보였고 그 전 달과 비교하여 매출이 증가하였다.\n",
        "# 2019년 9월 이후에는 탈퇴 인원이 증가했고 이와 반대로 매출은 점점 감소하는 것을 알 수 있다."
      ]
    },
    {
      "cell_type": "code",
      "execution_count": null,
      "metadata": {
        "id": "qPEbYFIyW_45"
      },
      "outputs": [],
      "source": []
    }
  ],
  "metadata": {
    "kernelspec": {
      "display_name": "Python 3",
      "language": "python",
      "name": "python3"
    },
    "language_info": {
      "codemirror_mode": {
        "name": "ipython",
        "version": 3
      },
      "file_extension": ".py",
      "mimetype": "text/x-python",
      "name": "python",
      "nbconvert_exporter": "python",
      "pygments_lexer": "ipython3",
      "version": "3.7.6"
    },
    "colab": {
      "provenance": []
    }
  },
  "nbformat": 4,
  "nbformat_minor": 0
}